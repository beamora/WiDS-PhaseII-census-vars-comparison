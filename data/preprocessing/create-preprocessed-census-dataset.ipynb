{
 "cells": [
  {
   "cell_type": "code",
   "execution_count": 1,
   "id": "c44e8576",
   "metadata": {
    "execution": {
     "iopub.execute_input": "2022-08-02T15:34:29.578549Z",
     "iopub.status.busy": "2022-08-02T15:34:29.578037Z",
     "iopub.status.idle": "2022-08-02T15:34:29.591611Z",
     "shell.execute_reply": "2022-08-02T15:34:29.590259Z"
    },
    "papermill": {
     "duration": 0.044113,
     "end_time": "2022-08-02T15:34:29.594353",
     "exception": false,
     "start_time": "2022-08-02T15:34:29.550240",
     "status": "completed"
    },
    "tags": []
   },
   "outputs": [],
   "source": [
    "import pandas as pd\n",
    "import matplotlib.pyplot as plt"
   ]
  },
  {
   "cell_type": "code",
   "execution_count": 2,
   "id": "d7567362",
   "metadata": {
    "execution": {
     "iopub.execute_input": "2022-08-02T15:34:29.647892Z",
     "iopub.status.busy": "2022-08-02T15:34:29.647601Z",
     "iopub.status.idle": "2022-08-02T15:34:29.652660Z",
     "shell.execute_reply": "2022-08-02T15:34:29.651278Z"
    },
    "papermill": {
     "duration": 0.033716,
     "end_time": "2022-08-02T15:34:29.655337",
     "exception": false,
     "start_time": "2022-08-02T15:34:29.621621",
     "status": "completed"
    },
    "tags": []
   },
   "outputs": [],
   "source": [
    "cols = [\"CHFL\", \"IRIS\", \"CMBL\", \"NPERR\", \"STATR\",\"NENFR\",\"NE3FR\", \"CS1\"]"
   ]
  },
  {
   "cell_type": "code",
   "execution_count": 3,
   "id": "c29dd81e",
   "metadata": {
    "execution": {
     "iopub.execute_input": "2022-08-02T15:34:29.708853Z",
     "iopub.status.busy": "2022-08-02T15:34:29.708550Z",
     "iopub.status.idle": "2022-08-02T15:36:14.944290Z",
     "shell.execute_reply": "2022-08-02T15:36:14.942751Z"
    },
    "papermill": {
     "duration": 105.267596,
     "end_time": "2022-08-02T15:36:14.947761",
     "exception": false,
     "start_time": "2022-08-02T15:34:29.680165",
     "status": "completed"
    },
    "tags": []
   },
   "outputs": [
    {
     "name": "stderr",
     "output_type": "stream",
     "text": [
      "/opt/conda/lib/python3.7/site-packages/IPython/core/interactiveshell.py:3524: DtypeWarning: Columns (19,22,47,63) have mixed types.Specify dtype option on import or set low_memory=False.\n",
      "  exec(code_obj, self.user_global_ns, self.user_ns)\n"
     ]
    }
   ],
   "source": [
    "df = pd.read_csv(\"../input/original-census/FD_INDCVI_2018.csv\", delimiter=\";\", usecols=cols)"
   ]
  },
  {
   "cell_type": "code",
   "execution_count": 4,
   "id": "e686865a",
   "metadata": {
    "execution": {
     "iopub.execute_input": "2022-08-02T15:36:15.004514Z",
     "iopub.status.busy": "2022-08-02T15:36:15.003668Z",
     "iopub.status.idle": "2022-08-02T15:36:39.910337Z",
     "shell.execute_reply": "2022-08-02T15:36:39.909182Z"
    },
    "papermill": {
     "duration": 24.939934,
     "end_time": "2022-08-02T15:36:39.913503",
     "exception": false,
     "start_time": "2022-08-02T15:36:14.973569",
     "status": "completed"
    },
    "tags": []
   },
   "outputs": [],
   "source": [
    "for i in cols:\n",
    "    df[i]=df[i].astype(\"str\")"
   ]
  },
  {
   "cell_type": "code",
   "execution_count": 5,
   "id": "0e58af9a",
   "metadata": {
    "execution": {
     "iopub.execute_input": "2022-08-02T15:36:39.964279Z",
     "iopub.status.busy": "2022-08-02T15:36:39.963987Z",
     "iopub.status.idle": "2022-08-02T15:36:39.968689Z",
     "shell.execute_reply": "2022-08-02T15:36:39.967719Z"
    },
    "papermill": {
     "duration": 0.033034,
     "end_time": "2022-08-02T15:36:39.970775",
     "exception": false,
     "start_time": "2022-08-02T15:36:39.937741",
     "status": "completed"
    },
    "tags": []
   },
   "outputs": [],
   "source": [
    "#df[cols].to_csv(\"CENSUS_SHORT.csv\", index=False)"
   ]
  },
  {
   "cell_type": "code",
   "execution_count": 6,
   "id": "65b6e7b2",
   "metadata": {
    "execution": {
     "iopub.execute_input": "2022-08-02T15:36:40.026127Z",
     "iopub.status.busy": "2022-08-02T15:36:40.025510Z",
     "iopub.status.idle": "2022-08-02T15:36:42.763773Z",
     "shell.execute_reply": "2022-08-02T15:36:42.762761Z"
    },
    "papermill": {
     "duration": 2.77164,
     "end_time": "2022-08-02T15:36:42.766470",
     "exception": false,
     "start_time": "2022-08-02T15:36:39.994830",
     "status": "completed"
    },
    "tags": []
   },
   "outputs": [],
   "source": [
    "df[\"count_per_iris\"] = df.groupby(\"IRIS\")[\"NE3FR\"].transform(\"count\")"
   ]
  },
  {
   "cell_type": "code",
   "execution_count": 7,
   "id": "406f6499",
   "metadata": {
    "execution": {
     "iopub.execute_input": "2022-08-02T15:36:42.816825Z",
     "iopub.status.busy": "2022-08-02T15:36:42.816486Z",
     "iopub.status.idle": "2022-08-02T15:36:49.933789Z",
     "shell.execute_reply": "2022-08-02T15:36:49.932738Z"
    },
    "papermill": {
     "duration": 7.145672,
     "end_time": "2022-08-02T15:36:49.936610",
     "exception": false,
     "start_time": "2022-08-02T15:36:42.790938",
     "status": "completed"
    },
    "tags": []
   },
   "outputs": [],
   "source": [
    "df[\"DEPCOM\"] = df[\"IRIS\"].str[:5]"
   ]
  },
  {
   "cell_type": "code",
   "execution_count": 8,
   "id": "51f307df",
   "metadata": {
    "execution": {
     "iopub.execute_input": "2022-08-02T15:36:49.987030Z",
     "iopub.status.busy": "2022-08-02T15:36:49.986705Z",
     "iopub.status.idle": "2022-08-02T15:38:18.754193Z",
     "shell.execute_reply": "2022-08-02T15:38:18.753237Z"
    },
    "papermill": {
     "duration": 88.79585,
     "end_time": "2022-08-02T15:38:18.757061",
     "exception": false,
     "start_time": "2022-08-02T15:36:49.961211",
     "status": "completed"
    },
    "tags": []
   },
   "outputs": [
    {
     "name": "stdout",
     "output_type": "stream",
     "text": [
      "CHFL\n",
      "CMBL\n",
      "CS1\n",
      "NPERR\n",
      "STATR\n",
      "NENFR\n"
     ]
    }
   ],
   "source": [
    "df_list=[]\n",
    "cols_f = [\"CHFL\", \"CMBL\",\"CS1\", \"NPERR\", \"STATR\",\"NENFR\"]\n",
    "for i in cols_f:\n",
    "    print(i)\n",
    "    g_data = df.groupby([\"IRIS\", i]).count()[\"NE3FR\"].reset_index()\n",
    "    g_data.rename(columns={\"NE3FR\": \"count_per_cat\"},inplace=True)\n",
    "    g_data[\"count\"] = g_data.groupby(\"IRIS\")[\"count_per_cat\"].transform('sum')\n",
    "    g_data[f\"freq_{i}\"] = g_data[\"count_per_cat\"]/g_data[\"count\"]\n",
    "    g_data[i] = f\"{i}_\" + g_data[i]\n",
    "    g_data = g_data[[\"IRIS\", \"count\", i, f\"freq_{i}\"]].pivot_table(f\"freq_{i}\", ['IRIS'], i)\n",
    "    g_data = g_data.rename_axis(None).rename_axis(None, axis=1)\n",
    "    df_list.append(g_data)\n",
    "    "
   ]
  },
  {
   "cell_type": "code",
   "execution_count": 9,
   "id": "992b9253",
   "metadata": {
    "execution": {
     "iopub.execute_input": "2022-08-02T15:38:18.816750Z",
     "iopub.status.busy": "2022-08-02T15:38:18.816419Z",
     "iopub.status.idle": "2022-08-02T15:38:33.620838Z",
     "shell.execute_reply": "2022-08-02T15:38:33.619953Z"
    },
    "papermill": {
     "duration": 14.839169,
     "end_time": "2022-08-02T15:38:33.623760",
     "exception": false,
     "start_time": "2022-08-02T15:38:18.784591",
     "status": "completed"
    },
    "tags": []
   },
   "outputs": [],
   "source": [
    "chfl_cmbl = []\n",
    "for i in [\"1\",\"2\"]:\n",
    "    g_data = df[df[\"CHFL\"]==i].groupby([\"IRIS\", \"CMBL\", \"count_per_iris\"]).count()[\"NE3FR\"].reset_index()\n",
    "    #g_data[\"count\"] = g_data.groupby(\"IRIS\")[\"NE3FR\"].transform('sum')\n",
    "    g_data.rename(columns={\"NE3FR\": \"count_per_cat\"},inplace=True)\n",
    "    g_data[f\"freq_CHFL{i}_CMBL\"] = g_data[\"count_per_cat\"]/g_data[\"count_per_iris\"]\n",
    "    g_data[\"CMBL\"] = f\"CHFL{i}_CMBL_\" + g_data[\"CMBL\"]\n",
    "    g_data.rename(columns={\"CMBL\": f\"CHFL{i}_CMBL\"}, inplace=True)\n",
    "    g_data = g_data[[\"IRIS\", \"count_per_iris\", f\"CHFL{i}_CMBL\", f\"freq_CHFL{i}_CMBL\"]].pivot_table(f\"freq_CHFL{i}_CMBL\", ['IRIS'], f\"CHFL{i}_CMBL\")\n",
    "    g_data = g_data.rename_axis(None).rename_axis(None, axis=1)\n",
    "    g_data.reset_index(inplace=True)\n",
    "    chfl_cmbl.append(g_data)"
   ]
  },
  {
   "cell_type": "code",
   "execution_count": 10,
   "id": "a41ff0bc",
   "metadata": {
    "execution": {
     "iopub.execute_input": "2022-08-02T15:38:33.678064Z",
     "iopub.status.busy": "2022-08-02T15:38:33.677774Z",
     "iopub.status.idle": "2022-08-02T15:38:33.681835Z",
     "shell.execute_reply": "2022-08-02T15:38:33.680864Z"
    },
    "papermill": {
     "duration": 0.034261,
     "end_time": "2022-08-02T15:38:33.684162",
     "exception": false,
     "start_time": "2022-08-02T15:38:33.649901",
     "status": "completed"
    },
    "tags": []
   },
   "outputs": [],
   "source": [
    "#df.groupby([\"IRIS\", \"CMBL\", \"count_per_iris\"]).count()[\"NE3FR\"].reset_index().sort_values(by=\"IRIS\")"
   ]
  },
  {
   "cell_type": "code",
   "execution_count": 11,
   "id": "d79b60d6",
   "metadata": {
    "execution": {
     "iopub.execute_input": "2022-08-02T15:38:33.737633Z",
     "iopub.status.busy": "2022-08-02T15:38:33.737267Z",
     "iopub.status.idle": "2022-08-02T15:38:33.765271Z",
     "shell.execute_reply": "2022-08-02T15:38:33.764509Z"
    },
    "papermill": {
     "duration": 0.057416,
     "end_time": "2022-08-02T15:38:33.767561",
     "exception": false,
     "start_time": "2022-08-02T15:38:33.710145",
     "status": "completed"
    },
    "tags": []
   },
   "outputs": [],
   "source": [
    "census = pd.concat(df_list, axis=1).reset_index()"
   ]
  },
  {
   "cell_type": "code",
   "execution_count": 12,
   "id": "4bd58a99",
   "metadata": {
    "execution": {
     "iopub.execute_input": "2022-08-02T15:38:33.822932Z",
     "iopub.status.busy": "2022-08-02T15:38:33.822473Z",
     "iopub.status.idle": "2022-08-02T15:38:33.831481Z",
     "shell.execute_reply": "2022-08-02T15:38:33.830613Z"
    },
    "papermill": {
     "duration": 0.040106,
     "end_time": "2022-08-02T15:38:33.834402",
     "exception": false,
     "start_time": "2022-08-02T15:38:33.794296",
     "status": "completed"
    },
    "tags": []
   },
   "outputs": [
    {
     "data": {
      "text/plain": [
       "(16209, 39)"
      ]
     },
     "execution_count": 12,
     "metadata": {},
     "output_type": "execute_result"
    }
   ],
   "source": [
    "census.shape"
   ]
  },
  {
   "cell_type": "code",
   "execution_count": 13,
   "id": "9857c076",
   "metadata": {
    "execution": {
     "iopub.execute_input": "2022-08-02T15:38:33.888800Z",
     "iopub.status.busy": "2022-08-02T15:38:33.888509Z",
     "iopub.status.idle": "2022-08-02T15:38:33.934817Z",
     "shell.execute_reply": "2022-08-02T15:38:33.933685Z"
    },
    "papermill": {
     "duration": 0.076538,
     "end_time": "2022-08-02T15:38:33.937394",
     "exception": false,
     "start_time": "2022-08-02T15:38:33.860856",
     "status": "completed"
    },
    "tags": []
   },
   "outputs": [],
   "source": [
    "census = census.merge(chfl_cmbl[0], how=\"left\", on=\"index\")\n",
    "census = census.merge(chfl_cmbl[1], how=\"left\", on=\"index\")"
   ]
  },
  {
   "cell_type": "code",
   "execution_count": 14,
   "id": "fe40bdec",
   "metadata": {
    "execution": {
     "iopub.execute_input": "2022-08-02T15:38:33.992832Z",
     "iopub.status.busy": "2022-08-02T15:38:33.992427Z",
     "iopub.status.idle": "2022-08-02T15:38:33.997969Z",
     "shell.execute_reply": "2022-08-02T15:38:33.997315Z"
    },
    "papermill": {
     "duration": 0.035478,
     "end_time": "2022-08-02T15:38:33.999972",
     "exception": false,
     "start_time": "2022-08-02T15:38:33.964494",
     "status": "completed"
    },
    "tags": []
   },
   "outputs": [
    {
     "data": {
      "text/plain": [
       "(16209, 50)"
      ]
     },
     "execution_count": 14,
     "metadata": {},
     "output_type": "execute_result"
    }
   ],
   "source": [
    "census.shape"
   ]
  },
  {
   "cell_type": "code",
   "execution_count": 15,
   "id": "675ab58e",
   "metadata": {
    "execution": {
     "iopub.execute_input": "2022-08-02T15:38:34.056985Z",
     "iopub.status.busy": "2022-08-02T15:38:34.056320Z",
     "iopub.status.idle": "2022-08-02T15:38:34.061194Z",
     "shell.execute_reply": "2022-08-02T15:38:34.060553Z"
    },
    "papermill": {
     "duration": 0.035713,
     "end_time": "2022-08-02T15:38:34.063363",
     "exception": false,
     "start_time": "2022-08-02T15:38:34.027650",
     "status": "completed"
    },
    "tags": []
   },
   "outputs": [],
   "source": [
    "census.rename(columns={\"index\":\"IRIS\"}, inplace=True)"
   ]
  },
  {
   "cell_type": "code",
   "execution_count": 16,
   "id": "d4bbe66f",
   "metadata": {
    "execution": {
     "iopub.execute_input": "2022-08-02T15:38:34.121051Z",
     "iopub.status.busy": "2022-08-02T15:38:34.120498Z",
     "iopub.status.idle": "2022-08-02T15:38:35.240153Z",
     "shell.execute_reply": "2022-08-02T15:38:35.238834Z"
    },
    "papermill": {
     "duration": 1.1524,
     "end_time": "2022-08-02T15:38:35.242917",
     "exception": false,
     "start_time": "2022-08-02T15:38:34.090517",
     "status": "completed"
    },
    "tags": []
   },
   "outputs": [],
   "source": [
    "census.to_csv(\"census_prepared_IRIS_2018.csv\", index=False)"
   ]
  },
  {
   "cell_type": "code",
   "execution_count": 17,
   "id": "3e74d5aa",
   "metadata": {
    "execution": {
     "iopub.execute_input": "2022-08-02T15:38:35.305983Z",
     "iopub.status.busy": "2022-08-02T15:38:35.305673Z",
     "iopub.status.idle": "2022-08-02T15:38:38.311587Z",
     "shell.execute_reply": "2022-08-02T15:38:38.310555Z"
    },
    "papermill": {
     "duration": 3.041147,
     "end_time": "2022-08-02T15:38:38.314246",
     "exception": false,
     "start_time": "2022-08-02T15:38:35.273099",
     "status": "completed"
    },
    "tags": []
   },
   "outputs": [
    {
     "data": {
      "text/plain": [
       "2    1882107\n",
       "1    1503690\n",
       "4     351960\n",
       "3     291290\n",
       "6     194105\n",
       "5      26915\n",
       "Name: CMBL, dtype: int64"
      ]
     },
     "execution_count": 17,
     "metadata": {},
     "output_type": "execute_result"
    }
   ],
   "source": [
    "df[df[\"CHFL\"]==\"1\"][\"CMBL\"].value_counts()"
   ]
  },
  {
   "cell_type": "code",
   "execution_count": 18,
   "id": "351336f4",
   "metadata": {
    "execution": {
     "iopub.execute_input": "2022-08-02T15:38:38.374630Z",
     "iopub.status.busy": "2022-08-02T15:38:38.374260Z",
     "iopub.status.idle": "2022-08-02T15:38:39.776637Z",
     "shell.execute_reply": "2022-08-02T15:38:39.775564Z"
    },
    "papermill": {
     "duration": 1.436807,
     "end_time": "2022-08-02T15:38:39.779581",
     "exception": false,
     "start_time": "2022-08-02T15:38:38.342774",
     "status": "completed"
    },
    "tags": []
   },
   "outputs": [
    {
     "data": {
      "text/html": [
       "<div>\n",
       "<style scoped>\n",
       "    .dataframe tbody tr th:only-of-type {\n",
       "        vertical-align: middle;\n",
       "    }\n",
       "\n",
       "    .dataframe tbody tr th {\n",
       "        vertical-align: top;\n",
       "    }\n",
       "\n",
       "    .dataframe thead th {\n",
       "        text-align: right;\n",
       "    }\n",
       "</style>\n",
       "<table border=\"1\" class=\"dataframe\">\n",
       "  <thead>\n",
       "    <tr style=\"text-align: right;\">\n",
       "      <th></th>\n",
       "      <th>CHFL</th>\n",
       "      <th>CMBL</th>\n",
       "      <th>count_per_iris</th>\n",
       "    </tr>\n",
       "  </thead>\n",
       "  <tbody>\n",
       "    <tr>\n",
       "      <th>9667058</th>\n",
       "      <td>1</td>\n",
       "      <td>2</td>\n",
       "      <td>1517</td>\n",
       "    </tr>\n",
       "    <tr>\n",
       "      <th>9667103</th>\n",
       "      <td>2</td>\n",
       "      <td>2</td>\n",
       "      <td>1517</td>\n",
       "    </tr>\n",
       "    <tr>\n",
       "      <th>9667104</th>\n",
       "      <td>2</td>\n",
       "      <td>2</td>\n",
       "      <td>1517</td>\n",
       "    </tr>\n",
       "    <tr>\n",
       "      <th>9667109</th>\n",
       "      <td>2</td>\n",
       "      <td>4</td>\n",
       "      <td>1517</td>\n",
       "    </tr>\n",
       "    <tr>\n",
       "      <th>9667112</th>\n",
       "      <td>2</td>\n",
       "      <td>4</td>\n",
       "      <td>1517</td>\n",
       "    </tr>\n",
       "    <tr>\n",
       "      <th>...</th>\n",
       "      <td>...</td>\n",
       "      <td>...</td>\n",
       "      <td>...</td>\n",
       "    </tr>\n",
       "    <tr>\n",
       "      <th>9703375</th>\n",
       "      <td>X</td>\n",
       "      <td>X</td>\n",
       "      <td>1517</td>\n",
       "    </tr>\n",
       "    <tr>\n",
       "      <th>9703376</th>\n",
       "      <td>X</td>\n",
       "      <td>X</td>\n",
       "      <td>1517</td>\n",
       "    </tr>\n",
       "    <tr>\n",
       "      <th>9703377</th>\n",
       "      <td>X</td>\n",
       "      <td>X</td>\n",
       "      <td>1517</td>\n",
       "    </tr>\n",
       "    <tr>\n",
       "      <th>9703378</th>\n",
       "      <td>X</td>\n",
       "      <td>X</td>\n",
       "      <td>1517</td>\n",
       "    </tr>\n",
       "    <tr>\n",
       "      <th>9703379</th>\n",
       "      <td>X</td>\n",
       "      <td>X</td>\n",
       "      <td>1517</td>\n",
       "    </tr>\n",
       "  </tbody>\n",
       "</table>\n",
       "<p>1517 rows × 3 columns</p>\n",
       "</div>"
      ],
      "text/plain": [
       "        CHFL CMBL  count_per_iris\n",
       "9667058    1    2            1517\n",
       "9667103    2    2            1517\n",
       "9667104    2    2            1517\n",
       "9667109    2    4            1517\n",
       "9667112    2    4            1517\n",
       "...      ...  ...             ...\n",
       "9703375    X    X            1517\n",
       "9703376    X    X            1517\n",
       "9703377    X    X            1517\n",
       "9703378    X    X            1517\n",
       "9703379    X    X            1517\n",
       "\n",
       "[1517 rows x 3 columns]"
      ]
     },
     "execution_count": 18,
     "metadata": {},
     "output_type": "execute_result"
    }
   ],
   "source": [
    "df[(df[\"IRIS\"]==\"595990901\")][[\"CHFL\", \"CMBL\", \"count_per_iris\"]]"
   ]
  },
  {
   "cell_type": "code",
   "execution_count": 19,
   "id": "073b3a20",
   "metadata": {
    "execution": {
     "iopub.execute_input": "2022-08-02T15:38:39.840785Z",
     "iopub.status.busy": "2022-08-02T15:38:39.840471Z",
     "iopub.status.idle": "2022-08-02T15:38:39.860355Z",
     "shell.execute_reply": "2022-08-02T15:38:39.859572Z"
    },
    "papermill": {
     "duration": 0.05268,
     "end_time": "2022-08-02T15:38:39.862855",
     "exception": false,
     "start_time": "2022-08-02T15:38:39.810175",
     "status": "completed"
    },
    "tags": []
   },
   "outputs": [
    {
     "data": {
      "text/html": [
       "<div>\n",
       "<style scoped>\n",
       "    .dataframe tbody tr th:only-of-type {\n",
       "        vertical-align: middle;\n",
       "    }\n",
       "\n",
       "    .dataframe tbody tr th {\n",
       "        vertical-align: top;\n",
       "    }\n",
       "\n",
       "    .dataframe thead th {\n",
       "        text-align: right;\n",
       "    }\n",
       "</style>\n",
       "<table border=\"1\" class=\"dataframe\">\n",
       "  <thead>\n",
       "    <tr style=\"text-align: right;\">\n",
       "      <th></th>\n",
       "      <th>CHFL1_CMBL_1</th>\n",
       "      <th>CMBL_1</th>\n",
       "      <th>CHFL_1</th>\n",
       "    </tr>\n",
       "  </thead>\n",
       "  <tbody>\n",
       "    <tr>\n",
       "      <th>0</th>\n",
       "      <td>0.017456</td>\n",
       "      <td>0.017456</td>\n",
       "      <td>0.071072</td>\n",
       "    </tr>\n",
       "    <tr>\n",
       "      <th>1</th>\n",
       "      <td>0.072072</td>\n",
       "      <td>0.072072</td>\n",
       "      <td>0.410210</td>\n",
       "    </tr>\n",
       "    <tr>\n",
       "      <th>2</th>\n",
       "      <td>0.024469</td>\n",
       "      <td>0.024469</td>\n",
       "      <td>0.278171</td>\n",
       "    </tr>\n",
       "    <tr>\n",
       "      <th>3</th>\n",
       "      <td>0.000555</td>\n",
       "      <td>0.000555</td>\n",
       "      <td>0.013311</td>\n",
       "    </tr>\n",
       "    <tr>\n",
       "      <th>4</th>\n",
       "      <td>0.077125</td>\n",
       "      <td>0.077125</td>\n",
       "      <td>0.378615</td>\n",
       "    </tr>\n",
       "    <tr>\n",
       "      <th>...</th>\n",
       "      <td>...</td>\n",
       "      <td>...</td>\n",
       "      <td>...</td>\n",
       "    </tr>\n",
       "    <tr>\n",
       "      <th>16204</th>\n",
       "      <td>NaN</td>\n",
       "      <td>NaN</td>\n",
       "      <td>NaN</td>\n",
       "    </tr>\n",
       "    <tr>\n",
       "      <th>16205</th>\n",
       "      <td>NaN</td>\n",
       "      <td>NaN</td>\n",
       "      <td>NaN</td>\n",
       "    </tr>\n",
       "    <tr>\n",
       "      <th>16206</th>\n",
       "      <td>NaN</td>\n",
       "      <td>NaN</td>\n",
       "      <td>NaN</td>\n",
       "    </tr>\n",
       "    <tr>\n",
       "      <th>16207</th>\n",
       "      <td>NaN</td>\n",
       "      <td>NaN</td>\n",
       "      <td>NaN</td>\n",
       "    </tr>\n",
       "    <tr>\n",
       "      <th>16208</th>\n",
       "      <td>0.002775</td>\n",
       "      <td>0.002775</td>\n",
       "      <td>0.027033</td>\n",
       "    </tr>\n",
       "  </tbody>\n",
       "</table>\n",
       "<p>16209 rows × 3 columns</p>\n",
       "</div>"
      ],
      "text/plain": [
       "       CHFL1_CMBL_1    CMBL_1    CHFL_1\n",
       "0          0.017456  0.017456  0.071072\n",
       "1          0.072072  0.072072  0.410210\n",
       "2          0.024469  0.024469  0.278171\n",
       "3          0.000555  0.000555  0.013311\n",
       "4          0.077125  0.077125  0.378615\n",
       "...             ...       ...       ...\n",
       "16204           NaN       NaN       NaN\n",
       "16205           NaN       NaN       NaN\n",
       "16206           NaN       NaN       NaN\n",
       "16207           NaN       NaN       NaN\n",
       "16208      0.002775  0.002775  0.027033\n",
       "\n",
       "[16209 rows x 3 columns]"
      ]
     },
     "execution_count": 19,
     "metadata": {},
     "output_type": "execute_result"
    }
   ],
   "source": [
    "census[[\"CHFL1_CMBL_1\", \"CMBL_1\", \"CHFL_1\"]]"
   ]
  },
  {
   "cell_type": "code",
   "execution_count": 20,
   "id": "c22410ec",
   "metadata": {
    "execution": {
     "iopub.execute_input": "2022-08-02T15:38:39.926483Z",
     "iopub.status.busy": "2022-08-02T15:38:39.925490Z",
     "iopub.status.idle": "2022-08-02T15:38:43.886194Z",
     "shell.execute_reply": "2022-08-02T15:38:43.885062Z"
    },
    "papermill": {
     "duration": 3.995624,
     "end_time": "2022-08-02T15:38:43.888766",
     "exception": false,
     "start_time": "2022-08-02T15:38:39.893142",
     "status": "completed"
    },
    "tags": []
   },
   "outputs": [
    {
     "data": {
      "text/plain": [
       "5    2195466\n",
       "4    1945424\n",
       "6    1501639\n",
       "3    1380989\n",
       "Name: CS1, dtype: int64"
      ]
     },
     "execution_count": 20,
     "metadata": {},
     "output_type": "execute_result"
    }
   ],
   "source": [
    "df[df[\"STATR\"]==\"1\"][\"CS1\"].value_counts()"
   ]
  },
  {
   "cell_type": "code",
   "execution_count": 21,
   "id": "c348525d",
   "metadata": {
    "execution": {
     "iopub.execute_input": "2022-08-02T15:38:43.952709Z",
     "iopub.status.busy": "2022-08-02T15:38:43.952077Z",
     "iopub.status.idle": "2022-08-02T15:38:46.118958Z",
     "shell.execute_reply": "2022-08-02T15:38:46.117797Z"
    },
    "papermill": {
     "duration": 2.203888,
     "end_time": "2022-08-02T15:38:46.121621",
     "exception": false,
     "start_time": "2022-08-02T15:38:43.917733",
     "status": "completed"
    },
    "tags": []
   },
   "outputs": [
    {
     "data": {
      "text/plain": [
       "2    509335\n",
       "3    186660\n",
       "4    124630\n",
       "1     90568\n",
       "Name: CS1, dtype: int64"
      ]
     },
     "execution_count": 21,
     "metadata": {},
     "output_type": "execute_result"
    }
   ],
   "source": [
    "df[df[\"STATR\"]==\"2\"][\"CS1\"].value_counts()"
   ]
  },
  {
   "cell_type": "code",
   "execution_count": 22,
   "id": "bf8a5d68",
   "metadata": {
    "execution": {
     "iopub.execute_input": "2022-08-02T15:38:46.184814Z",
     "iopub.status.busy": "2022-08-02T15:38:46.184133Z",
     "iopub.status.idle": "2022-08-02T15:38:51.253045Z",
     "shell.execute_reply": "2022-08-02T15:38:51.251920Z"
    },
    "papermill": {
     "duration": 5.104884,
     "end_time": "2022-08-02T15:38:51.256683",
     "exception": false,
     "start_time": "2022-08-02T15:38:46.151799",
     "status": "completed"
    },
    "tags": []
   },
   "outputs": [
    {
     "data": {
      "text/plain": [
       "8    6529418\n",
       "7    3996851\n",
       "5     439660\n",
       "6     368772\n",
       "4     219066\n",
       "3      74967\n",
       "2      38034\n",
       "1       1792\n",
       "Name: CS1, dtype: int64"
      ]
     },
     "execution_count": 22,
     "metadata": {},
     "output_type": "execute_result"
    }
   ],
   "source": [
    "df[df[\"STATR\"]==\"Z\"][\"CS1\"].value_counts()"
   ]
  },
  {
   "cell_type": "code",
   "execution_count": 23,
   "id": "5e33a0a5",
   "metadata": {
    "execution": {
     "iopub.execute_input": "2022-08-02T15:38:51.321234Z",
     "iopub.status.busy": "2022-08-02T15:38:51.320615Z",
     "iopub.status.idle": "2022-08-02T15:38:54.741498Z",
     "shell.execute_reply": "2022-08-02T15:38:54.740555Z"
    },
    "papermill": {
     "duration": 3.457013,
     "end_time": "2022-08-02T15:38:54.744073",
     "exception": false,
     "start_time": "2022-08-02T15:38:51.287060",
     "status": "completed"
    },
    "tags": []
   },
   "outputs": [
    {
     "data": {
      "text/html": [
       "<div>\n",
       "<style scoped>\n",
       "    .dataframe tbody tr th:only-of-type {\n",
       "        vertical-align: middle;\n",
       "    }\n",
       "\n",
       "    .dataframe tbody tr th {\n",
       "        vertical-align: top;\n",
       "    }\n",
       "\n",
       "    .dataframe thead th {\n",
       "        text-align: right;\n",
       "    }\n",
       "</style>\n",
       "<table border=\"1\" class=\"dataframe\">\n",
       "  <thead>\n",
       "    <tr style=\"text-align: right;\">\n",
       "      <th></th>\n",
       "      <th>CHFL</th>\n",
       "      <th>CMBL</th>\n",
       "      <th>CS1</th>\n",
       "      <th>IRIS</th>\n",
       "      <th>NE3FR</th>\n",
       "      <th>NENFR</th>\n",
       "      <th>NPERR</th>\n",
       "      <th>STATR</th>\n",
       "      <th>count_per_iris</th>\n",
       "      <th>DEPCOM</th>\n",
       "    </tr>\n",
       "  </thead>\n",
       "  <tbody>\n",
       "    <tr>\n",
       "      <th>0</th>\n",
       "      <td>2</td>\n",
       "      <td>4</td>\n",
       "      <td>7</td>\n",
       "      <td>ZZZZZZZZZ</td>\n",
       "      <td>0</td>\n",
       "      <td>0</td>\n",
       "      <td>2</td>\n",
       "      <td>Z</td>\n",
       "      <td>5537759</td>\n",
       "      <td>ZZZZZ</td>\n",
       "    </tr>\n",
       "    <tr>\n",
       "      <th>1</th>\n",
       "      <td>2</td>\n",
       "      <td>4</td>\n",
       "      <td>7</td>\n",
       "      <td>ZZZZZZZZZ</td>\n",
       "      <td>0</td>\n",
       "      <td>0</td>\n",
       "      <td>2</td>\n",
       "      <td>Z</td>\n",
       "      <td>5537759</td>\n",
       "      <td>ZZZZZ</td>\n",
       "    </tr>\n",
       "    <tr>\n",
       "      <th>7</th>\n",
       "      <td>2</td>\n",
       "      <td>2</td>\n",
       "      <td>8</td>\n",
       "      <td>010040101</td>\n",
       "      <td>Z</td>\n",
       "      <td>Z</td>\n",
       "      <td>1</td>\n",
       "      <td>Z</td>\n",
       "      <td>802</td>\n",
       "      <td>01004</td>\n",
       "    </tr>\n",
       "    <tr>\n",
       "      <th>13</th>\n",
       "      <td>2</td>\n",
       "      <td>4</td>\n",
       "      <td>6</td>\n",
       "      <td>010040102</td>\n",
       "      <td>0</td>\n",
       "      <td>1</td>\n",
       "      <td>2</td>\n",
       "      <td>Z</td>\n",
       "      <td>1665</td>\n",
       "      <td>01004</td>\n",
       "    </tr>\n",
       "    <tr>\n",
       "      <th>15</th>\n",
       "      <td>1</td>\n",
       "      <td>1</td>\n",
       "      <td>6</td>\n",
       "      <td>010040102</td>\n",
       "      <td>Z</td>\n",
       "      <td>Z</td>\n",
       "      <td>1</td>\n",
       "      <td>Z</td>\n",
       "      <td>1665</td>\n",
       "      <td>01004</td>\n",
       "    </tr>\n",
       "    <tr>\n",
       "      <th>...</th>\n",
       "      <td>...</td>\n",
       "      <td>...</td>\n",
       "      <td>...</td>\n",
       "      <td>...</td>\n",
       "      <td>...</td>\n",
       "      <td>...</td>\n",
       "      <td>...</td>\n",
       "      <td>...</td>\n",
       "      <td>...</td>\n",
       "      <td>...</td>\n",
       "    </tr>\n",
       "    <tr>\n",
       "      <th>19603266</th>\n",
       "      <td>X</td>\n",
       "      <td>X</td>\n",
       "      <td>8</td>\n",
       "      <td>974220101</td>\n",
       "      <td>Z</td>\n",
       "      <td>Z</td>\n",
       "      <td>Z</td>\n",
       "      <td>Z</td>\n",
       "      <td>1135</td>\n",
       "      <td>97422</td>\n",
       "    </tr>\n",
       "    <tr>\n",
       "      <th>19603267</th>\n",
       "      <td>X</td>\n",
       "      <td>X</td>\n",
       "      <td>8</td>\n",
       "      <td>974220101</td>\n",
       "      <td>Z</td>\n",
       "      <td>Z</td>\n",
       "      <td>Z</td>\n",
       "      <td>Z</td>\n",
       "      <td>1135</td>\n",
       "      <td>97422</td>\n",
       "    </tr>\n",
       "    <tr>\n",
       "      <th>19603268</th>\n",
       "      <td>X</td>\n",
       "      <td>X</td>\n",
       "      <td>8</td>\n",
       "      <td>974220102</td>\n",
       "      <td>Z</td>\n",
       "      <td>Z</td>\n",
       "      <td>Z</td>\n",
       "      <td>Z</td>\n",
       "      <td>793</td>\n",
       "      <td>97422</td>\n",
       "    </tr>\n",
       "    <tr>\n",
       "      <th>19603269</th>\n",
       "      <td>X</td>\n",
       "      <td>X</td>\n",
       "      <td>8</td>\n",
       "      <td>974220102</td>\n",
       "      <td>Z</td>\n",
       "      <td>Z</td>\n",
       "      <td>Z</td>\n",
       "      <td>Z</td>\n",
       "      <td>793</td>\n",
       "      <td>97422</td>\n",
       "    </tr>\n",
       "    <tr>\n",
       "      <th>19603270</th>\n",
       "      <td>X</td>\n",
       "      <td>X</td>\n",
       "      <td>8</td>\n",
       "      <td>974220102</td>\n",
       "      <td>Z</td>\n",
       "      <td>Z</td>\n",
       "      <td>Z</td>\n",
       "      <td>Z</td>\n",
       "      <td>793</td>\n",
       "      <td>97422</td>\n",
       "    </tr>\n",
       "  </tbody>\n",
       "</table>\n",
       "<p>11668560 rows × 10 columns</p>\n",
       "</div>"
      ],
      "text/plain": [
       "         CHFL CMBL CS1       IRIS NE3FR NENFR NPERR STATR  count_per_iris  \\\n",
       "0           2    4   7  ZZZZZZZZZ     0     0     2     Z         5537759   \n",
       "1           2    4   7  ZZZZZZZZZ     0     0     2     Z         5537759   \n",
       "7           2    2   8  010040101     Z     Z     1     Z             802   \n",
       "13          2    4   6  010040102     0     1     2     Z            1665   \n",
       "15          1    1   6  010040102     Z     Z     1     Z            1665   \n",
       "...       ...  ...  ..        ...   ...   ...   ...   ...             ...   \n",
       "19603266    X    X   8  974220101     Z     Z     Z     Z            1135   \n",
       "19603267    X    X   8  974220101     Z     Z     Z     Z            1135   \n",
       "19603268    X    X   8  974220102     Z     Z     Z     Z             793   \n",
       "19603269    X    X   8  974220102     Z     Z     Z     Z             793   \n",
       "19603270    X    X   8  974220102     Z     Z     Z     Z             793   \n",
       "\n",
       "         DEPCOM  \n",
       "0         ZZZZZ  \n",
       "1         ZZZZZ  \n",
       "7         01004  \n",
       "13        01004  \n",
       "15        01004  \n",
       "...         ...  \n",
       "19603266  97422  \n",
       "19603267  97422  \n",
       "19603268  97422  \n",
       "19603269  97422  \n",
       "19603270  97422  \n",
       "\n",
       "[11668560 rows x 10 columns]"
      ]
     },
     "execution_count": 23,
     "metadata": {},
     "output_type": "execute_result"
    }
   ],
   "source": [
    "df[df[\"STATR\"]==\"Z\"]"
   ]
  },
  {
   "cell_type": "code",
   "execution_count": 24,
   "id": "817c082d",
   "metadata": {
    "execution": {
     "iopub.execute_input": "2022-08-02T15:38:54.816195Z",
     "iopub.status.busy": "2022-08-02T15:38:54.815851Z",
     "iopub.status.idle": "2022-08-02T15:38:57.687707Z",
     "shell.execute_reply": "2022-08-02T15:38:57.686818Z"
    },
    "papermill": {
     "duration": 2.913476,
     "end_time": "2022-08-02T15:38:57.689935",
     "exception": false,
     "start_time": "2022-08-02T15:38:54.776459",
     "status": "completed"
    },
    "tags": []
   },
   "outputs": [
    {
     "data": {
      "text/plain": [
       "2    1882107\n",
       "1    1503690\n",
       "4     351960\n",
       "3     291290\n",
       "6     194105\n",
       "5      26915\n",
       "Name: CMBL, dtype: int64"
      ]
     },
     "execution_count": 24,
     "metadata": {},
     "output_type": "execute_result"
    }
   ],
   "source": [
    "df[df[\"CHFL\"]==\"1\"][\"CMBL\"].value_counts()"
   ]
  },
  {
   "cell_type": "code",
   "execution_count": null,
   "id": "d8db59df",
   "metadata": {
    "execution": {
     "iopub.execute_input": "2022-04-23T11:52:43.394846Z",
     "iopub.status.busy": "2022-04-23T11:52:43.394531Z",
     "iopub.status.idle": "2022-04-23T11:52:43.402063Z",
     "shell.execute_reply": "2022-04-23T11:52:43.401287Z",
     "shell.execute_reply.started": "2022-04-23T11:52:43.394811Z"
    },
    "papermill": {
     "duration": 0.030452,
     "end_time": "2022-08-02T15:38:57.750772",
     "exception": false,
     "start_time": "2022-08-02T15:38:57.720320",
     "status": "completed"
    },
    "tags": []
   },
   "outputs": [],
   "source": []
  },
  {
   "cell_type": "code",
   "execution_count": null,
   "id": "448d6389",
   "metadata": {
    "papermill": {
     "duration": 0.03088,
     "end_time": "2022-08-02T15:38:57.813437",
     "exception": false,
     "start_time": "2022-08-02T15:38:57.782557",
     "status": "completed"
    },
    "tags": []
   },
   "outputs": [],
   "source": []
  }
 ],
 "metadata": {
  "kernelspec": {
   "display_name": "Python 3",
   "language": "python",
   "name": "python3"
  },
  "language_info": {
   "codemirror_mode": {
    "name": "ipython",
    "version": 3
   },
   "file_extension": ".py",
   "mimetype": "text/x-python",
   "name": "python",
   "nbconvert_exporter": "python",
   "pygments_lexer": "ipython3",
   "version": "3.7.12"
  },
  "papermill": {
   "default_parameters": {},
   "duration": 282.984118,
   "end_time": "2022-08-02T15:39:00.768340",
   "environment_variables": {},
   "exception": null,
   "input_path": "__notebook__.ipynb",
   "output_path": "__notebook__.ipynb",
   "parameters": {},
   "start_time": "2022-08-02T15:34:17.784222",
   "version": "2.3.4"
  }
 },
 "nbformat": 4,
 "nbformat_minor": 5
}
