{
 "cells": [
  {
   "cell_type": "code",
   "execution_count": 1,
   "id": "3f3df655",
   "metadata": {
    "_kg_hide-input": true,
    "execution": {
     "iopub.execute_input": "2022-07-31T18:10:27.771754Z",
     "iopub.status.busy": "2022-07-31T18:10:27.770285Z",
     "iopub.status.idle": "2022-07-31T18:10:30.739408Z",
     "shell.execute_reply": "2022-07-31T18:10:30.738569Z",
     "shell.execute_reply.started": "2022-07-31T18:06:38.625462Z"
    },
    "papermill": {
     "duration": 3.107404,
     "end_time": "2022-07-31T18:10:30.739542",
     "exception": false,
     "start_time": "2022-07-31T18:10:27.632138",
     "status": "completed"
    },
    "tags": []
   },
   "outputs": [
    {
     "name": "stderr",
     "output_type": "stream",
     "text": [
      "/opt/conda/lib/python3.7/site-packages/geopandas/_compat.py:115: UserWarning: The Shapely GEOS version (3.9.1-CAPI-1.14.2) is incompatible with the GEOS version PyGEOS was compiled with (3.10.1-CAPI-1.16.0). Conversions between both will be slow.\n",
      "  shapely_geos_version, geos_capi_version_string\n"
     ]
    },
    {
     "data": {
      "text/html": [
       "<style type='text/css'>\n",
       ".datatable table.frame { margin-bottom: 0; }\n",
       ".datatable table.frame thead { border-bottom: none; }\n",
       ".datatable table.frame tr.coltypes td {  color: #FFFFFF;  line-height: 6px;  padding: 0 0.5em;}\n",
       ".datatable .bool    { background: #DDDD99; }\n",
       ".datatable .object  { background: #565656; }\n",
       ".datatable .int     { background: #5D9E5D; }\n",
       ".datatable .float   { background: #4040CC; }\n",
       ".datatable .str     { background: #CC4040; }\n",
       ".datatable .time    { background: #40CC40; }\n",
       ".datatable .row_index {  background: var(--jp-border-color3);  border-right: 1px solid var(--jp-border-color0);  color: var(--jp-ui-font-color3);  font-size: 9px;}\n",
       ".datatable .frame tbody td { text-align: left; }\n",
       ".datatable .frame tr.coltypes .row_index {  background: var(--jp-border-color0);}\n",
       ".datatable th:nth-child(2) { padding-left: 12px; }\n",
       ".datatable .hellipsis {  color: var(--jp-cell-editor-border-color);}\n",
       ".datatable .vellipsis {  background: var(--jp-layout-color0);  color: var(--jp-cell-editor-border-color);}\n",
       ".datatable .na {  color: var(--jp-cell-editor-border-color);  font-size: 80%;}\n",
       ".datatable .sp {  opacity: 0.25;}\n",
       ".datatable .footer { font-size: 9px; }\n",
       ".datatable .frame_dimensions {  background: var(--jp-border-color3);  border-top: 1px solid var(--jp-border-color0);  color: var(--jp-ui-font-color3);  display: inline-block;  opacity: 0.6;  padding: 1px 10px 1px 5px;}\n",
       "</style>\n"
      ],
      "text/plain": [
       "<IPython.core.display.HTML object>"
      ]
     },
     "metadata": {},
     "output_type": "display_data"
    }
   ],
   "source": [
    "import numpy as np\n",
    "import pandas as pd\n",
    "import matplotlib.pyplot as plt\n",
    "from shapely import wkt\n",
    "import geopandas\n",
    "from geopy import geocoders\n",
    "import geopy\n",
    "import lightgbm as lgb\n",
    "from sklearn.model_selection import KFold\n",
    "from sklearn.metrics import mean_squared_error"
   ]
  },
  {
   "cell_type": "markdown",
   "id": "1893001d",
   "metadata": {
    "papermill": {
     "duration": 0.090492,
     "end_time": "2022-07-31T18:10:30.919914",
     "exception": false,
     "start_time": "2022-07-31T18:10:30.829422",
     "status": "completed"
    },
    "tags": []
   },
   "source": [
    "# Datasets"
   ]
  },
  {
   "cell_type": "markdown",
   "id": "fe4ea9fb",
   "metadata": {
    "papermill": {
     "duration": 0.090274,
     "end_time": "2022-07-31T18:10:31.101075",
     "exception": false,
     "start_time": "2022-07-31T18:10:31.010801",
     "status": "completed"
    },
    "tags": []
   },
   "source": [
    "We will import:\n",
    "\n",
    "- The ccai dataset provided by widsDatathon2022\n",
    "\n",
    "- The original dataset provided by  the ministry of Ecological Transition\n",
    "\n",
    "- Census data obtained from the INSEE: https://www.insee.fr/fr/statistiques/5542859?sommaire=5395764#dictionnaire"
   ]
  },
  {
   "cell_type": "code",
   "execution_count": 2,
   "id": "d8b2880a",
   "metadata": {
    "execution": {
     "iopub.execute_input": "2022-07-31T18:10:31.288555Z",
     "iopub.status.busy": "2022-07-31T18:10:31.288060Z",
     "iopub.status.idle": "2022-07-31T18:10:32.395174Z",
     "shell.execute_reply": "2022-07-31T18:10:32.394507Z",
     "shell.execute_reply.started": "2022-07-31T18:06:41.672460Z"
    },
    "papermill": {
     "duration": 1.201749,
     "end_time": "2022-07-31T18:10:32.395308",
     "exception": false,
     "start_time": "2022-07-31T18:10:31.193559",
     "status": "completed"
    },
    "tags": []
   },
   "outputs": [
    {
     "data": {
      "text/plain": [
       "Index(['id', 'geometry', 'address', 'city_name', 'consumption',\n",
       "       'delivery_points', 'coords_eobs', 'qq_dict', 'height', 'type', 'age',\n",
       "       'floors', 'alt_prec', 'wall_mat', 'roof_mat'],\n",
       "      dtype='object')"
      ]
     },
     "execution_count": 2,
     "metadata": {},
     "output_type": "execute_result"
    }
   ],
   "source": [
    "ccai = pd.read_csv('../input/phase-ii-widsdatathon2022/ccai/ccai/data.csv')\n",
    "ccai.columns"
   ]
  },
  {
   "cell_type": "code",
   "execution_count": 3,
   "id": "05c4f09d",
   "metadata": {
    "execution": {
     "iopub.execute_input": "2022-07-31T18:10:32.674399Z",
     "iopub.status.busy": "2022-07-31T18:10:32.673775Z",
     "iopub.status.idle": "2022-07-31T18:10:33.501171Z",
     "shell.execute_reply": "2022-07-31T18:10:33.501692Z",
     "shell.execute_reply.started": "2022-07-31T18:06:42.712008Z"
    },
    "papermill": {
     "duration": 0.968593,
     "end_time": "2022-07-31T18:10:33.501870",
     "exception": false,
     "start_time": "2022-07-31T18:10:32.533277",
     "status": "completed"
    },
    "tags": []
   },
   "outputs": [],
   "source": [
    "original= pd.read_csv('../input/original-dataset/original2019.csv', delimiter=\";\", header=1)"
   ]
  },
  {
   "cell_type": "code",
   "execution_count": 4,
   "id": "134e592b",
   "metadata": {
    "execution": {
     "iopub.execute_input": "2022-07-31T18:10:33.777936Z",
     "iopub.status.busy": "2022-07-31T18:10:33.777060Z",
     "iopub.status.idle": "2022-07-31T18:10:33.806588Z",
     "shell.execute_reply": "2022-07-31T18:10:33.805964Z",
     "shell.execute_reply.started": "2022-07-31T18:06:43.602394Z"
    },
    "papermill": {
     "duration": 0.168842,
     "end_time": "2022-07-31T18:10:33.806743",
     "exception": false,
     "start_time": "2022-07-31T18:10:33.637901",
     "status": "completed"
    },
    "tags": []
   },
   "outputs": [
    {
     "data": {
      "text/html": [
       "<div>\n",
       "<style scoped>\n",
       "    .dataframe tbody tr th:only-of-type {\n",
       "        vertical-align: middle;\n",
       "    }\n",
       "\n",
       "    .dataframe tbody tr th {\n",
       "        vertical-align: top;\n",
       "    }\n",
       "\n",
       "    .dataframe thead th {\n",
       "        text-align: right;\n",
       "    }\n",
       "</style>\n",
       "<table border=\"1\" class=\"dataframe\">\n",
       "  <thead>\n",
       "    <tr style=\"text-align: right;\">\n",
       "      <th></th>\n",
       "      <th>id</th>\n",
       "      <th>geometry</th>\n",
       "      <th>address</th>\n",
       "      <th>city_name</th>\n",
       "      <th>consumption</th>\n",
       "      <th>delivery_points</th>\n",
       "      <th>coords_eobs</th>\n",
       "      <th>qq_dict</th>\n",
       "      <th>height</th>\n",
       "      <th>type</th>\n",
       "      <th>age</th>\n",
       "      <th>floors</th>\n",
       "      <th>alt_prec</th>\n",
       "      <th>wall_mat</th>\n",
       "      <th>roof_mat</th>\n",
       "    </tr>\n",
       "  </thead>\n",
       "  <tbody>\n",
       "    <tr>\n",
       "      <th>0</th>\n",
       "      <td>BATIMENT0000000267007025</td>\n",
       "      <td>POLYGON ((831362.2 6287883.7, 831358.5 6287883...</td>\n",
       "      <td>20 RUE DES ARENES</td>\n",
       "      <td>ARLES</td>\n",
       "      <td>73.40591</td>\n",
       "      <td>10</td>\n",
       "      <td>(43.6498605764, 4.649860372400003)</td>\n",
       "      <td>{1: 2592.0, 2: 2067.0, 3: 3237.0, 4: 4076.0, 5...</td>\n",
       "      <td>16.2</td>\n",
       "      <td>Indifférencié</td>\n",
       "      <td>NaN</td>\n",
       "      <td>NaN</td>\n",
       "      <td>1.0</td>\n",
       "      <td>NaN</td>\n",
       "      <td>NaN</td>\n",
       "    </tr>\n",
       "    <tr>\n",
       "      <th>1</th>\n",
       "      <td>BATIMENT0000000296359233</td>\n",
       "      <td>POLYGON ((865664.7 6324289.7, 865661.4 6324287...</td>\n",
       "      <td>215 AVENUE RENE CHAR</td>\n",
       "      <td>PERNES-LES-FONTAINES</td>\n",
       "      <td>141.82340</td>\n",
       "      <td>21</td>\n",
       "      <td>(43.949860575200006, 5.049860370800005)</td>\n",
       "      <td>{1: 2455.0, 2: 1814.0, 3: 2851.0, 4: 3557.0, 5...</td>\n",
       "      <td>4.3</td>\n",
       "      <td>Indifférencié</td>\n",
       "      <td>NaN</td>\n",
       "      <td>NaN</td>\n",
       "      <td>1.0</td>\n",
       "      <td>NaN</td>\n",
       "      <td>NaN</td>\n",
       "    </tr>\n",
       "    <tr>\n",
       "      <th>2</th>\n",
       "      <td>BATIMENT0000002206959400</td>\n",
       "      <td>POLYGON ((853561.7 6321230.3, 853566 6321226.6...</td>\n",
       "      <td>180 RUE DU GRAND PLANTIER</td>\n",
       "      <td>VEDÈNE</td>\n",
       "      <td>162.46720</td>\n",
       "      <td>54</td>\n",
       "      <td>(43.949860575200006, 4.949860371200003)</td>\n",
       "      <td>{1: 2457.0, 2: 1800.0, 3: 2848.0, 4: 3558.0, 5...</td>\n",
       "      <td>11.2</td>\n",
       "      <td>Indifférencié</td>\n",
       "      <td>NaN</td>\n",
       "      <td>NaN</td>\n",
       "      <td>1.5</td>\n",
       "      <td>NaN</td>\n",
       "      <td>NaN</td>\n",
       "    </tr>\n",
       "    <tr>\n",
       "      <th>3</th>\n",
       "      <td>BATIMENT0000002207873218</td>\n",
       "      <td>POLYGON ((958628 6338138.9, 958637.9 6338142.8...</td>\n",
       "      <td>19 AVENUE DES CHARROIS</td>\n",
       "      <td>DIGNE-LES-BAINS</td>\n",
       "      <td>93.80699</td>\n",
       "      <td>19</td>\n",
       "      <td>(44.0498605748, 6.249860366000004)</td>\n",
       "      <td>{1: 2499.0, 2: 1835.0, 3: 3009.0, 4: 3811.0, 5...</td>\n",
       "      <td>16.3</td>\n",
       "      <td>Indifférencié</td>\n",
       "      <td>NaN</td>\n",
       "      <td>NaN</td>\n",
       "      <td>1.5</td>\n",
       "      <td>NaN</td>\n",
       "      <td>NaN</td>\n",
       "    </tr>\n",
       "    <tr>\n",
       "      <th>4</th>\n",
       "      <td>BATIMENT0000000267000847</td>\n",
       "      <td>POLYGON ((830443.5 6286844.6, 830479.9 6286830...</td>\n",
       "      <td>8 PLACE DES TROUBADOURS</td>\n",
       "      <td>ARLES</td>\n",
       "      <td>25.56239</td>\n",
       "      <td>23</td>\n",
       "      <td>(43.6498605764, 4.649860372400003)</td>\n",
       "      <td>{1: 2592.0, 2: 2067.0, 3: 3237.0, 4: 4076.0, 5...</td>\n",
       "      <td>5.4</td>\n",
       "      <td>Indifférencié</td>\n",
       "      <td>NaN</td>\n",
       "      <td>NaN</td>\n",
       "      <td>1.0</td>\n",
       "      <td>NaN</td>\n",
       "      <td>NaN</td>\n",
       "    </tr>\n",
       "  </tbody>\n",
       "</table>\n",
       "</div>"
      ],
      "text/plain": [
       "                         id  \\\n",
       "0  BATIMENT0000000267007025   \n",
       "1  BATIMENT0000000296359233   \n",
       "2  BATIMENT0000002206959400   \n",
       "3  BATIMENT0000002207873218   \n",
       "4  BATIMENT0000000267000847   \n",
       "\n",
       "                                            geometry  \\\n",
       "0  POLYGON ((831362.2 6287883.7, 831358.5 6287883...   \n",
       "1  POLYGON ((865664.7 6324289.7, 865661.4 6324287...   \n",
       "2  POLYGON ((853561.7 6321230.3, 853566 6321226.6...   \n",
       "3  POLYGON ((958628 6338138.9, 958637.9 6338142.8...   \n",
       "4  POLYGON ((830443.5 6286844.6, 830479.9 6286830...   \n",
       "\n",
       "                     address             city_name  consumption  \\\n",
       "0          20 RUE DES ARENES                 ARLES     73.40591   \n",
       "1       215 AVENUE RENE CHAR  PERNES-LES-FONTAINES    141.82340   \n",
       "2  180 RUE DU GRAND PLANTIER                VEDÈNE    162.46720   \n",
       "3     19 AVENUE DES CHARROIS       DIGNE-LES-BAINS     93.80699   \n",
       "4    8 PLACE DES TROUBADOURS                 ARLES     25.56239   \n",
       "\n",
       "   delivery_points                              coords_eobs  \\\n",
       "0               10       (43.6498605764, 4.649860372400003)   \n",
       "1               21  (43.949860575200006, 5.049860370800005)   \n",
       "2               54  (43.949860575200006, 4.949860371200003)   \n",
       "3               19       (44.0498605748, 6.249860366000004)   \n",
       "4               23       (43.6498605764, 4.649860372400003)   \n",
       "\n",
       "                                             qq_dict  height           type  \\\n",
       "0  {1: 2592.0, 2: 2067.0, 3: 3237.0, 4: 4076.0, 5...    16.2  Indifférencié   \n",
       "1  {1: 2455.0, 2: 1814.0, 3: 2851.0, 4: 3557.0, 5...     4.3  Indifférencié   \n",
       "2  {1: 2457.0, 2: 1800.0, 3: 2848.0, 4: 3558.0, 5...    11.2  Indifférencié   \n",
       "3  {1: 2499.0, 2: 1835.0, 3: 3009.0, 4: 3811.0, 5...    16.3  Indifférencié   \n",
       "4  {1: 2592.0, 2: 2067.0, 3: 3237.0, 4: 4076.0, 5...     5.4  Indifférencié   \n",
       "\n",
       "   age  floors  alt_prec  wall_mat  roof_mat  \n",
       "0  NaN     NaN       1.0       NaN       NaN  \n",
       "1  NaN     NaN       1.0       NaN       NaN  \n",
       "2  NaN     NaN       1.5       NaN       NaN  \n",
       "3  NaN     NaN       1.5       NaN       NaN  \n",
       "4  NaN     NaN       1.0       NaN       NaN  "
      ]
     },
     "execution_count": 4,
     "metadata": {},
     "output_type": "execute_result"
    }
   ],
   "source": [
    "ccai.head()"
   ]
  },
  {
   "cell_type": "markdown",
   "id": "de29d24e",
   "metadata": {
    "papermill": {
     "duration": 0.096297,
     "end_time": "2022-07-31T18:10:34.003712",
     "exception": false,
     "start_time": "2022-07-31T18:10:33.907415",
     "status": "completed"
    },
    "tags": []
   },
   "source": [
    "We will merge the original dataset with the ccai dataset to obtain the **IRIS code** for each building. We will use this code as a category for buildings that share the same zone, and it will be useful for merging our dataset to the census data.\n",
    "\n",
    "\"In French, IRIS is an acronym of ‘aggregated units for statistical information’. These units respect geographic and demographic criteria and have borders which are clearly identifiable and stable in the long term.\n",
    "Towns with more than 10,000 inhabitants, and a large proportion of towns with between 5,000 and 10,000 inhabitants, are divided into several IRIS units. This separation represents a division of the territory. By extension, in order to cover the whole of the country, all towns not divided into IRIS units constitute IRIS units in themselves.\"\n",
    "https://www.insee.fr/en/metadonnees/definition/c1523\n",
    "\n",
    "Those IRIS zones were introduced in 1999 and updated in 2008 to perform\n",
    "country-wide statistical analyses based on the national census. Each IRIS zone has an identifierthat is divided into three parts: \n",
    "The first two digits denote the département, which is an upper-level administrational unit, the following three digits identify a commune (municipality) within\n",
    "this département, and the last four digits describe the statistical IRIS zone in that municipality.\n",
    "It is important to note that not all communes may be divided into IRIS, mainly if they have less than 10,000 inhabitants.\n",
    "https://www.sciencedirect.com/science/article/pii/S2352340921008970"
   ]
  },
  {
   "cell_type": "code",
   "execution_count": 5,
   "id": "652b9230",
   "metadata": {
    "execution": {
     "iopub.execute_input": "2022-07-31T18:10:34.198079Z",
     "iopub.status.busy": "2022-07-31T18:10:34.197336Z",
     "iopub.status.idle": "2022-07-31T18:10:34.202657Z",
     "shell.execute_reply": "2022-07-31T18:10:34.203255Z",
     "shell.execute_reply.started": "2022-07-31T18:06:43.631918Z"
    },
    "papermill": {
     "duration": 0.105578,
     "end_time": "2022-07-31T18:10:34.203533",
     "exception": false,
     "start_time": "2022-07-31T18:10:34.097955",
     "status": "completed"
    },
    "tags": []
   },
   "outputs": [
    {
     "data": {
      "text/plain": [
       "(55169, 15)"
      ]
     },
     "execution_count": 5,
     "metadata": {},
     "output_type": "execute_result"
    }
   ],
   "source": [
    "ccai.shape"
   ]
  },
  {
   "cell_type": "code",
   "execution_count": 6,
   "id": "ecd5c2d8",
   "metadata": {
    "execution": {
     "iopub.execute_input": "2022-07-31T18:10:34.491815Z",
     "iopub.status.busy": "2022-07-31T18:10:34.491143Z",
     "iopub.status.idle": "2022-07-31T18:10:34.941363Z",
     "shell.execute_reply": "2022-07-31T18:10:34.941895Z",
     "shell.execute_reply.started": "2022-07-31T18:06:43.640856Z"
    },
    "papermill": {
     "duration": 0.594911,
     "end_time": "2022-07-31T18:10:34.942095",
     "exception": false,
     "start_time": "2022-07-31T18:10:34.347184",
     "status": "completed"
    },
    "tags": []
   },
   "outputs": [],
   "source": [
    "ccai = ccai.merge(original[[\"IRIS_CODE\", \"ADRESSE\", \"NOM_COMMUNE\", \"PDL\"]].drop_duplicates(), left_on=[\"address\", \"city_name\",\"delivery_points\"], right_on=[\"ADRESSE\",\"NOM_COMMUNE\", \"PDL\"])\n",
    "ccai.drop(columns=[\"ADRESSE\", \"NOM_COMMUNE\", \"PDL\"], inplace=True)"
   ]
  },
  {
   "cell_type": "code",
   "execution_count": 7,
   "id": "6ad1887c",
   "metadata": {
    "execution": {
     "iopub.execute_input": "2022-07-31T18:10:35.231476Z",
     "iopub.status.busy": "2022-07-31T18:10:35.230517Z",
     "iopub.status.idle": "2022-07-31T18:10:35.247932Z",
     "shell.execute_reply": "2022-07-31T18:10:35.247385Z",
     "shell.execute_reply.started": "2022-07-31T18:06:44.071391Z"
    },
    "papermill": {
     "duration": 0.162693,
     "end_time": "2022-07-31T18:10:35.248068",
     "exception": false,
     "start_time": "2022-07-31T18:10:35.085375",
     "status": "completed"
    },
    "tags": []
   },
   "outputs": [
    {
     "data": {
      "text/html": [
       "<div>\n",
       "<style scoped>\n",
       "    .dataframe tbody tr th:only-of-type {\n",
       "        vertical-align: middle;\n",
       "    }\n",
       "\n",
       "    .dataframe tbody tr th {\n",
       "        vertical-align: top;\n",
       "    }\n",
       "\n",
       "    .dataframe thead th {\n",
       "        text-align: right;\n",
       "    }\n",
       "</style>\n",
       "<table border=\"1\" class=\"dataframe\">\n",
       "  <thead>\n",
       "    <tr style=\"text-align: right;\">\n",
       "      <th></th>\n",
       "      <th>id</th>\n",
       "      <th>geometry</th>\n",
       "      <th>address</th>\n",
       "      <th>city_name</th>\n",
       "      <th>consumption</th>\n",
       "      <th>delivery_points</th>\n",
       "      <th>coords_eobs</th>\n",
       "      <th>qq_dict</th>\n",
       "      <th>height</th>\n",
       "      <th>type</th>\n",
       "      <th>age</th>\n",
       "      <th>floors</th>\n",
       "      <th>alt_prec</th>\n",
       "      <th>wall_mat</th>\n",
       "      <th>roof_mat</th>\n",
       "      <th>IRIS_CODE</th>\n",
       "    </tr>\n",
       "  </thead>\n",
       "  <tbody>\n",
       "    <tr>\n",
       "      <th>0</th>\n",
       "      <td>BATIMENT0000000267007025</td>\n",
       "      <td>POLYGON ((831362.2 6287883.7, 831358.5 6287883...</td>\n",
       "      <td>20 RUE DES ARENES</td>\n",
       "      <td>ARLES</td>\n",
       "      <td>73.40591</td>\n",
       "      <td>10</td>\n",
       "      <td>(43.6498605764, 4.649860372400003)</td>\n",
       "      <td>{1: 2592.0, 2: 2067.0, 3: 3237.0, 4: 4076.0, 5...</td>\n",
       "      <td>16.2</td>\n",
       "      <td>Indifférencié</td>\n",
       "      <td>NaN</td>\n",
       "      <td>NaN</td>\n",
       "      <td>1.0</td>\n",
       "      <td>NaN</td>\n",
       "      <td>NaN</td>\n",
       "      <td>130040102</td>\n",
       "    </tr>\n",
       "    <tr>\n",
       "      <th>1</th>\n",
       "      <td>BATIMENT0000000267005618</td>\n",
       "      <td>POLYGON ((831356.7 6287879.5, 831375 6287878.8...</td>\n",
       "      <td>20 RUE DES ARENES</td>\n",
       "      <td>ARLES</td>\n",
       "      <td>73.40591</td>\n",
       "      <td>10</td>\n",
       "      <td>(43.6498605764, 4.649860372400003)</td>\n",
       "      <td>{1: 2592.0, 2: 2067.0, 3: 3237.0, 4: 4076.0, 5...</td>\n",
       "      <td>15.9</td>\n",
       "      <td>Résidentiel</td>\n",
       "      <td>1800-01-01</td>\n",
       "      <td>4.0</td>\n",
       "      <td>1.0</td>\n",
       "      <td>20.0</td>\n",
       "      <td>10.0</td>\n",
       "      <td>130040102</td>\n",
       "    </tr>\n",
       "    <tr>\n",
       "      <th>2</th>\n",
       "      <td>BATIMENT0000000267007027</td>\n",
       "      <td>POLYGON ((831362.2 6287883.7, 831362 6287892.7...</td>\n",
       "      <td>20 RUE DES ARENES</td>\n",
       "      <td>ARLES</td>\n",
       "      <td>73.40591</td>\n",
       "      <td>10</td>\n",
       "      <td>(43.6498605764, 4.649860372400003)</td>\n",
       "      <td>{1: 2592.0, 2: 2067.0, 3: 3237.0, 4: 4076.0, 5...</td>\n",
       "      <td>15.6</td>\n",
       "      <td>Résidentiel</td>\n",
       "      <td>1987-01-01</td>\n",
       "      <td>4.0</td>\n",
       "      <td>1.0</td>\n",
       "      <td>10.0</td>\n",
       "      <td>10.0</td>\n",
       "      <td>130040102</td>\n",
       "    </tr>\n",
       "    <tr>\n",
       "      <th>3</th>\n",
       "      <td>BATIMENT0000000267007037</td>\n",
       "      <td>POLYGON ((831368.4 6287883.9, 831368.1 6287889...</td>\n",
       "      <td>20 RUE DES ARENES</td>\n",
       "      <td>ARLES</td>\n",
       "      <td>73.40591</td>\n",
       "      <td>10</td>\n",
       "      <td>(43.6498605764, 4.649860372400003)</td>\n",
       "      <td>{1: 2592.0, 2: 2067.0, 3: 3237.0, 4: 4076.0, 5...</td>\n",
       "      <td>15.2</td>\n",
       "      <td>Résidentiel</td>\n",
       "      <td>1987-01-01</td>\n",
       "      <td>3.0</td>\n",
       "      <td>1.0</td>\n",
       "      <td>10.0</td>\n",
       "      <td>10.0</td>\n",
       "      <td>130040102</td>\n",
       "    </tr>\n",
       "    <tr>\n",
       "      <th>4</th>\n",
       "      <td>BATIMENT0000000296359233</td>\n",
       "      <td>POLYGON ((865664.7 6324289.7, 865661.4 6324287...</td>\n",
       "      <td>215 AVENUE RENE CHAR</td>\n",
       "      <td>PERNES-LES-FONTAINES</td>\n",
       "      <td>141.82340</td>\n",
       "      <td>21</td>\n",
       "      <td>(43.949860575200006, 5.049860370800005)</td>\n",
       "      <td>{1: 2455.0, 2: 1814.0, 3: 2851.0, 4: 3557.0, 5...</td>\n",
       "      <td>4.3</td>\n",
       "      <td>Indifférencié</td>\n",
       "      <td>NaN</td>\n",
       "      <td>NaN</td>\n",
       "      <td>1.0</td>\n",
       "      <td>NaN</td>\n",
       "      <td>NaN</td>\n",
       "      <td>840880103</td>\n",
       "    </tr>\n",
       "  </tbody>\n",
       "</table>\n",
       "</div>"
      ],
      "text/plain": [
       "                         id  \\\n",
       "0  BATIMENT0000000267007025   \n",
       "1  BATIMENT0000000267005618   \n",
       "2  BATIMENT0000000267007027   \n",
       "3  BATIMENT0000000267007037   \n",
       "4  BATIMENT0000000296359233   \n",
       "\n",
       "                                            geometry               address  \\\n",
       "0  POLYGON ((831362.2 6287883.7, 831358.5 6287883...     20 RUE DES ARENES   \n",
       "1  POLYGON ((831356.7 6287879.5, 831375 6287878.8...     20 RUE DES ARENES   \n",
       "2  POLYGON ((831362.2 6287883.7, 831362 6287892.7...     20 RUE DES ARENES   \n",
       "3  POLYGON ((831368.4 6287883.9, 831368.1 6287889...     20 RUE DES ARENES   \n",
       "4  POLYGON ((865664.7 6324289.7, 865661.4 6324287...  215 AVENUE RENE CHAR   \n",
       "\n",
       "              city_name  consumption  delivery_points  \\\n",
       "0                 ARLES     73.40591               10   \n",
       "1                 ARLES     73.40591               10   \n",
       "2                 ARLES     73.40591               10   \n",
       "3                 ARLES     73.40591               10   \n",
       "4  PERNES-LES-FONTAINES    141.82340               21   \n",
       "\n",
       "                               coords_eobs  \\\n",
       "0       (43.6498605764, 4.649860372400003)   \n",
       "1       (43.6498605764, 4.649860372400003)   \n",
       "2       (43.6498605764, 4.649860372400003)   \n",
       "3       (43.6498605764, 4.649860372400003)   \n",
       "4  (43.949860575200006, 5.049860370800005)   \n",
       "\n",
       "                                             qq_dict  height           type  \\\n",
       "0  {1: 2592.0, 2: 2067.0, 3: 3237.0, 4: 4076.0, 5...    16.2  Indifférencié   \n",
       "1  {1: 2592.0, 2: 2067.0, 3: 3237.0, 4: 4076.0, 5...    15.9    Résidentiel   \n",
       "2  {1: 2592.0, 2: 2067.0, 3: 3237.0, 4: 4076.0, 5...    15.6    Résidentiel   \n",
       "3  {1: 2592.0, 2: 2067.0, 3: 3237.0, 4: 4076.0, 5...    15.2    Résidentiel   \n",
       "4  {1: 2455.0, 2: 1814.0, 3: 2851.0, 4: 3557.0, 5...     4.3  Indifférencié   \n",
       "\n",
       "          age  floors  alt_prec  wall_mat  roof_mat  IRIS_CODE  \n",
       "0         NaN     NaN       1.0       NaN       NaN  130040102  \n",
       "1  1800-01-01     4.0       1.0      20.0      10.0  130040102  \n",
       "2  1987-01-01     4.0       1.0      10.0      10.0  130040102  \n",
       "3  1987-01-01     3.0       1.0      10.0      10.0  130040102  \n",
       "4         NaN     NaN       1.0       NaN       NaN  840880103  "
      ]
     },
     "execution_count": 7,
     "metadata": {},
     "output_type": "execute_result"
    }
   ],
   "source": [
    "ccai.head()"
   ]
  },
  {
   "cell_type": "code",
   "execution_count": 8,
   "id": "92a24201",
   "metadata": {
    "execution": {
     "iopub.execute_input": "2022-07-31T18:10:35.547181Z",
     "iopub.status.busy": "2022-07-31T18:10:35.544813Z",
     "iopub.status.idle": "2022-07-31T18:10:35.881325Z",
     "shell.execute_reply": "2022-07-31T18:10:35.880843Z",
     "shell.execute_reply.started": "2022-07-31T18:06:44.099103Z"
    },
    "papermill": {
     "duration": 0.488643,
     "end_time": "2022-07-31T18:10:35.881440",
     "exception": false,
     "start_time": "2022-07-31T18:10:35.392797",
     "status": "completed"
    },
    "tags": []
   },
   "outputs": [],
   "source": [
    "census = pd.read_csv('../input/census/census_prepared_IRIS_2018.csv', encoding=\"latin\")\n"
   ]
  },
  {
   "cell_type": "markdown",
   "id": "af5105d5",
   "metadata": {
    "papermill": {
     "duration": 0.097801,
     "end_time": "2022-07-31T18:10:36.074277",
     "exception": false,
     "start_time": "2022-07-31T18:10:35.976476",
     "status": "completed"
    },
    "tags": []
   },
   "source": [
    "## Type of building"
   ]
  },
  {
   "cell_type": "code",
   "execution_count": 9,
   "id": "c0a29376",
   "metadata": {
    "execution": {
     "iopub.execute_input": "2022-07-31T18:10:36.274713Z",
     "iopub.status.busy": "2022-07-31T18:10:36.271867Z",
     "iopub.status.idle": "2022-07-31T18:10:36.279996Z",
     "shell.execute_reply": "2022-07-31T18:10:36.279562Z",
     "shell.execute_reply.started": "2022-07-31T18:06:44.461327Z"
    },
    "papermill": {
     "duration": 0.113632,
     "end_time": "2022-07-31T18:10:36.280118",
     "exception": false,
     "start_time": "2022-07-31T18:10:36.166486",
     "status": "completed"
    },
    "tags": []
   },
   "outputs": [
    {
     "data": {
      "text/plain": [
       "Résidentiel               43125\n",
       "Indifférencié              9985\n",
       "Commercial et services     1267\n",
       "Annexe                      744\n",
       "Industriel                   31\n",
       "Sportif                      11\n",
       "Religieux                     6\n",
       "Name: type, dtype: int64"
      ]
     },
     "execution_count": 9,
     "metadata": {},
     "output_type": "execute_result"
    }
   ],
   "source": [
    "ccai[\"type\"].value_counts()"
   ]
  },
  {
   "cell_type": "markdown",
   "id": "9fcbabe2",
   "metadata": {
    "papermill": {
     "duration": 0.091177,
     "end_time": "2022-07-31T18:10:36.463549",
     "exception": false,
     "start_time": "2022-07-31T18:10:36.372372",
     "status": "completed"
    },
    "tags": []
   },
   "source": [
    "# Roof mat and wall mat"
   ]
  },
  {
   "cell_type": "code",
   "execution_count": 10,
   "id": "3c6bbde4",
   "metadata": {
    "execution": {
     "iopub.execute_input": "2022-07-31T18:10:36.651652Z",
     "iopub.status.busy": "2022-07-31T18:10:36.651165Z",
     "iopub.status.idle": "2022-07-31T18:10:37.358897Z",
     "shell.execute_reply": "2022-07-31T18:10:37.359361Z",
     "shell.execute_reply.started": "2022-07-31T18:06:44.483194Z"
    },
    "papermill": {
     "duration": 0.802969,
     "end_time": "2022-07-31T18:10:37.359506",
     "exception": false,
     "start_time": "2022-07-31T18:10:36.556537",
     "status": "completed"
    },
    "tags": []
   },
   "outputs": [
    {
     "data": {
      "image/png": "[encoded data removed]",
      "text/plain": [
       "<Figure size 720x432 with 1 Axes>"
      ]
     },
     "metadata": {
      "needs_background": "light"
     },
     "output_type": "display_data"
    }
   ],
   "source": [
    "import seaborn as sns\n",
    "\n",
    "fig, ax = plt.subplots(nrows=1, ncols=1, figsize=(10, 6))\n",
    "sns.countplot(data=ccai, x='roof_mat')\n",
    "plt.show()"
   ]
  },
  {
   "cell_type": "code",
   "execution_count": 11,
   "id": "b8f2a47b",
   "metadata": {
    "execution": {
     "iopub.execute_input": "2022-07-31T18:10:37.548487Z",
     "iopub.status.busy": "2022-07-31T18:10:37.547969Z",
     "iopub.status.idle": "2022-07-31T18:10:38.157608Z",
     "shell.execute_reply": "2022-07-31T18:10:38.158148Z",
     "shell.execute_reply.started": "2022-07-31T18:06:45.147933Z"
    },
    "papermill": {
     "duration": 0.704991,
     "end_time": "2022-07-31T18:10:38.158318",
     "exception": false,
     "start_time": "2022-07-31T18:10:37.453327",
     "status": "completed"
    },
    "tags": []
   },
   "outputs": [
    {
     "data": {
      "image/png": "[encoded data removed]",
      "text/plain": [
       "<Figure size 720x432 with 1 Axes>"
      ]
     },
     "metadata": {
      "needs_background": "light"
     },
     "output_type": "display_data"
    }
   ],
   "source": [
    "fig, ax = plt.subplots(nrows=1, ncols=1, figsize=(10, 6))\n",
    "sns.countplot(data=ccai, x='wall_mat')\n",
    "plt.show()"
   ]
  },
  {
   "cell_type": "code",
   "execution_count": 12,
   "id": "e9af3ca1",
   "metadata": {
    "execution": {
     "iopub.execute_input": "2022-07-31T18:10:38.371017Z",
     "iopub.status.busy": "2022-07-31T18:10:38.370371Z",
     "iopub.status.idle": "2022-07-31T18:10:39.244335Z",
     "shell.execute_reply": "2022-07-31T18:10:39.243883Z",
     "shell.execute_reply.started": "2022-07-31T18:06:45.819969Z"
    },
    "papermill": {
     "duration": 0.991626,
     "end_time": "2022-07-31T18:10:39.244448",
     "exception": false,
     "start_time": "2022-07-31T18:10:38.252822",
     "status": "completed"
    },
    "tags": []
   },
   "outputs": [],
   "source": [
    "ccai['roof_wall'] = ccai[['roof_mat', 'wall_mat']].apply(lambda row: '_'.join(row.values.astype(str)), axis=1)"
   ]
  },
  {
   "cell_type": "markdown",
   "id": "be26c198",
   "metadata": {
    "papermill": {
     "duration": 0.143393,
     "end_time": "2022-07-31T18:10:39.533784",
     "exception": false,
     "start_time": "2022-07-31T18:10:39.390391",
     "status": "completed"
    },
    "tags": []
   },
   "source": [
    "## Working with the geometry variable"
   ]
  },
  {
   "cell_type": "markdown",
   "id": "4dbd7824",
   "metadata": {
    "papermill": {
     "duration": 0.144009,
     "end_time": "2022-07-31T18:10:39.825152",
     "exception": false,
     "start_time": "2022-07-31T18:10:39.681143",
     "status": "completed"
    },
    "tags": []
   },
   "source": [
    "We parse the geometry variable to work with it from geopandas"
   ]
  },
  {
   "cell_type": "code",
   "execution_count": 13,
   "id": "2025de68",
   "metadata": {
    "execution": {
     "iopub.execute_input": "2022-07-31T18:10:40.121259Z",
     "iopub.status.busy": "2022-07-31T18:10:40.120589Z",
     "iopub.status.idle": "2022-07-31T18:10:41.899758Z",
     "shell.execute_reply": "2022-07-31T18:10:41.899178Z",
     "shell.execute_reply.started": "2022-07-31T18:06:46.684398Z"
    },
    "papermill": {
     "duration": 1.929188,
     "end_time": "2022-07-31T18:10:41.899913",
     "exception": false,
     "start_time": "2022-07-31T18:10:39.970725",
     "status": "completed"
    },
    "tags": []
   },
   "outputs": [],
   "source": [
    "ccai['geometry'] = geopandas.GeoSeries.from_wkt(ccai['geometry'])\n",
    "gdf = geopandas.GeoDataFrame(ccai, geometry='geometry')"
   ]
  },
  {
   "cell_type": "code",
   "execution_count": 14,
   "id": "183fb3d5",
   "metadata": {
    "execution": {
     "iopub.execute_input": "2022-07-31T18:10:42.186594Z",
     "iopub.status.busy": "2022-07-31T18:10:42.185922Z",
     "iopub.status.idle": "2022-07-31T18:10:42.195899Z",
     "shell.execute_reply": "2022-07-31T18:10:42.196509Z",
     "shell.execute_reply.started": "2022-07-31T18:06:47.694123Z"
    },
    "papermill": {
     "duration": 0.156329,
     "end_time": "2022-07-31T18:10:42.196684",
     "exception": false,
     "start_time": "2022-07-31T18:10:42.040355",
     "status": "completed"
    },
    "tags": []
   },
   "outputs": [
    {
     "data": {
      "image/svg+xml": [
       "<svg xmlns=\"http://www.w3.org/2000/svg\" xmlns:xlink=\"http://www.w3.org/1999/xlink\" width=\"100.0\" height=\"100.0\" viewBox=\"831355.448 6287865.248 20.304000000003725 15.004000000655651\" preserveAspectRatio=\"xMinYMin meet\"><g transform=\"matrix(1,0,0,-1,0,12575745.5)\"><path fill-rule=\"evenodd\" fill=\"#66cc99\" stroke=\"#555555\" stroke-width=\"0.4060800000000745\" opacity=\"0.6\" d=\"M 831356.7,6287879.5 L 831375.0,6287878.8 L 831373.2,6287866.8 L 831367.0,6287867.2 L 831366.9,6287866.1 L 831361.0,6287866.0 L 831360.9,6287867.1 L 831356.2,6287867.5 L 831356.3,6287870.0 L 831356.9,6287878.9 L 831356.6,6287878.9 L 831356.7,6287879.5 z M 831358.2,6287874.8 L 831358.0,6287871.9 L 831364.4,6287871.7 L 831364.2,6287874.8 L 831358.2,6287874.8 z\" /></g></svg>"
      ],
      "text/plain": [
       "<shapely.geometry.polygon.Polygon at 0x7f35e3b3ca10>"
      ]
     },
     "execution_count": 14,
     "metadata": {},
     "output_type": "execute_result"
    }
   ],
   "source": [
    "ccai[\"geometry\"][1]"
   ]
  },
  {
   "cell_type": "code",
   "execution_count": 15,
   "id": "72ac5bc7",
   "metadata": {
    "execution": {
     "iopub.execute_input": "2022-07-31T18:10:42.483950Z",
     "iopub.status.busy": "2022-07-31T18:10:42.483355Z",
     "iopub.status.idle": "2022-07-31T18:10:42.488020Z",
     "shell.execute_reply": "2022-07-31T18:10:42.487473Z",
     "shell.execute_reply.started": "2022-07-31T18:06:47.709752Z"
    },
    "papermill": {
     "duration": 0.148117,
     "end_time": "2022-07-31T18:10:42.488145",
     "exception": false,
     "start_time": "2022-07-31T18:10:42.340028",
     "status": "completed"
    },
    "tags": []
   },
   "outputs": [
    {
     "name": "stdout",
     "output_type": "stream",
     "text": [
      "None\n"
     ]
    }
   ],
   "source": [
    "print(gdf.crs)"
   ]
  },
  {
   "cell_type": "markdown",
   "id": "43a9a554",
   "metadata": {
    "papermill": {
     "duration": 0.143192,
     "end_time": "2022-07-31T18:10:42.773625",
     "exception": false,
     "start_time": "2022-07-31T18:10:42.630433",
     "status": "completed"
    },
    "tags": []
   },
   "source": [
    "Since we do not have a crs we have to set the corresponding crs to the geometry column. In France, it is common to use the projection 2154"
   ]
  },
  {
   "cell_type": "code",
   "execution_count": 16,
   "id": "ba25805f",
   "metadata": {
    "execution": {
     "iopub.execute_input": "2022-07-31T18:10:43.082529Z",
     "iopub.status.busy": "2022-07-31T18:10:43.078746Z",
     "iopub.status.idle": "2022-07-31T18:10:43.154164Z",
     "shell.execute_reply": "2022-07-31T18:10:43.154581Z",
     "shell.execute_reply.started": "2022-07-31T18:06:47.717697Z"
    },
    "papermill": {
     "duration": 0.234495,
     "end_time": "2022-07-31T18:10:43.154723",
     "exception": false,
     "start_time": "2022-07-31T18:10:42.920228",
     "status": "completed"
    },
    "tags": []
   },
   "outputs": [
    {
     "name": "stdout",
     "output_type": "stream",
     "text": [
      "epsg:2154\n"
     ]
    }
   ],
   "source": [
    "gdf = gdf.set_crs('epsg:2154')\n",
    "print(gdf.crs)"
   ]
  },
  {
   "cell_type": "markdown",
   "id": "189d2d60",
   "metadata": {
    "papermill": {
     "duration": 0.094331,
     "end_time": "2022-07-31T18:10:43.343772",
     "exception": false,
     "start_time": "2022-07-31T18:10:43.249441",
     "status": "completed"
    },
    "tags": []
   },
   "source": [
    "Now we are able to calculate the area of the polygon"
   ]
  },
  {
   "cell_type": "code",
   "execution_count": 17,
   "id": "0160764f",
   "metadata": {
    "execution": {
     "iopub.execute_input": "2022-07-31T18:10:43.537401Z",
     "iopub.status.busy": "2022-07-31T18:10:43.536713Z",
     "iopub.status.idle": "2022-07-31T18:10:43.567641Z",
     "shell.execute_reply": "2022-07-31T18:10:43.568177Z",
     "shell.execute_reply.started": "2022-07-31T18:06:47.821397Z"
    },
    "papermill": {
     "duration": 0.1308,
     "end_time": "2022-07-31T18:10:43.568359",
     "exception": false,
     "start_time": "2022-07-31T18:10:43.437559",
     "status": "completed"
    },
    "tags": []
   },
   "outputs": [],
   "source": [
    "gdf['area'] = gdf.geometry.area"
   ]
  },
  {
   "cell_type": "markdown",
   "id": "6b50dfb8",
   "metadata": {
    "papermill": {
     "duration": 0.14289,
     "end_time": "2022-07-31T18:10:43.855214",
     "exception": false,
     "start_time": "2022-07-31T18:10:43.712324",
     "status": "completed"
    },
    "tags": []
   },
   "source": [
    "By calculating the polygon centroid, we calculate the coordinates of the building"
   ]
  },
  {
   "cell_type": "code",
   "execution_count": 18,
   "id": "8c9ce5b8",
   "metadata": {
    "execution": {
     "iopub.execute_input": "2022-07-31T18:10:44.142301Z",
     "iopub.status.busy": "2022-07-31T18:10:44.141635Z",
     "iopub.status.idle": "2022-07-31T18:10:44.518654Z",
     "shell.execute_reply": "2022-07-31T18:10:44.518010Z",
     "shell.execute_reply.started": "2022-07-31T18:06:47.842537Z"
    },
    "papermill": {
     "duration": 0.522587,
     "end_time": "2022-07-31T18:10:44.518800",
     "exception": false,
     "start_time": "2022-07-31T18:10:43.996213",
     "status": "completed"
    },
    "tags": []
   },
   "outputs": [],
   "source": [
    "gdf['polygon_centroid'] = gdf.geometry.centroid\n",
    "#Change the CRS to longitude, latitude\n",
    "gdf[\"polygon_centroid\"]= gdf[\"polygon_centroid\"].to_crs(4326)"
   ]
  },
  {
   "cell_type": "code",
   "execution_count": 19,
   "id": "ff5937ed",
   "metadata": {
    "execution": {
     "iopub.execute_input": "2022-07-31T18:10:44.765907Z",
     "iopub.status.busy": "2022-07-31T18:10:44.765261Z",
     "iopub.status.idle": "2022-07-31T18:10:44.784739Z",
     "shell.execute_reply": "2022-07-31T18:10:44.784108Z",
     "shell.execute_reply.started": "2022-07-31T18:06:48.251308Z"
    },
    "papermill": {
     "duration": 0.166253,
     "end_time": "2022-07-31T18:10:44.784906",
     "exception": false,
     "start_time": "2022-07-31T18:10:44.618653",
     "status": "completed"
    },
    "tags": []
   },
   "outputs": [],
   "source": [
    "gdf[\"Lon\"]= gdf.polygon_centroid.x\n",
    "gdf['Lat'] = gdf.polygon_centroid.y"
   ]
  },
  {
   "cell_type": "code",
   "execution_count": 20,
   "id": "9ebf0ae8",
   "metadata": {
    "execution": {
     "iopub.execute_input": "2022-07-31T18:10:45.075126Z",
     "iopub.status.busy": "2022-07-31T18:10:45.074402Z",
     "iopub.status.idle": "2022-07-31T18:10:45.283331Z",
     "shell.execute_reply": "2022-07-31T18:10:45.282804Z",
     "shell.execute_reply.started": "2022-07-31T18:06:48.278710Z"
    },
    "papermill": {
     "duration": 0.354543,
     "end_time": "2022-07-31T18:10:45.283468",
     "exception": false,
     "start_time": "2022-07-31T18:10:44.928925",
     "status": "completed"
    },
    "tags": []
   },
   "outputs": [
    {
     "data": {
      "text/plain": [
       "<AxesSubplot:>"
      ]
     },
     "execution_count": 20,
     "metadata": {},
     "output_type": "execute_result"
    },
    {
     "data": {
      "image/png": "[encoded data removed]",
      "text/plain": [
       "<Figure size 432x288 with 1 Axes>"
      ]
     },
     "metadata": {
      "needs_background": "light"
     },
     "output_type": "display_data"
    }
   ],
   "source": [
    "gdf[\"height\"].hist()"
   ]
  },
  {
   "cell_type": "code",
   "execution_count": 21,
   "id": "41f3c520",
   "metadata": {
    "execution": {
     "iopub.execute_input": "2022-07-31T18:10:45.579187Z",
     "iopub.status.busy": "2022-07-31T18:10:45.578461Z",
     "iopub.status.idle": "2022-07-31T18:10:45.581573Z",
     "shell.execute_reply": "2022-07-31T18:10:45.582061Z",
     "shell.execute_reply.started": "2022-07-31T18:06:48.540077Z"
    },
    "papermill": {
     "duration": 0.153174,
     "end_time": "2022-07-31T18:10:45.582232",
     "exception": false,
     "start_time": "2022-07-31T18:10:45.429058",
     "status": "completed"
    },
    "tags": []
   },
   "outputs": [],
   "source": [
    "gdf.height = np.where(gdf.height == 0, np.nan, gdf.height)"
   ]
  },
  {
   "cell_type": "code",
   "execution_count": 22,
   "id": "f6fc0980",
   "metadata": {
    "execution": {
     "iopub.execute_input": "2022-07-31T18:10:45.873805Z",
     "iopub.status.busy": "2022-07-31T18:10:45.873053Z",
     "iopub.status.idle": "2022-07-31T18:10:45.879024Z",
     "shell.execute_reply": "2022-07-31T18:10:45.878442Z",
     "shell.execute_reply.started": "2022-07-31T18:06:48.547557Z"
    },
    "papermill": {
     "duration": 0.153765,
     "end_time": "2022-07-31T18:10:45.879171",
     "exception": false,
     "start_time": "2022-07-31T18:10:45.725406",
     "status": "completed"
    },
    "tags": []
   },
   "outputs": [
    {
     "data": {
      "image/svg+xml": [
       "<svg xmlns=\"http://www.w3.org/2000/svg\" xmlns:xlink=\"http://www.w3.org/1999/xlink\" width=\"100.0\" height=\"100.0\" viewBox=\"831355.448 6287865.248 20.304000000003725 15.004000000655651\" preserveAspectRatio=\"xMinYMin meet\"><g transform=\"matrix(1,0,0,-1,0,12575745.5)\"><path fill-rule=\"evenodd\" fill=\"#66cc99\" stroke=\"#555555\" stroke-width=\"0.4060800000000745\" opacity=\"0.6\" d=\"M 831356.7,6287879.5 L 831375.0,6287878.8 L 831373.2,6287866.8 L 831367.0,6287867.2 L 831366.9,6287866.1 L 831361.0,6287866.0 L 831360.9,6287867.1 L 831356.2,6287867.5 L 831356.3,6287870.0 L 831356.9,6287878.9 L 831356.6,6287878.9 L 831356.7,6287879.5 z M 831358.2,6287874.8 L 831358.0,6287871.9 L 831364.4,6287871.7 L 831364.2,6287874.8 L 831358.2,6287874.8 z\" /></g></svg>"
      ],
      "text/plain": [
       "<shapely.geometry.polygon.Polygon at 0x7f35e3003e10>"
      ]
     },
     "execution_count": 22,
     "metadata": {},
     "output_type": "execute_result"
    }
   ],
   "source": [
    "ccai[\"geometry\"][1]"
   ]
  },
  {
   "cell_type": "markdown",
   "id": "47535811",
   "metadata": {
    "papermill": {
     "duration": 0.142563,
     "end_time": "2022-07-31T18:10:46.168128",
     "exception": false,
     "start_time": "2022-07-31T18:10:46.025565",
     "status": "completed"
    },
    "tags": []
   },
   "source": [
    "We calculate the building volume"
   ]
  },
  {
   "cell_type": "code",
   "execution_count": 23,
   "id": "6bdb4775",
   "metadata": {
    "execution": {
     "iopub.execute_input": "2022-07-31T18:10:46.460283Z",
     "iopub.status.busy": "2022-07-31T18:10:46.459447Z",
     "iopub.status.idle": "2022-07-31T18:10:46.462554Z",
     "shell.execute_reply": "2022-07-31T18:10:46.461985Z",
     "shell.execute_reply.started": "2022-07-31T18:06:48.561999Z"
    },
    "papermill": {
     "duration": 0.151369,
     "end_time": "2022-07-31T18:10:46.462712",
     "exception": false,
     "start_time": "2022-07-31T18:10:46.311343",
     "status": "completed"
    },
    "tags": []
   },
   "outputs": [],
   "source": [
    "gdf[\"volume\"] = gdf[\"area\"]*gdf[\"height\"]"
   ]
  },
  {
   "cell_type": "code",
   "execution_count": 24,
   "id": "754a49db",
   "metadata": {
    "execution": {
     "iopub.execute_input": "2022-07-31T18:10:46.757397Z",
     "iopub.status.busy": "2022-07-31T18:10:46.756583Z",
     "iopub.status.idle": "2022-07-31T18:10:46.760994Z",
     "shell.execute_reply": "2022-07-31T18:10:46.760469Z",
     "shell.execute_reply.started": "2022-07-31T18:06:48.574752Z"
    },
    "papermill": {
     "duration": 0.152611,
     "end_time": "2022-07-31T18:10:46.761125",
     "exception": false,
     "start_time": "2022-07-31T18:10:46.608514",
     "status": "completed"
    },
    "tags": []
   },
   "outputs": [],
   "source": [
    "gdf[\"volume_per_floor\"] = gdf[\"volume\"]/gdf[\"floors\"]"
   ]
  },
  {
   "cell_type": "code",
   "execution_count": 25,
   "id": "d3351b67",
   "metadata": {
    "execution": {
     "iopub.execute_input": "2022-07-31T18:10:47.068715Z",
     "iopub.status.busy": "2022-07-31T18:10:47.068048Z",
     "iopub.status.idle": "2022-07-31T18:10:47.075167Z",
     "shell.execute_reply": "2022-07-31T18:10:47.074543Z",
     "shell.execute_reply.started": "2022-07-31T18:06:48.586033Z"
    },
    "papermill": {
     "duration": 0.16644,
     "end_time": "2022-07-31T18:10:47.075302",
     "exception": false,
     "start_time": "2022-07-31T18:10:46.908862",
     "status": "completed"
    },
    "tags": []
   },
   "outputs": [],
   "source": [
    "for i in [\"roof_mat\", \"wall_mat\"]:\n",
    "    gdf[i]=gdf[i].astype('object')"
   ]
  },
  {
   "cell_type": "code",
   "execution_count": 26,
   "id": "61fa1cea",
   "metadata": {
    "execution": {
     "iopub.execute_input": "2022-07-31T18:10:47.371925Z",
     "iopub.status.busy": "2022-07-31T18:10:47.370991Z",
     "iopub.status.idle": "2022-07-31T18:10:47.395335Z",
     "shell.execute_reply": "2022-07-31T18:10:47.395883Z",
     "shell.execute_reply.started": "2022-07-31T18:06:48.607098Z"
    },
    "papermill": {
     "duration": 0.175054,
     "end_time": "2022-07-31T18:10:47.396051",
     "exception": false,
     "start_time": "2022-07-31T18:10:47.220997",
     "status": "completed"
    },
    "tags": []
   },
   "outputs": [
    {
     "data": {
      "text/plain": [
       "consumption         1.000000\n",
       "floors              0.211700\n",
       "volume              0.209520\n",
       "height              0.199018\n",
       "area                0.152891\n",
       "delivery_points     0.102997\n",
       "volume_per_floor    0.074566\n",
       "Lon                 0.062541\n",
       "Lat                 0.019563\n",
       "alt_prec            0.011153\n",
       "Name: consumption, dtype: float64"
      ]
     },
     "execution_count": 26,
     "metadata": {},
     "output_type": "execute_result"
    }
   ],
   "source": [
    "gdf.corr().abs()['consumption'].sort_values(ascending=False).head(40)"
   ]
  },
  {
   "cell_type": "markdown",
   "id": "03896632",
   "metadata": {
    "papermill": {
     "duration": 0.143074,
     "end_time": "2022-07-31T18:10:47.683847",
     "exception": false,
     "start_time": "2022-07-31T18:10:47.540773",
     "status": "completed"
    },
    "tags": []
   },
   "source": [
    "## Age variable"
   ]
  },
  {
   "cell_type": "code",
   "execution_count": 27,
   "id": "2ea24362",
   "metadata": {
    "execution": {
     "iopub.execute_input": "2022-07-31T18:10:47.973177Z",
     "iopub.status.busy": "2022-07-31T18:10:47.972579Z",
     "iopub.status.idle": "2022-07-31T18:10:48.004768Z",
     "shell.execute_reply": "2022-07-31T18:10:48.005297Z",
     "shell.execute_reply.started": "2022-07-31T18:06:48.651120Z"
    },
    "papermill": {
     "duration": 0.178484,
     "end_time": "2022-07-31T18:10:48.005487",
     "exception": false,
     "start_time": "2022-07-31T18:10:47.827003",
     "status": "completed"
    },
    "tags": []
   },
   "outputs": [],
   "source": [
    "gdf[\"age\"]= gdf[\"age\"].str[:4]"
   ]
  },
  {
   "cell_type": "code",
   "execution_count": 28,
   "id": "ed1519cf",
   "metadata": {
    "execution": {
     "iopub.execute_input": "2022-07-31T18:10:48.298710Z",
     "iopub.status.busy": "2022-07-31T18:10:48.298031Z",
     "iopub.status.idle": "2022-07-31T18:10:48.309060Z",
     "shell.execute_reply": "2022-07-31T18:10:48.309598Z",
     "shell.execute_reply.started": "2022-07-31T18:06:48.690553Z"
    },
    "papermill": {
     "duration": 0.160542,
     "end_time": "2022-07-31T18:10:48.309778",
     "exception": false,
     "start_time": "2022-07-31T18:10:48.149236",
     "status": "completed"
    },
    "tags": []
   },
   "outputs": [],
   "source": [
    "gdf[\"age\"] = gdf[\"age\"].astype('float')"
   ]
  },
  {
   "cell_type": "markdown",
   "id": "3f2f618f",
   "metadata": {
    "papermill": {
     "duration": 0.148219,
     "end_time": "2022-07-31T18:10:48.603696",
     "exception": false,
     "start_time": "2022-07-31T18:10:48.455477",
     "status": "completed"
    },
    "tags": []
   },
   "source": [
    "## City and IRIS variables"
   ]
  },
  {
   "cell_type": "markdown",
   "id": "1acb4b41",
   "metadata": {
    "papermill": {
     "duration": 0.14446,
     "end_time": "2022-07-31T18:10:48.895110",
     "exception": false,
     "start_time": "2022-07-31T18:10:48.750650",
     "status": "completed"
    },
    "tags": []
   },
   "source": [
    "We create new variables related to the mean consumption in the same city and the mean consumption in the same zone (same IRIS code)"
   ]
  },
  {
   "cell_type": "code",
   "execution_count": 29,
   "id": "3d899caa",
   "metadata": {
    "execution": {
     "iopub.execute_input": "2022-07-31T18:10:49.186584Z",
     "iopub.status.busy": "2022-07-31T18:10:49.185884Z",
     "iopub.status.idle": "2022-07-31T18:10:49.229856Z",
     "shell.execute_reply": "2022-07-31T18:10:49.230433Z",
     "shell.execute_reply.started": "2022-07-31T18:06:48.722808Z"
    },
    "papermill": {
     "duration": 0.190956,
     "end_time": "2022-07-31T18:10:49.230605",
     "exception": false,
     "start_time": "2022-07-31T18:10:49.039649",
     "status": "completed"
    },
    "tags": []
   },
   "outputs": [],
   "source": [
    "gdf[\"mean_cons_IRIS\"] = gdf.groupby(\"IRIS_CODE\")[\"consumption\"].transform('mean')\n",
    "gdf[\"mean_cons_city\"] = gdf.groupby(\"city_name\")[\"consumption\"].transform('mean')\n",
    "gdf[\"count_IRIS\"] = gdf.groupby(\"IRIS_CODE\")[\"consumption\"].transform('count')\n",
    "gdf[\"count_city\"] = gdf.groupby(\"city_name\")[\"consumption\"].transform('count')\n",
    "\n",
    "#gdf[\"mean_cons_IRIS\"] = (gdf[\"mean_cons_IRIS\"] - gdf[\"consumption\"]/gdf[\"count_IRIS\"])*(gdf[\"count_IRIS\"]/(gdf[\"count_IRIS\"]-1))\n",
    "#gdf[\"mean_cons_city\"] = (gdf[\"mean_cons_city\"] - gdf[\"consumption\"]/gdf[\"count_city\"])*(gdf[\"count_city\"]/(gdf[\"count_city\"]-1))\n",
    "\n",
    "gdf[\"mean_cons_IRIS\"] = np.round(gdf[\"mean_cons_IRIS\"],0)\n",
    "gdf[\"mean_cons_city\"] = np.round(gdf[\"mean_cons_city\"],0)\n",
    "\n",
    "\n",
    "#If there are not several buildings per city, this value is considered null\n",
    "gdf.loc[gdf[\"count_IRIS\"]<5,\"mean_cons_IRIS\"] = np.nan\n",
    "gdf.loc[gdf[\"count_city\"]<5,\"mean_cons_city\"] = np.nan"
   ]
  },
  {
   "cell_type": "code",
   "execution_count": 30,
   "id": "31ec5e1a",
   "metadata": {
    "execution": {
     "iopub.execute_input": "2022-07-31T18:10:49.523971Z",
     "iopub.status.busy": "2022-07-31T18:10:49.523143Z",
     "iopub.status.idle": "2022-07-31T18:10:49.549631Z",
     "shell.execute_reply": "2022-07-31T18:10:49.550212Z",
     "shell.execute_reply.started": "2022-07-31T18:06:48.794676Z"
    },
    "papermill": {
     "duration": 0.173522,
     "end_time": "2022-07-31T18:10:49.550371",
     "exception": false,
     "start_time": "2022-07-31T18:10:49.376849",
     "status": "completed"
    },
    "tags": []
   },
   "outputs": [
    {
     "data": {
      "text/plain": [
       "(4836, 27)"
      ]
     },
     "execution_count": 30,
     "metadata": {},
     "output_type": "execute_result"
    }
   ],
   "source": [
    "gdf[gdf[\"count_IRIS\"]<4].shape"
   ]
  },
  {
   "cell_type": "code",
   "execution_count": 31,
   "id": "675c5f2c",
   "metadata": {
    "execution": {
     "iopub.execute_input": "2022-07-31T18:10:49.848245Z",
     "iopub.status.busy": "2022-07-31T18:10:49.847369Z",
     "iopub.status.idle": "2022-07-31T18:10:49.882449Z",
     "shell.execute_reply": "2022-07-31T18:10:49.881902Z",
     "shell.execute_reply.started": "2022-07-31T18:06:48.847679Z"
    },
    "papermill": {
     "duration": 0.184643,
     "end_time": "2022-07-31T18:10:49.882582",
     "exception": false,
     "start_time": "2022-07-31T18:10:49.697939",
     "status": "completed"
    },
    "tags": []
   },
   "outputs": [
    {
     "data": {
      "text/plain": [
       "consumption         1.000000\n",
       "mean_cons_IRIS      0.698115\n",
       "mean_cons_city      0.394707\n",
       "delivery_points     0.102997\n",
       "Lon                 0.062541\n",
       "count_city          0.009154\n",
       "alt_prec           -0.011153\n",
       "Lat                -0.019563\n",
       "volume_per_floor   -0.074566\n",
       "count_IRIS         -0.085995\n",
       "age                -0.102812\n",
       "area               -0.152891\n",
       "height             -0.199018\n",
       "volume             -0.209520\n",
       "floors             -0.211700\n",
       "Name: consumption, dtype: float64"
      ]
     },
     "execution_count": 31,
     "metadata": {},
     "output_type": "execute_result"
    }
   ],
   "source": [
    "gdf.corr()['consumption'].sort_values(ascending=False).head(40)"
   ]
  },
  {
   "cell_type": "markdown",
   "id": "3e1055d0",
   "metadata": {
    "papermill": {
     "duration": 0.150101,
     "end_time": "2022-07-31T18:10:50.180668",
     "exception": false,
     "start_time": "2022-07-31T18:10:50.030567",
     "status": "completed"
    },
    "tags": []
   },
   "source": [
    "**correlation between consumptions and means_cons_IRIS**: The building consumption display singnificant correlation (0,63) with the mean consumption of the same IRIS zone"
   ]
  },
  {
   "cell_type": "code",
   "execution_count": 32,
   "id": "894c004d",
   "metadata": {
    "execution": {
     "iopub.execute_input": "2022-07-31T18:10:50.485530Z",
     "iopub.status.busy": "2022-07-31T18:10:50.484654Z",
     "iopub.status.idle": "2022-07-31T18:10:50.489001Z",
     "shell.execute_reply": "2022-07-31T18:10:50.489534Z",
     "shell.execute_reply.started": "2022-07-31T18:06:48.902657Z"
    },
    "papermill": {
     "duration": 0.159039,
     "end_time": "2022-07-31T18:10:50.489705",
     "exception": false,
     "start_time": "2022-07-31T18:10:50.330666",
     "status": "completed"
    },
    "tags": []
   },
   "outputs": [],
   "source": [
    "#gdf.groupby(\"mean_cons_IRIS\")[\"consumption\"].mean().plot(title=\"mean_cons_IRIS vs consumption\")"
   ]
  },
  {
   "cell_type": "markdown",
   "id": "5c969056",
   "metadata": {
    "papermill": {
     "duration": 0.09767,
     "end_time": "2022-07-31T18:10:50.739012",
     "exception": false,
     "start_time": "2022-07-31T18:10:50.641342",
     "status": "completed"
    },
    "tags": []
   },
   "source": [
    "### We merge the dataset with the CENSUS data"
   ]
  },
  {
   "cell_type": "code",
   "execution_count": 33,
   "id": "ca7bc8a2",
   "metadata": {
    "execution": {
     "iopub.execute_input": "2022-07-31T18:10:50.936759Z",
     "iopub.status.busy": "2022-07-31T18:10:50.935902Z",
     "iopub.status.idle": "2022-07-31T18:10:50.948512Z",
     "shell.execute_reply": "2022-07-31T18:10:50.949076Z",
     "shell.execute_reply.started": "2022-07-31T18:06:48.910062Z"
    },
    "papermill": {
     "duration": 0.114862,
     "end_time": "2022-07-31T18:10:50.949249",
     "exception": false,
     "start_time": "2022-07-31T18:10:50.834387",
     "status": "completed"
    },
    "tags": []
   },
   "outputs": [],
   "source": [
    "census = np.round(census,2)"
   ]
  },
  {
   "cell_type": "code",
   "execution_count": 34,
   "id": "20686175",
   "metadata": {
    "execution": {
     "iopub.execute_input": "2022-07-31T18:10:51.252427Z",
     "iopub.status.busy": "2022-07-31T18:10:51.251427Z",
     "iopub.status.idle": "2022-07-31T18:10:51.255013Z",
     "shell.execute_reply": "2022-07-31T18:10:51.255559Z",
     "shell.execute_reply.started": "2022-07-31T18:06:48.935249Z"
    },
    "papermill": {
     "duration": 0.157623,
     "end_time": "2022-07-31T18:10:51.255728",
     "exception": false,
     "start_time": "2022-07-31T18:10:51.098105",
     "status": "completed"
    },
    "tags": []
   },
   "outputs": [],
   "source": [
    "cs = [x for x in census.columns if \"CS1\" in x]\n",
    "census = census[[x for x in census.columns if x not in cs]]"
   ]
  },
  {
   "cell_type": "code",
   "execution_count": 35,
   "id": "b3b33c2f",
   "metadata": {
    "execution": {
     "iopub.execute_input": "2022-07-31T18:10:51.558213Z",
     "iopub.status.busy": "2022-07-31T18:10:51.557311Z",
     "iopub.status.idle": "2022-07-31T18:10:51.579575Z",
     "shell.execute_reply": "2022-07-31T18:10:51.580262Z",
     "shell.execute_reply.started": "2022-07-31T18:06:48.946169Z"
    },
    "papermill": {
     "duration": 0.174509,
     "end_time": "2022-07-31T18:10:51.580429",
     "exception": false,
     "start_time": "2022-07-31T18:10:51.405920",
     "status": "completed"
    },
    "tags": []
   },
   "outputs": [
    {
     "data": {
      "text/html": [
       "<div>\n",
       "<style scoped>\n",
       "    .dataframe tbody tr th:only-of-type {\n",
       "        vertical-align: middle;\n",
       "    }\n",
       "\n",
       "    .dataframe tbody tr th {\n",
       "        vertical-align: top;\n",
       "    }\n",
       "\n",
       "    .dataframe thead th {\n",
       "        text-align: right;\n",
       "    }\n",
       "</style>\n",
       "<table border=\"1\" class=\"dataframe\">\n",
       "  <thead>\n",
       "    <tr style=\"text-align: right;\">\n",
       "      <th></th>\n",
       "      <th>IRIS</th>\n",
       "      <th>CHFL_1</th>\n",
       "      <th>CHFL_2</th>\n",
       "      <th>CHFL_3</th>\n",
       "      <th>CHFL_4</th>\n",
       "      <th>CHFL_X</th>\n",
       "      <th>CHFL_Z</th>\n",
       "      <th>CMBL_1</th>\n",
       "      <th>CMBL_2</th>\n",
       "      <th>CMBL_3</th>\n",
       "      <th>...</th>\n",
       "      <th>CHFL1_CMBL_2</th>\n",
       "      <th>CHFL1_CMBL_3</th>\n",
       "      <th>CHFL1_CMBL_4</th>\n",
       "      <th>CHFL1_CMBL_5</th>\n",
       "      <th>CHFL1_CMBL_6</th>\n",
       "      <th>CHFL2_CMBL_2</th>\n",
       "      <th>CHFL2_CMBL_3</th>\n",
       "      <th>CHFL2_CMBL_4</th>\n",
       "      <th>CHFL2_CMBL_5</th>\n",
       "      <th>CHFL2_CMBL_6</th>\n",
       "    </tr>\n",
       "  </thead>\n",
       "  <tbody>\n",
       "    <tr>\n",
       "      <th>0</th>\n",
       "      <td>010040101</td>\n",
       "      <td>0.07</td>\n",
       "      <td>0.57</td>\n",
       "      <td>0.25</td>\n",
       "      <td>0.01</td>\n",
       "      <td>0.09</td>\n",
       "      <td>NaN</td>\n",
       "      <td>0.02</td>\n",
       "      <td>0.47</td>\n",
       "      <td>0.06</td>\n",
       "      <td>...</td>\n",
       "      <td>0.01</td>\n",
       "      <td>0.01</td>\n",
       "      <td>0.01</td>\n",
       "      <td>0.02</td>\n",
       "      <td>NaN</td>\n",
       "      <td>0.45</td>\n",
       "      <td>0.04</td>\n",
       "      <td>0.06</td>\n",
       "      <td>0.00</td>\n",
       "      <td>0.02</td>\n",
       "    </tr>\n",
       "    <tr>\n",
       "      <th>1</th>\n",
       "      <td>010040102</td>\n",
       "      <td>0.41</td>\n",
       "      <td>0.37</td>\n",
       "      <td>0.20</td>\n",
       "      <td>0.02</td>\n",
       "      <td>NaN</td>\n",
       "      <td>NaN</td>\n",
       "      <td>0.07</td>\n",
       "      <td>0.52</td>\n",
       "      <td>0.11</td>\n",
       "      <td>...</td>\n",
       "      <td>0.21</td>\n",
       "      <td>0.08</td>\n",
       "      <td>0.03</td>\n",
       "      <td>0.01</td>\n",
       "      <td>0.01</td>\n",
       "      <td>0.30</td>\n",
       "      <td>0.03</td>\n",
       "      <td>0.02</td>\n",
       "      <td>0.01</td>\n",
       "      <td>0.01</td>\n",
       "    </tr>\n",
       "    <tr>\n",
       "      <th>2</th>\n",
       "      <td>010040201</td>\n",
       "      <td>0.28</td>\n",
       "      <td>0.47</td>\n",
       "      <td>0.20</td>\n",
       "      <td>0.03</td>\n",
       "      <td>0.01</td>\n",
       "      <td>NaN</td>\n",
       "      <td>0.02</td>\n",
       "      <td>0.55</td>\n",
       "      <td>0.11</td>\n",
       "      <td>...</td>\n",
       "      <td>0.15</td>\n",
       "      <td>0.08</td>\n",
       "      <td>0.01</td>\n",
       "      <td>0.01</td>\n",
       "      <td>NaN</td>\n",
       "      <td>0.40</td>\n",
       "      <td>0.03</td>\n",
       "      <td>0.03</td>\n",
       "      <td>0.00</td>\n",
       "      <td>0.01</td>\n",
       "    </tr>\n",
       "    <tr>\n",
       "      <th>3</th>\n",
       "      <td>010040202</td>\n",
       "      <td>0.01</td>\n",
       "      <td>0.65</td>\n",
       "      <td>0.25</td>\n",
       "      <td>0.08</td>\n",
       "      <td>0.01</td>\n",
       "      <td>NaN</td>\n",
       "      <td>0.00</td>\n",
       "      <td>0.48</td>\n",
       "      <td>0.06</td>\n",
       "      <td>...</td>\n",
       "      <td>0.01</td>\n",
       "      <td>0.00</td>\n",
       "      <td>0.00</td>\n",
       "      <td>NaN</td>\n",
       "      <td>NaN</td>\n",
       "      <td>0.47</td>\n",
       "      <td>0.05</td>\n",
       "      <td>0.06</td>\n",
       "      <td>0.00</td>\n",
       "      <td>0.06</td>\n",
       "    </tr>\n",
       "    <tr>\n",
       "      <th>4</th>\n",
       "      <td>010330102</td>\n",
       "      <td>0.38</td>\n",
       "      <td>0.13</td>\n",
       "      <td>0.48</td>\n",
       "      <td>0.01</td>\n",
       "      <td>NaN</td>\n",
       "      <td>NaN</td>\n",
       "      <td>0.08</td>\n",
       "      <td>0.09</td>\n",
       "      <td>0.17</td>\n",
       "      <td>...</td>\n",
       "      <td>0.07</td>\n",
       "      <td>0.12</td>\n",
       "      <td>0.11</td>\n",
       "      <td>0.01</td>\n",
       "      <td>NaN</td>\n",
       "      <td>0.02</td>\n",
       "      <td>0.04</td>\n",
       "      <td>0.06</td>\n",
       "      <td>0.00</td>\n",
       "      <td>0.01</td>\n",
       "    </tr>\n",
       "  </tbody>\n",
       "</table>\n",
       "<p>5 rows × 42 columns</p>\n",
       "</div>"
      ],
      "text/plain": [
       "        IRIS  CHFL_1  CHFL_2  CHFL_3  CHFL_4  CHFL_X  CHFL_Z  CMBL_1  CMBL_2  \\\n",
       "0  010040101    0.07    0.57    0.25    0.01    0.09     NaN    0.02    0.47   \n",
       "1  010040102    0.41    0.37    0.20    0.02     NaN     NaN    0.07    0.52   \n",
       "2  010040201    0.28    0.47    0.20    0.03    0.01     NaN    0.02    0.55   \n",
       "3  010040202    0.01    0.65    0.25    0.08    0.01     NaN    0.00    0.48   \n",
       "4  010330102    0.38    0.13    0.48    0.01     NaN     NaN    0.08    0.09   \n",
       "\n",
       "   CMBL_3  ...  CHFL1_CMBL_2  CHFL1_CMBL_3  CHFL1_CMBL_4  CHFL1_CMBL_5  \\\n",
       "0    0.06  ...          0.01          0.01          0.01          0.02   \n",
       "1    0.11  ...          0.21          0.08          0.03          0.01   \n",
       "2    0.11  ...          0.15          0.08          0.01          0.01   \n",
       "3    0.06  ...          0.01          0.00          0.00           NaN   \n",
       "4    0.17  ...          0.07          0.12          0.11          0.01   \n",
       "\n",
       "   CHFL1_CMBL_6  CHFL2_CMBL_2  CHFL2_CMBL_3  CHFL2_CMBL_4  CHFL2_CMBL_5  \\\n",
       "0           NaN          0.45          0.04          0.06          0.00   \n",
       "1          0.01          0.30          0.03          0.02          0.01   \n",
       "2           NaN          0.40          0.03          0.03          0.00   \n",
       "3           NaN          0.47          0.05          0.06          0.00   \n",
       "4           NaN          0.02          0.04          0.06          0.00   \n",
       "\n",
       "   CHFL2_CMBL_6  \n",
       "0          0.02  \n",
       "1          0.01  \n",
       "2          0.01  \n",
       "3          0.06  \n",
       "4          0.01  \n",
       "\n",
       "[5 rows x 42 columns]"
      ]
     },
     "execution_count": 35,
     "metadata": {},
     "output_type": "execute_result"
    }
   ],
   "source": [
    "census.head()"
   ]
  },
  {
   "cell_type": "code",
   "execution_count": 36,
   "id": "daea40be",
   "metadata": {
    "execution": {
     "iopub.execute_input": "2022-07-31T18:10:51.828367Z",
     "iopub.status.busy": "2022-07-31T18:10:51.827690Z",
     "iopub.status.idle": "2022-07-31T18:10:51.946486Z",
     "shell.execute_reply": "2022-07-31T18:10:51.946905Z",
     "shell.execute_reply.started": "2022-07-31T18:06:48.982164Z"
    },
    "papermill": {
     "duration": 0.220712,
     "end_time": "2022-07-31T18:10:51.947049",
     "exception": false,
     "start_time": "2022-07-31T18:10:51.726337",
     "status": "completed"
    },
    "tags": []
   },
   "outputs": [],
   "source": [
    "gdf=gdf.merge(census, left_on=\"IRIS_CODE\", right_on=\"IRIS\", how=\"left\")"
   ]
  },
  {
   "cell_type": "code",
   "execution_count": 37,
   "id": "afafbd6d",
   "metadata": {
    "execution": {
     "iopub.execute_input": "2022-07-31T18:10:52.142402Z",
     "iopub.status.busy": "2022-07-31T18:10:52.141925Z",
     "iopub.status.idle": "2022-07-31T18:10:52.183532Z",
     "shell.execute_reply": "2022-07-31T18:10:52.183983Z",
     "shell.execute_reply.started": "2022-07-31T18:06:49.098530Z"
    },
    "papermill": {
     "duration": 0.140512,
     "end_time": "2022-07-31T18:10:52.184131",
     "exception": false,
     "start_time": "2022-07-31T18:10:52.043619",
     "status": "completed"
    },
    "tags": []
   },
   "outputs": [],
   "source": [
    "gdf.drop(columns=[\"IRIS\"], inplace=True)"
   ]
  },
  {
   "cell_type": "markdown",
   "id": "2e18910d",
   "metadata": {
    "papermill": {
     "duration": 0.096214,
     "end_time": "2022-07-31T18:10:52.377250",
     "exception": false,
     "start_time": "2022-07-31T18:10:52.281036",
     "status": "completed"
    },
    "tags": []
   },
   "source": [
    "**CHFL**: Central heating of housing (metropolitan France): We calculated the percentage of individuals per IRIS area with each of the following central heatings:\n",
    "\n",
    "    1: Collective central heating (including urban heating)\n",
    "\n",
    "    2: Individual central heating with a boiler specific to the accommodation\n",
    "\n",
    "    3: All-electric heating\n",
    "\n",
    "    4: Other heating way\n",
    "\n",
    "    X: Excluding ordinary housing (DOM and metropolitan France)\n",
    "\n",
    "    Y: Excluding main residence\n",
    "\n",
    "    Z: Ordinary DOM housing"
   ]
  },
  {
   "cell_type": "markdown",
   "id": "04a2e0de",
   "metadata": {
    "papermill": {
     "duration": 0.096074,
     "end_time": "2022-07-31T18:10:52.569744",
     "exception": false,
     "start_time": "2022-07-31T18:10:52.473670",
     "status": "completed"
    },
    "tags": []
   },
   "source": [
    "**CMBL**: Main household fuel (metropolitan France): We calculated the percentage of individuals per IRIS area with each of the following household fuels:\n",
    "\n",
    "    1: Urban heating\n",
    "\n",
    "    2: Gas Network\n",
    "\n",
    "    3: Fuel oil (oil)\n",
    "\n",
    "    4: Electricity\n",
    "    \n",
    "    5: Gas in cylinders or in tanks\n",
    "    \n",
    "    6: Other\n",
    "\n",
    "    X: Excluding ordinary housing (DOM and metropolitan France)\n",
    "\n",
    "    Y: Excluding main residence\n",
    "\n",
    "    Z: Ordinary DOM housing"
   ]
  },
  {
   "cell_type": "markdown",
   "id": "4bc61200",
   "metadata": {
    "papermill": {
     "duration": 0.096592,
     "end_time": "2022-07-31T18:10:52.764345",
     "exception": false,
     "start_time": "2022-07-31T18:10:52.667753",
     "status": "completed"
    },
    "tags": []
   },
   "source": [
    "**CHFL_CMBL**:  We calculated the percentage of individuals per IRIS area with a combination of specific type of central heating and main fuel."
   ]
  },
  {
   "cell_type": "markdown",
   "id": "d6c32f08",
   "metadata": {
    "papermill": {
     "duration": 0.096865,
     "end_time": "2022-07-31T18:10:52.958950",
     "exception": false,
     "start_time": "2022-07-31T18:10:52.862085",
     "status": "completed"
    },
    "tags": []
   },
   "source": [
    "**NPERR**: Number of people in the household (grouped): We calculated the percentage of individuals per IRIS area with each of the following number of people in the household:\n",
    "\n",
    "    1: One person\n",
    "\n",
    "    2: Two people\n",
    "\n",
    "    3: Three people\n",
    "\n",
    "    4: Four people\n",
    "    \n",
    "    5: Five people\n",
    " \n",
    "    6: Six or more\n",
    "\n",
    "    Z: Excluding ordinary housing (DOM and metropolitan France)\n",
    "\n",
    "   "
   ]
  },
  {
   "cell_type": "markdown",
   "id": "9717ff3c",
   "metadata": {
    "papermill": {
     "duration": 0.09711,
     "end_time": "2022-07-31T18:10:53.155366",
     "exception": false,
     "start_time": "2022-07-31T18:10:53.058256",
     "status": "completed"
    },
    "tags": []
   },
   "source": [
    "**STATR**: Grouped professional status: We calculated the percentage of individuals per IRIS area with this status:\n",
    "\n",
    "    1: Employee \n",
    "\n",
    "    2: Non salaried (self employed. This denomination affects liberals, artisans, merchants, etc. : professions not being remunerated by means of a salary.)\n",
    "\n",
    "    Z: Not applicable"
   ]
  },
  {
   "cell_type": "code",
   "execution_count": 38,
   "id": "717815d2",
   "metadata": {
    "execution": {
     "iopub.execute_input": "2022-07-31T18:10:53.352644Z",
     "iopub.status.busy": "2022-07-31T18:10:53.352068Z",
     "iopub.status.idle": "2022-07-31T18:10:53.424157Z",
     "shell.execute_reply": "2022-07-31T18:10:53.423759Z",
     "shell.execute_reply.started": "2022-07-31T18:06:49.170313Z"
    },
    "papermill": {
     "duration": 0.171436,
     "end_time": "2022-07-31T18:10:53.424279",
     "exception": false,
     "start_time": "2022-07-31T18:10:53.252843",
     "status": "completed"
    },
    "tags": []
   },
   "outputs": [
    {
     "data": {
      "text/plain": [
       "id                  0\n",
       "geometry            0\n",
       "address             0\n",
       "city_name           0\n",
       "consumption         0\n",
       "                ...  \n",
       "CHFL2_CMBL_2     1664\n",
       "CHFL2_CMBL_3    20894\n",
       "CHFL2_CMBL_4     4155\n",
       "CHFL2_CMBL_5    31326\n",
       "CHFL2_CMBL_6    30730\n",
       "Length: 68, dtype: int64"
      ]
     },
     "execution_count": 38,
     "metadata": {},
     "output_type": "execute_result"
    }
   ],
   "source": [
    "gdf.isna().sum()"
   ]
  },
  {
   "cell_type": "code",
   "execution_count": 39,
   "id": "66d26182",
   "metadata": {
    "execution": {
     "iopub.execute_input": "2022-07-31T18:10:53.625527Z",
     "iopub.status.busy": "2022-07-31T18:10:53.624994Z",
     "iopub.status.idle": "2022-07-31T18:10:53.956406Z",
     "shell.execute_reply": "2022-07-31T18:10:53.955834Z",
     "shell.execute_reply.started": "2022-07-31T18:06:49.244734Z"
    },
    "papermill": {
     "duration": 0.432988,
     "end_time": "2022-07-31T18:10:53.956541",
     "exception": false,
     "start_time": "2022-07-31T18:10:53.523553",
     "status": "completed"
    },
    "tags": []
   },
   "outputs": [
    {
     "data": {
      "text/plain": [
       "consumption         1.000000\n",
       "mean_cons_IRIS      0.698115\n",
       "mean_cons_city      0.394707\n",
       "CHFL_2              0.350085\n",
       "CHFL2_CMBL_2        0.342115\n",
       "STATR_2             0.273400\n",
       "CMBL_4              0.259396\n",
       "NENFR_0             0.256409\n",
       "CHFL_3              0.253718\n",
       "NPERR_2             0.230528\n",
       "STATR_1             0.227761\n",
       "CMBL_2              0.205546\n",
       "NENFR_Z             0.175426\n",
       "NPERR_1             0.169948\n",
       "CHFL2_CMBL_4        0.144734\n",
       "delivery_points     0.102997\n",
       "Lon                 0.062541\n",
       "CHFL_4              0.032847\n",
       "CHFL2_CMBL_3        0.032761\n",
       "CMBL_X              0.013788\n",
       "CHFL_X              0.013788\n",
       "NPERR_Z             0.013788\n",
       "CHFL2_CMBL_6        0.011424\n",
       "count_city          0.009154\n",
       "CMBL_3             -0.009099\n",
       "alt_prec           -0.011153\n",
       "CHFL2_CMBL_5       -0.014622\n",
       "Lat                -0.019563\n",
       "CHFL1_CMBL_3       -0.025831\n",
       "CMBL_5             -0.032861\n",
       "CHFL1_CMBL_5       -0.050685\n",
       "NPERR_3            -0.052940\n",
       "NENFR_2            -0.073163\n",
       "volume_per_floor   -0.074566\n",
       "NPERR_4            -0.076587\n",
       "count_IRIS         -0.085995\n",
       "NENFR_1            -0.086655\n",
       "age                -0.102812\n",
       "CHFL1_CMBL_4       -0.109301\n",
       "CMBL_6             -0.110176\n",
       "CHFL1_CMBL_6       -0.138793\n",
       "area               -0.152891\n",
       "height             -0.199018\n",
       "volume             -0.209520\n",
       "floors             -0.211700\n",
       "NPERR_5            -0.245866\n",
       "CHFL1_CMBL_2       -0.254756\n",
       "NENFR_3            -0.257739\n",
       "STATR_Z            -0.277339\n",
       "NPERR_6            -0.282024\n",
       "NENFR_4            -0.285771\n",
       "CMBL_1             -0.401380\n",
       "CHFL1_CMBL_1       -0.401380\n",
       "CHFL_1             -0.426477\n",
       "CHFL_Z                   NaN\n",
       "CMBL_Z                   NaN\n",
       "Name: consumption, dtype: float64"
      ]
     },
     "execution_count": 39,
     "metadata": {},
     "output_type": "execute_result"
    }
   ],
   "source": [
    "gdf.corr()['consumption'].sort_values(ascending=False)"
   ]
  },
  {
   "cell_type": "markdown",
   "id": "3da50063",
   "metadata": {
    "papermill": {
     "duration": 0.147106,
     "end_time": "2022-07-31T18:10:54.252870",
     "exception": false,
     "start_time": "2022-07-31T18:10:54.105764",
     "status": "completed"
    },
    "tags": []
   },
   "source": [
    "There is negative correlation between our target and the variable CHFL_1,  CMBL_1 and CHFL1_CMBL_1. It suggests that the higher the percentage of urbain heating in an IRIS area, the lower the gas consumption.\n",
    "\n",
    "There is positive correlation between our target and variables CHFL_2 and CHFL2_CMBL_2. It suggests that the higher the presence individual central heatings (with a boiler specific to the accommodation) that use gas network, the higher the gas consumption. By contrast, when the type of heating is collective central heating that uses the gas network, the correlation sign reverts and become negative."
   ]
  },
  {
   "cell_type": "code",
   "execution_count": 40,
   "id": "94405753",
   "metadata": {
    "execution": {
     "iopub.execute_input": "2022-07-31T18:10:54.560461Z",
     "iopub.status.busy": "2022-07-31T18:10:54.559554Z",
     "iopub.status.idle": "2022-07-31T18:10:54.580108Z",
     "shell.execute_reply": "2022-07-31T18:10:54.579584Z",
     "shell.execute_reply.started": "2022-07-31T18:06:49.718657Z"
    },
    "papermill": {
     "duration": 0.175791,
     "end_time": "2022-07-31T18:10:54.580248",
     "exception": false,
     "start_time": "2022-07-31T18:10:54.404457",
     "status": "completed"
    },
    "tags": []
   },
   "outputs": [
    {
     "data": {
      "text/html": [
       "<div>\n",
       "<style scoped>\n",
       "    .dataframe tbody tr th:only-of-type {\n",
       "        vertical-align: middle;\n",
       "    }\n",
       "\n",
       "    .dataframe tbody tr th {\n",
       "        vertical-align: top;\n",
       "    }\n",
       "\n",
       "    .dataframe thead th {\n",
       "        text-align: right;\n",
       "    }\n",
       "</style>\n",
       "<table border=\"1\" class=\"dataframe\">\n",
       "  <thead>\n",
       "    <tr style=\"text-align: right;\">\n",
       "      <th></th>\n",
       "      <th>CMBL_1</th>\n",
       "      <th>CHFL1_CMBL_1</th>\n",
       "      <th>IRIS_CODE</th>\n",
       "    </tr>\n",
       "  </thead>\n",
       "  <tbody>\n",
       "    <tr>\n",
       "      <th>0</th>\n",
       "      <td>NaN</td>\n",
       "      <td>NaN</td>\n",
       "      <td>130040102</td>\n",
       "    </tr>\n",
       "    <tr>\n",
       "      <th>1</th>\n",
       "      <td>NaN</td>\n",
       "      <td>NaN</td>\n",
       "      <td>130040102</td>\n",
       "    </tr>\n",
       "    <tr>\n",
       "      <th>2</th>\n",
       "      <td>NaN</td>\n",
       "      <td>NaN</td>\n",
       "      <td>130040102</td>\n",
       "    </tr>\n",
       "    <tr>\n",
       "      <th>3</th>\n",
       "      <td>NaN</td>\n",
       "      <td>NaN</td>\n",
       "      <td>130040102</td>\n",
       "    </tr>\n",
       "    <tr>\n",
       "      <th>4</th>\n",
       "      <td>NaN</td>\n",
       "      <td>NaN</td>\n",
       "      <td>840880103</td>\n",
       "    </tr>\n",
       "    <tr>\n",
       "      <th>...</th>\n",
       "      <td>...</td>\n",
       "      <td>...</td>\n",
       "      <td>...</td>\n",
       "    </tr>\n",
       "    <tr>\n",
       "      <th>55132</th>\n",
       "      <td>NaN</td>\n",
       "      <td>NaN</td>\n",
       "      <td>591310101</td>\n",
       "    </tr>\n",
       "    <tr>\n",
       "      <th>55133</th>\n",
       "      <td>NaN</td>\n",
       "      <td>NaN</td>\n",
       "      <td>591310101</td>\n",
       "    </tr>\n",
       "    <tr>\n",
       "      <th>55134</th>\n",
       "      <td>NaN</td>\n",
       "      <td>NaN</td>\n",
       "      <td>591310101</td>\n",
       "    </tr>\n",
       "    <tr>\n",
       "      <th>55137</th>\n",
       "      <td>NaN</td>\n",
       "      <td>NaN</td>\n",
       "      <td>593590102</td>\n",
       "    </tr>\n",
       "    <tr>\n",
       "      <th>55138</th>\n",
       "      <td>NaN</td>\n",
       "      <td>NaN</td>\n",
       "      <td>592950104</td>\n",
       "    </tr>\n",
       "  </tbody>\n",
       "</table>\n",
       "<p>3663 rows × 3 columns</p>\n",
       "</div>"
      ],
      "text/plain": [
       "       CMBL_1  CHFL1_CMBL_1  IRIS_CODE\n",
       "0         NaN           NaN  130040102\n",
       "1         NaN           NaN  130040102\n",
       "2         NaN           NaN  130040102\n",
       "3         NaN           NaN  130040102\n",
       "4         NaN           NaN  840880103\n",
       "...       ...           ...        ...\n",
       "55132     NaN           NaN  591310101\n",
       "55133     NaN           NaN  591310101\n",
       "55134     NaN           NaN  591310101\n",
       "55137     NaN           NaN  593590102\n",
       "55138     NaN           NaN  592950104\n",
       "\n",
       "[3663 rows x 3 columns]"
      ]
     },
     "execution_count": 40,
     "metadata": {},
     "output_type": "execute_result"
    }
   ],
   "source": [
    "gdf[gdf[\"CMBL_1\"]!= gdf[\"CHFL1_CMBL_1\"]][[\"CMBL_1\",\"CHFL1_CMBL_1\", \"IRIS_CODE\"]]"
   ]
  },
  {
   "cell_type": "code",
   "execution_count": 41,
   "id": "7f670d24",
   "metadata": {
    "execution": {
     "iopub.execute_input": "2022-07-31T18:10:54.883227Z",
     "iopub.status.busy": "2022-07-31T18:10:54.882605Z",
     "iopub.status.idle": "2022-07-31T18:10:55.965848Z",
     "shell.execute_reply": "2022-07-31T18:10:55.965434Z",
     "shell.execute_reply.started": "2022-07-31T18:06:49.746607Z"
    },
    "papermill": {
     "duration": 1.234499,
     "end_time": "2022-07-31T18:10:55.965954",
     "exception": false,
     "start_time": "2022-07-31T18:10:54.731455",
     "status": "completed"
    },
    "tags": []
   },
   "outputs": [
    {
     "data": {
      "text/plain": [
       "<AxesSubplot:>"
      ]
     },
     "execution_count": 41,
     "metadata": {},
     "output_type": "execute_result"
    },
    {
     "data": {
      "image/png": "[encoded data removed]",
      "text/plain": [
       "<Figure size 792x648 with 2 Axes>"
      ]
     },
     "metadata": {
      "needs_background": "light"
     },
     "output_type": "display_data"
    }
   ],
   "source": [
    "import seaborn as sns\n",
    "# Compute the correlation matrix\n",
    "corr = gdf.corr()\n",
    "\n",
    "# Generate a mask for the upper triangle\n",
    "mask = np.triu(np.ones_like(corr, dtype=bool))\n",
    "\n",
    "# Set up the matplotlib figure\n",
    "f, ax = plt.subplots(figsize=(11, 9))\n",
    "\n",
    "# Generate a custom diverging colormap\n",
    "cmap = sns.diverging_palette(230, 20, as_cmap=True)\n",
    "\n",
    "# Draw the heatmap with the mask and correct aspect ratio\n",
    "sns.heatmap(corr, mask=mask, cmap=cmap, vmax=.3, center=0,\n",
    "            square=True, linewidths=.5, cbar_kws={\"shrink\": .5})"
   ]
  },
  {
   "cell_type": "code",
   "execution_count": 42,
   "id": "8f7d54b4",
   "metadata": {
    "execution": {
     "iopub.execute_input": "2022-07-31T18:10:56.170443Z",
     "iopub.status.busy": "2022-07-31T18:10:56.169921Z",
     "iopub.status.idle": "2022-07-31T18:10:56.172424Z",
     "shell.execute_reply": "2022-07-31T18:10:56.172861Z",
     "shell.execute_reply.started": "2022-07-31T18:06:51.056272Z"
    },
    "papermill": {
     "duration": 0.107291,
     "end_time": "2022-07-31T18:10:56.172978",
     "exception": false,
     "start_time": "2022-07-31T18:10:56.065687",
     "status": "completed"
    },
    "tags": []
   },
   "outputs": [],
   "source": [
    "#gdf[[\"NPERR_6\",\"NPERR_5\", \"NPERR_4\", \"NPERR_3\", \"NPERR_2\", \"NPERR_1\", \"NPERR_Z\"]] = gdf[[\"NPERR_6\",\"NPERR_5\", \"NPERR_4\", \"NPERR_3\", \"NPERR_2\", \"NPERR_1\", \"NPERR_Z\"]].fillna(0)"
   ]
  },
  {
   "cell_type": "code",
   "execution_count": 43,
   "id": "15e4ad4c",
   "metadata": {
    "execution": {
     "iopub.execute_input": "2022-07-31T18:10:56.378642Z",
     "iopub.status.busy": "2022-07-31T18:10:56.377502Z",
     "iopub.status.idle": "2022-07-31T18:10:56.381789Z",
     "shell.execute_reply": "2022-07-31T18:10:56.382343Z",
     "shell.execute_reply.started": "2022-07-31T18:06:51.063760Z"
    },
    "papermill": {
     "duration": 0.107025,
     "end_time": "2022-07-31T18:10:56.382479",
     "exception": false,
     "start_time": "2022-07-31T18:10:56.275454",
     "status": "completed"
    },
    "tags": []
   },
   "outputs": [],
   "source": [
    "#gdf[\"n_people_ge5\"]= np.round(gdf[\"NPERR_6\"]+gdf[\"NPERR_5\"],2)\n",
    "#gdf[\"n_people_3_4\"]= gdf[\"NPERR_3\"]+gdf[\"NPERR_4\"]\n",
    "#gdf[\"n_people_1_2\"]= gdf[\"NPERR_1\"]+gdf[\"NPERR_2\"]"
   ]
  },
  {
   "cell_type": "code",
   "execution_count": 44,
   "id": "0e8d2a0d",
   "metadata": {
    "execution": {
     "iopub.execute_input": "2022-07-31T18:10:56.691040Z",
     "iopub.status.busy": "2022-07-31T18:10:56.690443Z",
     "iopub.status.idle": "2022-07-31T18:10:56.859394Z",
     "shell.execute_reply": "2022-07-31T18:10:56.858842Z",
     "shell.execute_reply.started": "2022-07-31T18:06:51.076413Z"
    },
    "papermill": {
     "duration": 0.323068,
     "end_time": "2022-07-31T18:10:56.859528",
     "exception": false,
     "start_time": "2022-07-31T18:10:56.536460",
     "status": "completed"
    },
    "tags": []
   },
   "outputs": [
    {
     "data": {
      "text/plain": [
       "<AxesSubplot:title={'center':'CHFL_1 vs consumption'}, xlabel='CHFL_1'>"
      ]
     },
     "execution_count": 44,
     "metadata": {},
     "output_type": "execute_result"
    },
    {
     "data": {
      "image/png": "[encoded data removed]",
      "text/plain": [
       "<Figure size 432x288 with 1 Axes>"
      ]
     },
     "metadata": {
      "needs_background": "light"
     },
     "output_type": "display_data"
    }
   ],
   "source": [
    "gdf.groupby(\"CHFL_1\")[\"consumption\"].mean().plot(title=\"CHFL_1 vs consumption\")"
   ]
  },
  {
   "cell_type": "code",
   "execution_count": 45,
   "id": "e5bfc7ca",
   "metadata": {
    "execution": {
     "iopub.execute_input": "2022-07-31T18:10:57.161438Z",
     "iopub.status.busy": "2022-07-31T18:10:57.159334Z",
     "iopub.status.idle": "2022-07-31T18:10:57.319108Z",
     "shell.execute_reply": "2022-07-31T18:10:57.319555Z",
     "shell.execute_reply.started": "2022-07-31T18:06:51.297513Z"
    },
    "papermill": {
     "duration": 0.303678,
     "end_time": "2022-07-31T18:10:57.319696",
     "exception": false,
     "start_time": "2022-07-31T18:10:57.016018",
     "status": "completed"
    },
    "tags": []
   },
   "outputs": [
    {
     "data": {
      "text/plain": [
       "<AxesSubplot:title={'center':'CHFL1_CMBL_1 vs consumption'}, xlabel='CHFL1_CMBL_1'>"
      ]
     },
     "execution_count": 45,
     "metadata": {},
     "output_type": "execute_result"
    },
    {
     "data": {
      "image/png": "[encoded data removed]",
      "text/plain": [
       "<Figure size 432x288 with 1 Axes>"
      ]
     },
     "metadata": {
      "needs_background": "light"
     },
     "output_type": "display_data"
    }
   ],
   "source": [
    "gdf.groupby(\"CHFL1_CMBL_1\")[\"consumption\"].mean().plot(title=\"CHFL1_CMBL_1 vs consumption\")"
   ]
  },
  {
   "cell_type": "code",
   "execution_count": 46,
   "id": "82ca7249",
   "metadata": {
    "execution": {
     "iopub.execute_input": "2022-07-31T18:10:57.532080Z",
     "iopub.status.busy": "2022-07-31T18:10:57.531515Z",
     "iopub.status.idle": "2022-07-31T18:10:57.709661Z",
     "shell.execute_reply": "2022-07-31T18:10:57.709151Z",
     "shell.execute_reply.started": "2022-07-31T18:06:51.510425Z"
    },
    "papermill": {
     "duration": 0.286161,
     "end_time": "2022-07-31T18:10:57.709768",
     "exception": false,
     "start_time": "2022-07-31T18:10:57.423607",
     "status": "completed"
    },
    "tags": []
   },
   "outputs": [
    {
     "data": {
      "text/plain": [
       "<AxesSubplot:title={'center':'CHFL_2 vs consumption'}, xlabel='CHFL_2'>"
      ]
     },
     "execution_count": 46,
     "metadata": {},
     "output_type": "execute_result"
    },
    {
     "data": {
      "image/png": "[encoded data removed]",
      "text/plain": [
       "<Figure size 432x288 with 1 Axes>"
      ]
     },
     "metadata": {
      "needs_background": "light"
     },
     "output_type": "display_data"
    }
   ],
   "source": [
    "gdf.groupby(\"CHFL_2\")[\"consumption\"].mean().plot(title=\"CHFL_2 vs consumption\")"
   ]
  },
  {
   "cell_type": "code",
   "execution_count": 47,
   "id": "bbf60c62",
   "metadata": {
    "execution": {
     "iopub.execute_input": "2022-07-31T18:10:57.922711Z",
     "iopub.status.busy": "2022-07-31T18:10:57.920253Z",
     "iopub.status.idle": "2022-07-31T18:10:58.108623Z",
     "shell.execute_reply": "2022-07-31T18:10:58.108125Z",
     "shell.execute_reply.started": "2022-07-31T18:06:51.744332Z"
    },
    "papermill": {
     "duration": 0.294407,
     "end_time": "2022-07-31T18:10:58.108745",
     "exception": false,
     "start_time": "2022-07-31T18:10:57.814338",
     "status": "completed"
    },
    "tags": []
   },
   "outputs": [
    {
     "data": {
      "text/plain": [
       "<AxesSubplot:title={'center':'CHFL2_CMBL_2 vs consumption'}, xlabel='CHFL2_CMBL_2'>"
      ]
     },
     "execution_count": 47,
     "metadata": {},
     "output_type": "execute_result"
    },
    {
     "data": {
      "image/png": "[encoded data removed]",
      "text/plain": [
       "<Figure size 432x288 with 1 Axes>"
      ]
     },
     "metadata": {
      "needs_background": "light"
     },
     "output_type": "display_data"
    }
   ],
   "source": [
    "gdf.groupby(\"CHFL2_CMBL_2\")[\"consumption\"].mean().plot(title=\"CHFL2_CMBL_2 vs consumption\")"
   ]
  },
  {
   "cell_type": "code",
   "execution_count": 48,
   "id": "8f20326c",
   "metadata": {
    "execution": {
     "iopub.execute_input": "2022-07-31T18:10:58.323527Z",
     "iopub.status.busy": "2022-07-31T18:10:58.322866Z",
     "iopub.status.idle": "2022-07-31T18:10:58.504590Z",
     "shell.execute_reply": "2022-07-31T18:10:58.504003Z",
     "shell.execute_reply.started": "2022-07-31T18:06:51.973464Z"
    },
    "papermill": {
     "duration": 0.291826,
     "end_time": "2022-07-31T18:10:58.504801",
     "exception": false,
     "start_time": "2022-07-31T18:10:58.212975",
     "status": "completed"
    },
    "tags": []
   },
   "outputs": [
    {
     "data": {
      "text/plain": [
       "<AxesSubplot:title={'center':'CHFL_1 vs consumption'}, xlabel='CHFL1_CMBL_2'>"
      ]
     },
     "execution_count": 48,
     "metadata": {},
     "output_type": "execute_result"
    },
    {
     "data": {
      "image/png": "[encoded data removed]",
      "text/plain": [
       "<Figure size 432x288 with 1 Axes>"
      ]
     },
     "metadata": {
      "needs_background": "light"
     },
     "output_type": "display_data"
    }
   ],
   "source": [
    "gdf.groupby(\"CHFL1_CMBL_2\")[\"consumption\"].mean().plot(title=\"CHFL_1 vs consumption\")"
   ]
  },
  {
   "cell_type": "code",
   "execution_count": 49,
   "id": "2768e6e8",
   "metadata": {
    "execution": {
     "iopub.execute_input": "2022-07-31T18:10:58.837712Z",
     "iopub.status.busy": "2022-07-31T18:10:58.837053Z",
     "iopub.status.idle": "2022-07-31T18:10:59.000451Z",
     "shell.execute_reply": "2022-07-31T18:10:59.001049Z",
     "shell.execute_reply.started": "2022-07-31T18:06:52.191823Z"
    },
    "papermill": {
     "duration": 0.332616,
     "end_time": "2022-07-31T18:10:59.001228",
     "exception": false,
     "start_time": "2022-07-31T18:10:58.668612",
     "status": "completed"
    },
    "tags": []
   },
   "outputs": [
    {
     "data": {
      "text/plain": [
       "<AxesSubplot:title={'center':'CMBL_1 vs consumption'}, xlabel='CMBL_1'>"
      ]
     },
     "execution_count": 49,
     "metadata": {},
     "output_type": "execute_result"
    },
    {
     "data": {
      "image/png": "[encoded data removed]",
      "text/plain": [
       "<Figure size 432x288 with 1 Axes>"
      ]
     },
     "metadata": {
      "needs_background": "light"
     },
     "output_type": "display_data"
    }
   ],
   "source": [
    "gdf.groupby(\"CMBL_1\")[\"consumption\"].mean().plot(title=\"CMBL_1 vs consumption\")"
   ]
  },
  {
   "cell_type": "code",
   "execution_count": 50,
   "id": "41d96716",
   "metadata": {
    "execution": {
     "iopub.execute_input": "2022-07-31T18:10:59.273067Z",
     "iopub.status.busy": "2022-07-31T18:10:59.272554Z",
     "iopub.status.idle": "2022-07-31T18:10:59.436869Z",
     "shell.execute_reply": "2022-07-31T18:10:59.437280Z",
     "shell.execute_reply.started": "2022-07-31T18:06:52.400424Z"
    },
    "papermill": {
     "duration": 0.276793,
     "end_time": "2022-07-31T18:10:59.437429",
     "exception": false,
     "start_time": "2022-07-31T18:10:59.160636",
     "status": "completed"
    },
    "tags": []
   },
   "outputs": [
    {
     "data": {
      "text/plain": [
       "<AxesSubplot:title={'center':'STATR_1 vs consumption'}, xlabel='STATR_1'>"
      ]
     },
     "execution_count": 50,
     "metadata": {},
     "output_type": "execute_result"
    },
    {
     "data": {
      "image/png": "[encoded data removed]",
      "text/plain": [
       "<Figure size 432x288 with 1 Axes>"
      ]
     },
     "metadata": {
      "needs_background": "light"
     },
     "output_type": "display_data"
    }
   ],
   "source": [
    "gdf.groupby(\"STATR_1\")[\"consumption\"].mean().plot(title=\"STATR_1 vs consumption\")"
   ]
  },
  {
   "cell_type": "code",
   "execution_count": 51,
   "id": "2c78e415",
   "metadata": {
    "execution": {
     "iopub.execute_input": "2022-07-31T18:10:59.736494Z",
     "iopub.status.busy": "2022-07-31T18:10:59.735620Z",
     "iopub.status.idle": "2022-07-31T18:10:59.925139Z",
     "shell.execute_reply": "2022-07-31T18:10:59.924511Z",
     "shell.execute_reply.started": "2022-07-31T18:06:52.619206Z"
    },
    "papermill": {
     "duration": 0.356039,
     "end_time": "2022-07-31T18:10:59.925281",
     "exception": false,
     "start_time": "2022-07-31T18:10:59.569242",
     "status": "completed"
    },
    "tags": []
   },
   "outputs": [
    {
     "data": {
      "text/plain": [
       "<AxesSubplot:title={'center':'STATR_Z vs consumption'}, xlabel='STATR_Z'>"
      ]
     },
     "execution_count": 51,
     "metadata": {},
     "output_type": "execute_result"
    },
    {
     "data": {
      "image/png": "[encoded data removed]",
      "text/plain": [
       "<Figure size 432x288 with 1 Axes>"
      ]
     },
     "metadata": {
      "needs_background": "light"
     },
     "output_type": "display_data"
    }
   ],
   "source": [
    "gdf.groupby(\"STATR_Z\")[\"consumption\"].mean().plot(title=\"STATR_Z vs consumption\")"
   ]
  },
  {
   "cell_type": "markdown",
   "id": "75f3f599",
   "metadata": {
    "papermill": {
     "duration": 0.164551,
     "end_time": "2022-07-31T18:11:00.253341",
     "exception": false,
     "start_time": "2022-07-31T18:11:00.088790",
     "status": "completed"
    },
    "tags": []
   },
   "source": [
    "## Radiation variable"
   ]
  },
  {
   "cell_type": "markdown",
   "id": "74acc957",
   "metadata": {
    "papermill": {
     "duration": 0.164495,
     "end_time": "2022-07-31T18:11:00.581628",
     "exception": false,
     "start_time": "2022-07-31T18:11:00.417133",
     "status": "completed"
    },
    "tags": []
   },
   "source": [
    "We parse the qq_dict variable to get one column for each dict key. Each column corresponds to a monthly measured radiation"
   ]
  },
  {
   "cell_type": "code",
   "execution_count": 52,
   "id": "b22e3d25",
   "metadata": {
    "execution": {
     "iopub.execute_input": "2022-07-31T18:11:00.930954Z",
     "iopub.status.busy": "2022-07-31T18:11:00.924516Z",
     "iopub.status.idle": "2022-07-31T18:11:02.247807Z",
     "shell.execute_reply": "2022-07-31T18:11:02.247153Z",
     "shell.execute_reply.started": "2022-07-31T18:06:52.854944Z"
    },
    "papermill": {
     "duration": 1.500956,
     "end_time": "2022-07-31T18:11:02.247936",
     "exception": false,
     "start_time": "2022-07-31T18:11:00.746980",
     "status": "completed"
    },
    "tags": []
   },
   "outputs": [],
   "source": [
    "gdf[\"qq_dict\"]=gdf[\"qq_dict\"].map(eval)"
   ]
  },
  {
   "cell_type": "code",
   "execution_count": 53,
   "id": "b2bec87f",
   "metadata": {
    "execution": {
     "iopub.execute_input": "2022-07-31T18:11:02.585542Z",
     "iopub.status.busy": "2022-07-31T18:11:02.582780Z",
     "iopub.status.idle": "2022-07-31T18:11:25.399415Z",
     "shell.execute_reply": "2022-07-31T18:11:25.398973Z",
     "shell.execute_reply.started": "2022-07-31T18:06:54.736525Z"
    },
    "papermill": {
     "duration": 22.985982,
     "end_time": "2022-07-31T18:11:25.399532",
     "exception": false,
     "start_time": "2022-07-31T18:11:02.413550",
     "status": "completed"
    },
    "tags": []
   },
   "outputs": [],
   "source": [
    "qqdf = gdf[\"qq_dict\"].apply(pd.Series)"
   ]
  },
  {
   "cell_type": "code",
   "execution_count": 54,
   "id": "66dcf496",
   "metadata": {
    "execution": {
     "iopub.execute_input": "2022-07-31T18:11:25.623393Z",
     "iopub.status.busy": "2022-07-31T18:11:25.622936Z",
     "iopub.status.idle": "2022-07-31T18:11:25.659267Z",
     "shell.execute_reply": "2022-07-31T18:11:25.659707Z",
     "shell.execute_reply.started": "2022-07-31T18:07:13.789096Z"
    },
    "papermill": {
     "duration": 0.150143,
     "end_time": "2022-07-31T18:11:25.659845",
     "exception": false,
     "start_time": "2022-07-31T18:11:25.509702",
     "status": "completed"
    },
    "tags": []
   },
   "outputs": [],
   "source": [
    "gdf2 = pd.concat([gdf.drop(['qq_dict'], axis=1), qqdf], axis=1)"
   ]
  },
  {
   "cell_type": "code",
   "execution_count": 55,
   "id": "b9e1d6e7",
   "metadata": {
    "execution": {
     "iopub.execute_input": "2022-07-31T18:11:25.880427Z",
     "iopub.status.busy": "2022-07-31T18:11:25.879985Z",
     "iopub.status.idle": "2022-07-31T18:11:25.883828Z",
     "shell.execute_reply": "2022-07-31T18:11:25.884272Z",
     "shell.execute_reply.started": "2022-07-31T18:07:13.850729Z"
    },
    "papermill": {
     "duration": 0.115628,
     "end_time": "2022-07-31T18:11:25.884395",
     "exception": false,
     "start_time": "2022-07-31T18:11:25.768767",
     "status": "completed"
    },
    "tags": []
   },
   "outputs": [],
   "source": [
    "rename_qq={}\n",
    "for i in range(1,13):\n",
    "    rename_qq[i] = f\"qq_month_{i}\""
   ]
  },
  {
   "cell_type": "code",
   "execution_count": 56,
   "id": "819b6037",
   "metadata": {
    "execution": {
     "iopub.execute_input": "2022-07-31T18:11:26.104997Z",
     "iopub.status.busy": "2022-07-31T18:11:26.103982Z",
     "iopub.status.idle": "2022-07-31T18:11:26.109001Z",
     "shell.execute_reply": "2022-07-31T18:11:26.109403Z",
     "shell.execute_reply.started": "2022-07-31T18:07:13.858636Z"
    },
    "papermill": {
     "duration": 0.116257,
     "end_time": "2022-07-31T18:11:26.109572",
     "exception": false,
     "start_time": "2022-07-31T18:11:25.993315",
     "status": "completed"
    },
    "tags": []
   },
   "outputs": [],
   "source": [
    "gdf2.rename(columns=rename_qq, inplace=True)"
   ]
  },
  {
   "cell_type": "code",
   "execution_count": 57,
   "id": "4773277a",
   "metadata": {
    "execution": {
     "iopub.execute_input": "2022-07-31T18:11:26.332420Z",
     "iopub.status.busy": "2022-07-31T18:11:26.331963Z",
     "iopub.status.idle": "2022-07-31T18:11:26.661543Z",
     "shell.execute_reply": "2022-07-31T18:11:26.661100Z",
     "shell.execute_reply.started": "2022-07-31T18:07:13.872134Z"
    },
    "papermill": {
     "duration": 0.442408,
     "end_time": "2022-07-31T18:11:26.661653",
     "exception": false,
     "start_time": "2022-07-31T18:11:26.219245",
     "status": "completed"
    },
    "tags": []
   },
   "outputs": [
    {
     "data": {
      "text/plain": [
       "consumption         1.000000\n",
       "mean_cons_IRIS      0.698115\n",
       "mean_cons_city      0.394707\n",
       "CHFL_2              0.350085\n",
       "CHFL2_CMBL_2        0.342115\n",
       "STATR_2             0.273400\n",
       "CMBL_4              0.259396\n",
       "NENFR_0             0.256409\n",
       "CHFL_3              0.253718\n",
       "NPERR_2             0.230528\n",
       "STATR_1             0.227761\n",
       "CMBL_2              0.205546\n",
       "NENFR_Z             0.175426\n",
       "NPERR_1             0.169948\n",
       "CHFL2_CMBL_4        0.144734\n",
       "delivery_points     0.102997\n",
       "Lon                 0.062541\n",
       "CHFL_4              0.032847\n",
       "CHFL2_CMBL_3        0.032761\n",
       "CMBL_X              0.013788\n",
       "CHFL_X              0.013788\n",
       "NPERR_Z             0.013788\n",
       "CHFL2_CMBL_6        0.011424\n",
       "count_city          0.009154\n",
       "CMBL_3             -0.009099\n",
       "alt_prec           -0.011153\n",
       "CHFL2_CMBL_5       -0.014622\n",
       "Lat                -0.019563\n",
       "CHFL1_CMBL_3       -0.025831\n",
       "CMBL_5             -0.032861\n",
       "CHFL1_CMBL_5       -0.050685\n",
       "NPERR_3            -0.052940\n",
       "NENFR_2            -0.073163\n",
       "volume_per_floor   -0.074566\n",
       "NPERR_4            -0.076587\n",
       "count_IRIS         -0.085995\n",
       "NENFR_1            -0.086655\n",
       "age                -0.102812\n",
       "CHFL1_CMBL_4       -0.109301\n",
       "CMBL_6             -0.110176\n",
       "Name: consumption, dtype: float64"
      ]
     },
     "execution_count": 57,
     "metadata": {},
     "output_type": "execute_result"
    }
   ],
   "source": [
    "gdf.corr()['consumption'].sort_values(ascending=False).head(40)"
   ]
  },
  {
   "cell_type": "code",
   "execution_count": 58,
   "id": "0b86d391",
   "metadata": {
    "execution": {
     "iopub.execute_input": "2022-07-31T18:11:26.979822Z",
     "iopub.status.busy": "2022-07-31T18:11:26.979059Z",
     "iopub.status.idle": "2022-07-31T18:11:26.981957Z",
     "shell.execute_reply": "2022-07-31T18:11:26.982467Z",
     "shell.execute_reply.started": "2022-07-31T18:07:14.347654Z"
    },
    "papermill": {
     "duration": 0.178839,
     "end_time": "2022-07-31T18:11:26.982634",
     "exception": false,
     "start_time": "2022-07-31T18:11:26.803795",
     "status": "completed"
    },
    "tags": []
   },
   "outputs": [],
   "source": [
    "qq_cols =[]\n",
    "for i in range(1,13):\n",
    "    qq_cols.append(f\"qq_month_{i}\")\n"
   ]
  },
  {
   "cell_type": "code",
   "execution_count": 59,
   "id": "78db2975",
   "metadata": {
    "execution": {
     "iopub.execute_input": "2022-07-31T18:11:27.258721Z",
     "iopub.status.busy": "2022-07-31T18:11:27.258158Z",
     "iopub.status.idle": "2022-07-31T18:11:27.285054Z",
     "shell.execute_reply": "2022-07-31T18:11:27.285509Z",
     "shell.execute_reply.started": "2022-07-31T18:07:14.354985Z"
    },
    "papermill": {
     "duration": 0.147303,
     "end_time": "2022-07-31T18:11:27.285642",
     "exception": false,
     "start_time": "2022-07-31T18:11:27.138339",
     "status": "completed"
    },
    "tags": []
   },
   "outputs": [],
   "source": [
    "gdf2[\"mean_month_qq\"] = gdf2[qq_cols].mean(axis=1) \n",
    "    "
   ]
  },
  {
   "cell_type": "code",
   "execution_count": 60,
   "id": "bc8d0647",
   "metadata": {
    "execution": {
     "iopub.execute_input": "2022-07-31T18:11:27.537784Z",
     "iopub.status.busy": "2022-07-31T18:11:27.537171Z",
     "iopub.status.idle": "2022-07-31T18:11:27.539563Z",
     "shell.execute_reply": "2022-07-31T18:11:27.539995Z",
     "shell.execute_reply.started": "2022-07-31T18:07:14.424027Z"
    },
    "papermill": {
     "duration": 0.141699,
     "end_time": "2022-07-31T18:11:27.540147",
     "exception": false,
     "start_time": "2022-07-31T18:11:27.398448",
     "status": "completed"
    },
    "tags": []
   },
   "outputs": [
    {
     "data": {
      "text/plain": [
       "Index(['id', 'geometry', 'address', 'city_name', 'consumption',\n",
       "       'delivery_points', 'coords_eobs', 'height', 'type', 'age', 'floors',\n",
       "       'alt_prec', 'wall_mat', 'roof_mat', 'IRIS_CODE', 'roof_wall', 'area',\n",
       "       'polygon_centroid', 'Lon', 'Lat', 'volume', 'volume_per_floor',\n",
       "       'mean_cons_IRIS', 'mean_cons_city', 'count_IRIS', 'count_city',\n",
       "       'CHFL_1', 'CHFL_2', 'CHFL_3', 'CHFL_4', 'CHFL_X', 'CHFL_Z', 'CMBL_1',\n",
       "       'CMBL_2', 'CMBL_3', 'CMBL_4', 'CMBL_5', 'CMBL_6', 'CMBL_X', 'CMBL_Z',\n",
       "       'NPERR_1', 'NPERR_2', 'NPERR_3', 'NPERR_4', 'NPERR_5', 'NPERR_6',\n",
       "       'NPERR_Z', 'STATR_1', 'STATR_2', 'STATR_Z', 'NENFR_0', 'NENFR_1',\n",
       "       'NENFR_2', 'NENFR_3', 'NENFR_4', 'NENFR_Z', 'CHFL1_CMBL_1',\n",
       "       'CHFL1_CMBL_2', 'CHFL1_CMBL_3', 'CHFL1_CMBL_4', 'CHFL1_CMBL_5',\n",
       "       'CHFL1_CMBL_6', 'CHFL2_CMBL_2', 'CHFL2_CMBL_3', 'CHFL2_CMBL_4',\n",
       "       'CHFL2_CMBL_5', 'CHFL2_CMBL_6', 'qq_month_1', 'qq_month_2',\n",
       "       'qq_month_3', 'qq_month_4', 'qq_month_5', 'qq_month_6', 'qq_month_7',\n",
       "       'qq_month_8', 'qq_month_9', 'qq_month_10', 'qq_month_11', 'qq_month_12',\n",
       "       'mean_month_qq'],\n",
       "      dtype='object')"
      ]
     },
     "execution_count": 60,
     "metadata": {},
     "output_type": "execute_result"
    }
   ],
   "source": [
    "gdf2.columns"
   ]
  },
  {
   "cell_type": "code",
   "execution_count": 61,
   "id": "37102a65",
   "metadata": {
    "execution": {
     "iopub.execute_input": "2022-07-31T18:11:27.782249Z",
     "iopub.status.busy": "2022-07-31T18:11:27.781745Z",
     "iopub.status.idle": "2022-07-31T18:11:28.774331Z",
     "shell.execute_reply": "2022-07-31T18:11:28.774843Z",
     "shell.execute_reply.started": "2022-07-31T18:07:14.432786Z"
    },
    "papermill": {
     "duration": 1.108268,
     "end_time": "2022-07-31T18:11:28.774999",
     "exception": false,
     "start_time": "2022-07-31T18:11:27.666731",
     "status": "completed"
    },
    "tags": []
   },
   "outputs": [
    {
     "data": {
      "image/png": "[encoded data removed]",
      "text/plain": [
       "<Figure size 432x288 with 2 Axes>"
      ]
     },
     "metadata": {
      "needs_background": "light"
     },
     "output_type": "display_data"
    }
   ],
   "source": [
    "import matplotlib.pyplot as plt\n",
    "plt.scatter(gdf2.Lon, gdf2.Lat, c=gdf2.consumption, s=10)\n",
    "plt.colorbar()\n",
    "plt.show()"
   ]
  },
  {
   "cell_type": "code",
   "execution_count": 62,
   "id": "70c345be",
   "metadata": {
    "execution": {
     "iopub.execute_input": "2022-07-31T18:11:29.114168Z",
     "iopub.status.busy": "2022-07-31T18:11:29.113499Z",
     "iopub.status.idle": "2022-07-31T18:11:29.129824Z",
     "shell.execute_reply": "2022-07-31T18:11:29.130366Z",
     "shell.execute_reply.started": "2022-07-31T18:07:15.369525Z"
    },
    "papermill": {
     "duration": 0.188952,
     "end_time": "2022-07-31T18:11:29.130542",
     "exception": false,
     "start_time": "2022-07-31T18:11:28.941590",
     "status": "completed"
    },
    "tags": []
   },
   "outputs": [],
   "source": [
    "gdf = gdf2"
   ]
  },
  {
   "cell_type": "code",
   "execution_count": 63,
   "id": "dc44226a",
   "metadata": {
    "execution": {
     "iopub.execute_input": "2022-07-31T18:11:29.469701Z",
     "iopub.status.busy": "2022-07-31T18:11:29.468797Z",
     "iopub.status.idle": "2022-07-31T18:11:29.472557Z",
     "shell.execute_reply": "2022-07-31T18:11:29.473130Z",
     "shell.execute_reply.started": "2022-07-31T18:07:15.393436Z"
    },
    "papermill": {
     "duration": 0.174433,
     "end_time": "2022-07-31T18:11:29.473306",
     "exception": false,
     "start_time": "2022-07-31T18:11:29.298873",
     "status": "completed"
    },
    "tags": []
   },
   "outputs": [],
   "source": [
    "# Model"
   ]
  },
  {
   "cell_type": "code",
   "execution_count": 64,
   "id": "4402696a",
   "metadata": {
    "execution": {
     "iopub.execute_input": "2022-07-31T18:11:29.811975Z",
     "iopub.status.busy": "2022-07-31T18:11:29.811372Z",
     "iopub.status.idle": "2022-07-31T18:11:29.817199Z",
     "shell.execute_reply": "2022-07-31T18:11:29.816653Z",
     "shell.execute_reply.started": "2022-07-31T18:07:15.405886Z"
    },
    "papermill": {
     "duration": 0.17464,
     "end_time": "2022-07-31T18:11:29.817325",
     "exception": false,
     "start_time": "2022-07-31T18:11:29.642685",
     "status": "completed"
    },
    "tags": []
   },
   "outputs": [],
   "source": [
    "target = 'consumption'\n",
    "id_col = 'id'"
   ]
  },
  {
   "cell_type": "code",
   "execution_count": 65,
   "id": "f546039c",
   "metadata": {
    "execution": {
     "iopub.execute_input": "2022-07-31T18:11:30.059601Z",
     "iopub.status.busy": "2022-07-31T18:11:30.058954Z",
     "iopub.status.idle": "2022-07-31T18:11:49.412246Z",
     "shell.execute_reply": "2022-07-31T18:11:49.411546Z",
     "shell.execute_reply.started": "2022-07-31T18:07:15.417463Z"
    },
    "papermill": {
     "duration": 19.479777,
     "end_time": "2022-07-31T18:11:49.412382",
     "exception": false,
     "start_time": "2022-07-31T18:11:29.932605",
     "status": "completed"
    },
    "tags": []
   },
   "outputs": [
    {
     "name": "stdout",
     "output_type": "stream",
     "text": [
      "id\n",
      "address\n",
      "city_name\n",
      "coords_eobs\n",
      "type\n",
      "wall_mat\n",
      "roof_mat\n",
      "IRIS_CODE\n",
      "roof_wall\n"
     ]
    }
   ],
   "source": [
    "from sklearn.preprocessing import LabelEncoder\n",
    "le = LabelEncoder()\n",
    "for i in gdf.columns: \n",
    "    if gdf[i].dtypes == 'object' and i not in [\"qq_dict\"]:\n",
    "        print(i) \n",
    "        gdf[i] = le.fit_transform(gdf[i])"
   ]
  },
  {
   "cell_type": "code",
   "execution_count": 66,
   "id": "e0b2db2e",
   "metadata": {
    "execution": {
     "iopub.execute_input": "2022-07-31T18:11:49.743200Z",
     "iopub.status.busy": "2022-07-31T18:11:49.742436Z",
     "iopub.status.idle": "2022-07-31T18:11:49.744731Z",
     "shell.execute_reply": "2022-07-31T18:11:49.745131Z",
     "shell.execute_reply.started": "2022-07-31T18:07:26.532180Z"
    },
    "papermill": {
     "duration": 0.160104,
     "end_time": "2022-07-31T18:11:49.745283",
     "exception": false,
     "start_time": "2022-07-31T18:11:49.585179",
     "status": "completed"
    },
    "tags": []
   },
   "outputs": [
    {
     "data": {
      "text/plain": [
       "(55169, 80)"
      ]
     },
     "execution_count": 66,
     "metadata": {},
     "output_type": "execute_result"
    }
   ],
   "source": [
    "gdf.shape"
   ]
  },
  {
   "cell_type": "code",
   "execution_count": 67,
   "id": "9ccf8c51",
   "metadata": {
    "execution": {
     "iopub.execute_input": "2022-07-31T18:11:49.984525Z",
     "iopub.status.busy": "2022-07-31T18:11:49.984043Z",
     "iopub.status.idle": "2022-07-31T18:11:50.046746Z",
     "shell.execute_reply": "2022-07-31T18:11:50.047295Z",
     "shell.execute_reply.started": "2022-07-31T18:07:26.540522Z"
    },
    "papermill": {
     "duration": 0.187393,
     "end_time": "2022-07-31T18:11:50.047464",
     "exception": false,
     "start_time": "2022-07-31T18:11:49.860071",
     "status": "completed"
    },
    "tags": []
   },
   "outputs": [],
   "source": [
    "from sklearn.model_selection import train_test_split\n",
    "train, test = train_test_split(gdf, test_size=0.1, random_state=42)\n",
    "\n",
    "train.reset_index(drop=True, inplace=True)\n",
    "test.reset_index(drop=True, inplace=True)\n",
    "\n",
    "y_test = test[target]\n",
    "test.drop(target, axis=1, inplace=True)"
   ]
  },
  {
   "cell_type": "code",
   "execution_count": 68,
   "id": "23d7f015",
   "metadata": {
    "execution": {
     "iopub.execute_input": "2022-07-31T18:11:50.339657Z",
     "iopub.status.busy": "2022-07-31T18:11:50.338266Z",
     "iopub.status.idle": "2022-07-31T18:11:50.342669Z",
     "shell.execute_reply": "2022-07-31T18:11:50.343253Z",
     "shell.execute_reply.started": "2022-07-31T18:07:26.618308Z"
    },
    "papermill": {
     "duration": 0.123729,
     "end_time": "2022-07-31T18:11:50.343418",
     "exception": false,
     "start_time": "2022-07-31T18:11:50.219689",
     "status": "completed"
    },
    "tags": []
   },
   "outputs": [],
   "source": [
    "# Baseline without census data"
   ]
  },
  {
   "cell_type": "code",
   "execution_count": 69,
   "id": "ade53be0",
   "metadata": {
    "execution": {
     "iopub.execute_input": "2022-07-31T18:11:50.772033Z",
     "iopub.status.busy": "2022-07-31T18:11:50.771193Z",
     "iopub.status.idle": "2022-07-31T18:11:50.777208Z",
     "shell.execute_reply": "2022-07-31T18:11:50.777811Z",
     "shell.execute_reply.started": "2022-07-31T18:07:26.625841Z"
    },
    "papermill": {
     "duration": 0.260423,
     "end_time": "2022-07-31T18:11:50.777986",
     "exception": false,
     "start_time": "2022-07-31T18:11:50.517563",
     "status": "completed"
    },
    "tags": []
   },
   "outputs": [],
   "source": [
    "features = [\n",
    " 'delivery_points',\n",
    " 'height',\n",
    " 'age',\n",
    " 'floors',\n",
    " 'wall_mat',\n",
    " 'roof_mat',\n",
    " 'roof_wall',\n",
    " 'area',\n",
    " 'qq_month_1',\n",
    " 'qq_month_2',\n",
    " 'qq_month_3',\n",
    " 'qq_month_4',\n",
    " 'qq_month_5',\n",
    " 'qq_month_6',\n",
    " 'qq_month_7',\n",
    " 'qq_month_8',\n",
    " 'qq_month_9',\n",
    " 'qq_month_10',\n",
    " 'qq_month_11',\n",
    " 'qq_month_12',\n",
    " 'mean_month_qq']"
   ]
  },
  {
   "cell_type": "code",
   "execution_count": 70,
   "id": "519426ae",
   "metadata": {
    "execution": {
     "iopub.execute_input": "2022-07-31T18:11:51.124361Z",
     "iopub.status.busy": "2022-07-31T18:11:51.123547Z",
     "iopub.status.idle": "2022-07-31T18:11:51.132703Z",
     "shell.execute_reply": "2022-07-31T18:11:51.133275Z",
     "shell.execute_reply.started": "2022-07-31T18:07:26.639391Z"
    },
    "papermill": {
     "duration": 0.183764,
     "end_time": "2022-07-31T18:11:51.133447",
     "exception": false,
     "start_time": "2022-07-31T18:11:50.949683",
     "status": "completed"
    },
    "tags": []
   },
   "outputs": [],
   "source": [
    "X = train[features]\n",
    "y = train[target]\n",
    "y_oof_pred = np.zeros(len(y))\n",
    "\n",
    "X_test = test[features].values\n",
    "y_test_pred = np.zeros(len(X_test))"
   ]
  },
  {
   "cell_type": "code",
   "execution_count": 71,
   "id": "f751ba45",
   "metadata": {
    "execution": {
     "iopub.execute_input": "2022-07-31T18:11:51.483083Z",
     "iopub.status.busy": "2022-07-31T18:11:51.482223Z",
     "iopub.status.idle": "2022-07-31T18:11:51.487262Z",
     "shell.execute_reply": "2022-07-31T18:11:51.487890Z",
     "shell.execute_reply.started": "2022-07-31T18:07:26.657602Z"
    },
    "papermill": {
     "duration": 0.184459,
     "end_time": "2022-07-31T18:11:51.488052",
     "exception": false,
     "start_time": "2022-07-31T18:11:51.303593",
     "status": "completed"
    },
    "tags": []
   },
   "outputs": [
    {
     "data": {
      "text/plain": [
       "['delivery_points',\n",
       " 'height',\n",
       " 'age',\n",
       " 'floors',\n",
       " 'wall_mat',\n",
       " 'roof_mat',\n",
       " 'roof_wall',\n",
       " 'area',\n",
       " 'qq_month_1',\n",
       " 'qq_month_2',\n",
       " 'qq_month_3',\n",
       " 'qq_month_4',\n",
       " 'qq_month_5',\n",
       " 'qq_month_6',\n",
       " 'qq_month_7',\n",
       " 'qq_month_8',\n",
       " 'qq_month_9',\n",
       " 'qq_month_10',\n",
       " 'qq_month_11',\n",
       " 'qq_month_12',\n",
       " 'mean_month_qq']"
      ]
     },
     "execution_count": 71,
     "metadata": {},
     "output_type": "execute_result"
    }
   ],
   "source": [
    "features"
   ]
  },
  {
   "cell_type": "code",
   "execution_count": 72,
   "id": "46a23638",
   "metadata": {
    "execution": {
     "iopub.execute_input": "2022-07-31T18:11:51.844140Z",
     "iopub.status.busy": "2022-07-31T18:11:51.843251Z",
     "iopub.status.idle": "2022-07-31T18:11:51.862025Z",
     "shell.execute_reply": "2022-07-31T18:11:51.862544Z",
     "shell.execute_reply.started": "2022-07-31T18:07:26.673173Z"
    },
    "papermill": {
     "duration": 0.199533,
     "end_time": "2022-07-31T18:11:51.862714",
     "exception": false,
     "start_time": "2022-07-31T18:11:51.663181",
     "status": "completed"
    },
    "tags": []
   },
   "outputs": [
    {
     "name": "stdout",
     "output_type": "stream",
     "text": [
      "<class 'pandas.core.frame.DataFrame'>\n",
      "RangeIndex: 49652 entries, 0 to 49651\n",
      "Data columns (total 21 columns):\n",
      " #   Column           Non-Null Count  Dtype  \n",
      "---  ------           --------------  -----  \n",
      " 0   delivery_points  49652 non-null  int64  \n",
      " 1   height           48293 non-null  float64\n",
      " 2   age              35336 non-null  float64\n",
      " 3   floors           39189 non-null  float64\n",
      " 4   wall_mat         49652 non-null  int64  \n",
      " 5   roof_mat         49652 non-null  int64  \n",
      " 6   roof_wall        49652 non-null  int64  \n",
      " 7   area             49652 non-null  float64\n",
      " 8   qq_month_1       49652 non-null  float64\n",
      " 9   qq_month_2       49652 non-null  float64\n",
      " 10  qq_month_3       49652 non-null  float64\n",
      " 11  qq_month_4       49652 non-null  float64\n",
      " 12  qq_month_5       49652 non-null  float64\n",
      " 13  qq_month_6       49652 non-null  float64\n",
      " 14  qq_month_7       49652 non-null  float64\n",
      " 15  qq_month_8       49652 non-null  float64\n",
      " 16  qq_month_9       49652 non-null  float64\n",
      " 17  qq_month_10      49652 non-null  float64\n",
      " 18  qq_month_11      49652 non-null  float64\n",
      " 19  qq_month_12      49652 non-null  float64\n",
      " 20  mean_month_qq    49652 non-null  float64\n",
      "dtypes: float64(17), int64(4)\n",
      "memory usage: 8.0 MB\n"
     ]
    }
   ],
   "source": [
    "X.info()"
   ]
  },
  {
   "cell_type": "code",
   "execution_count": 73,
   "id": "1488025e",
   "metadata": {
    "execution": {
     "iopub.execute_input": "2022-07-31T18:11:52.108016Z",
     "iopub.status.busy": "2022-07-31T18:11:52.107426Z",
     "iopub.status.idle": "2022-07-31T18:13:12.186549Z",
     "shell.execute_reply": "2022-07-31T18:13:12.187308Z",
     "shell.execute_reply.started": "2022-07-31T18:07:26.698623Z"
    },
    "papermill": {
     "duration": 80.206816,
     "end_time": "2022-07-31T18:13:12.187455",
     "exception": false,
     "start_time": "2022-07-31T18:11:51.980639",
     "status": "completed"
    },
    "tags": []
   },
   "outputs": [
    {
     "name": "stdout",
     "output_type": "stream",
     "text": [
      "Fold 1\n",
      "Training until validation scores don't improve for 250 rounds\n"
     ]
    },
    {
     "name": "stderr",
     "output_type": "stream",
     "text": [
      "/opt/conda/lib/python3.7/site-packages/lightgbm/engine.py:177: UserWarning: Found `num_iterations` in params. Will use it instead of argument\n",
      "  _log_warning(f\"Found `{alias}` in params. Will use it instead of argument\")\n",
      "/opt/conda/lib/python3.7/site-packages/lightgbm/engine.py:239: UserWarning: 'verbose_eval' argument is deprecated and will be removed in a future release of LightGBM. Pass 'log_evaluation()' callback via 'callbacks' argument instead.\n",
      "  _log_warning(\"'verbose_eval' argument is deprecated and will be removed in a future release of LightGBM. \"\n"
     ]
    },
    {
     "name": "stdout",
     "output_type": "stream",
     "text": [
      "[250]\ttraining's rmse: 35.8654\tvalid_1's rmse: 37.8864\n",
      "[500]\ttraining's rmse: 33.5161\tvalid_1's rmse: 36.9849\n",
      "[750]\ttraining's rmse: 31.9075\tvalid_1's rmse: 36.431\n",
      "[1000]\ttraining's rmse: 30.4699\tvalid_1's rmse: 36.0644\n",
      "[1250]\ttraining's rmse: 29.2954\tvalid_1's rmse: 35.8073\n",
      "[1500]\ttraining's rmse: 28.168\tvalid_1's rmse: 35.6348\n",
      "[1750]\ttraining's rmse: 27.2453\tvalid_1's rmse: 35.4832\n",
      "[2000]\ttraining's rmse: 26.3833\tvalid_1's rmse: 35.3732\n",
      "[2250]\ttraining's rmse: 25.5643\tvalid_1's rmse: 35.248\n",
      "[2500]\ttraining's rmse: 24.8458\tvalid_1's rmse: 35.1747\n",
      "[2750]\ttraining's rmse: 24.1866\tvalid_1's rmse: 35.1253\n",
      "[3000]\ttraining's rmse: 23.5407\tvalid_1's rmse: 35.0697\n",
      "[3250]\ttraining's rmse: 22.9063\tvalid_1's rmse: 35.0422\n",
      "[3500]\ttraining's rmse: 22.3132\tvalid_1's rmse: 35.019\n",
      "Early stopping, best iteration is:\n",
      "[3445]\ttraining's rmse: 22.442\tvalid_1's rmse: 35.0146\n",
      "Fold 2\n",
      "Training until validation scores don't improve for 250 rounds\n"
     ]
    },
    {
     "name": "stderr",
     "output_type": "stream",
     "text": [
      "/opt/conda/lib/python3.7/site-packages/lightgbm/engine.py:177: UserWarning: Found `num_iterations` in params. Will use it instead of argument\n",
      "  _log_warning(f\"Found `{alias}` in params. Will use it instead of argument\")\n",
      "/opt/conda/lib/python3.7/site-packages/lightgbm/engine.py:239: UserWarning: 'verbose_eval' argument is deprecated and will be removed in a future release of LightGBM. Pass 'log_evaluation()' callback via 'callbacks' argument instead.\n",
      "  _log_warning(\"'verbose_eval' argument is deprecated and will be removed in a future release of LightGBM. \"\n"
     ]
    },
    {
     "name": "stdout",
     "output_type": "stream",
     "text": [
      "[250]\ttraining's rmse: 35.8166\tvalid_1's rmse: 37.9749\n",
      "[500]\ttraining's rmse: 33.4826\tvalid_1's rmse: 37.0618\n",
      "[750]\ttraining's rmse: 31.7909\tvalid_1's rmse: 36.5293\n",
      "[1000]\ttraining's rmse: 30.4039\tvalid_1's rmse: 36.1718\n",
      "[1250]\ttraining's rmse: 29.2026\tvalid_1's rmse: 35.8878\n",
      "[1500]\ttraining's rmse: 28.1004\tvalid_1's rmse: 35.6892\n",
      "[1750]\ttraining's rmse: 27.1631\tvalid_1's rmse: 35.564\n",
      "[2000]\ttraining's rmse: 26.3682\tvalid_1's rmse: 35.4517\n",
      "[2250]\ttraining's rmse: 25.5924\tvalid_1's rmse: 35.3571\n",
      "[2500]\ttraining's rmse: 24.8738\tvalid_1's rmse: 35.3127\n",
      "[2750]\ttraining's rmse: 24.2205\tvalid_1's rmse: 35.2724\n",
      "[3000]\ttraining's rmse: 23.5605\tvalid_1's rmse: 35.1813\n",
      "[3250]\ttraining's rmse: 22.9641\tvalid_1's rmse: 35.1367\n",
      "[3500]\ttraining's rmse: 22.4271\tvalid_1's rmse: 35.1217\n",
      "[3750]\ttraining's rmse: 21.8637\tvalid_1's rmse: 35.128\n",
      "Early stopping, best iteration is:\n",
      "[3575]\ttraining's rmse: 22.2435\tvalid_1's rmse: 35.1125\n",
      "Fold 3\n",
      "Training until validation scores don't improve for 250 rounds\n"
     ]
    },
    {
     "name": "stderr",
     "output_type": "stream",
     "text": [
      "/opt/conda/lib/python3.7/site-packages/lightgbm/engine.py:177: UserWarning: Found `num_iterations` in params. Will use it instead of argument\n",
      "  _log_warning(f\"Found `{alias}` in params. Will use it instead of argument\")\n",
      "/opt/conda/lib/python3.7/site-packages/lightgbm/engine.py:239: UserWarning: 'verbose_eval' argument is deprecated and will be removed in a future release of LightGBM. Pass 'log_evaluation()' callback via 'callbacks' argument instead.\n",
      "  _log_warning(\"'verbose_eval' argument is deprecated and will be removed in a future release of LightGBM. \"\n"
     ]
    },
    {
     "name": "stdout",
     "output_type": "stream",
     "text": [
      "[250]\ttraining's rmse: 35.998\tvalid_1's rmse: 37.3382\n",
      "[500]\ttraining's rmse: 33.6736\tvalid_1's rmse: 36.3194\n",
      "[750]\ttraining's rmse: 32.0187\tvalid_1's rmse: 35.718\n",
      "[1000]\ttraining's rmse: 30.6131\tvalid_1's rmse: 35.3067\n",
      "[1250]\ttraining's rmse: 29.4303\tvalid_1's rmse: 35.0175\n",
      "[1500]\ttraining's rmse: 28.4199\tvalid_1's rmse: 34.8256\n",
      "[1750]\ttraining's rmse: 27.4735\tvalid_1's rmse: 34.6434\n",
      "[2000]\ttraining's rmse: 26.5854\tvalid_1's rmse: 34.5062\n",
      "[2250]\ttraining's rmse: 25.7791\tvalid_1's rmse: 34.4213\n",
      "[2500]\ttraining's rmse: 25.0667\tvalid_1's rmse: 34.3342\n",
      "[2750]\ttraining's rmse: 24.3854\tvalid_1's rmse: 34.3075\n",
      "[3000]\ttraining's rmse: 23.7231\tvalid_1's rmse: 34.2501\n",
      "[3250]\ttraining's rmse: 23.1108\tvalid_1's rmse: 34.2147\n",
      "[3500]\ttraining's rmse: 22.5681\tvalid_1's rmse: 34.1758\n",
      "[3750]\ttraining's rmse: 22.0183\tvalid_1's rmse: 34.1233\n",
      "[4000]\ttraining's rmse: 21.5396\tvalid_1's rmse: 34.1047\n",
      "[4250]\ttraining's rmse: 21.0563\tvalid_1's rmse: 34.0842\n",
      "[4500]\ttraining's rmse: 20.6317\tvalid_1's rmse: 34.0702\n",
      "[4750]\ttraining's rmse: 20.2161\tvalid_1's rmse: 34.0442\n",
      "[5000]\ttraining's rmse: 19.8146\tvalid_1's rmse: 34.0333\n",
      "[5250]\ttraining's rmse: 19.3944\tvalid_1's rmse: 34.0216\n",
      "[5500]\ttraining's rmse: 18.9991\tvalid_1's rmse: 34.0288\n",
      "Early stopping, best iteration is:\n",
      "[5251]\ttraining's rmse: 19.3919\tvalid_1's rmse: 34.0212\n",
      "Fold 4\n",
      "Training until validation scores don't improve for 250 rounds\n"
     ]
    },
    {
     "name": "stderr",
     "output_type": "stream",
     "text": [
      "/opt/conda/lib/python3.7/site-packages/lightgbm/engine.py:177: UserWarning: Found `num_iterations` in params. Will use it instead of argument\n",
      "  _log_warning(f\"Found `{alias}` in params. Will use it instead of argument\")\n",
      "/opt/conda/lib/python3.7/site-packages/lightgbm/engine.py:239: UserWarning: 'verbose_eval' argument is deprecated and will be removed in a future release of LightGBM. Pass 'log_evaluation()' callback via 'callbacks' argument instead.\n",
      "  _log_warning(\"'verbose_eval' argument is deprecated and will be removed in a future release of LightGBM. \"\n"
     ]
    },
    {
     "name": "stdout",
     "output_type": "stream",
     "text": [
      "[250]\ttraining's rmse: 35.779\tvalid_1's rmse: 38.1845\n",
      "[500]\ttraining's rmse: 33.4565\tvalid_1's rmse: 37.2805\n",
      "[750]\ttraining's rmse: 31.8099\tvalid_1's rmse: 36.691\n",
      "[1000]\ttraining's rmse: 30.412\tvalid_1's rmse: 36.2849\n",
      "[1250]\ttraining's rmse: 29.2591\tvalid_1's rmse: 35.9989\n",
      "[1500]\ttraining's rmse: 28.2452\tvalid_1's rmse: 35.7799\n",
      "[1750]\ttraining's rmse: 27.2993\tvalid_1's rmse: 35.599\n",
      "[2000]\ttraining's rmse: 26.4065\tvalid_1's rmse: 35.4775\n",
      "[2250]\ttraining's rmse: 25.6081\tvalid_1's rmse: 35.3741\n",
      "[2500]\ttraining's rmse: 24.9043\tvalid_1's rmse: 35.2782\n",
      "[2750]\ttraining's rmse: 24.2145\tvalid_1's rmse: 35.2179\n",
      "[3000]\ttraining's rmse: 23.5625\tvalid_1's rmse: 35.1701\n",
      "[3250]\ttraining's rmse: 22.9634\tvalid_1's rmse: 35.1166\n",
      "[3500]\ttraining's rmse: 22.4303\tvalid_1's rmse: 35.0884\n",
      "[3750]\ttraining's rmse: 21.8556\tvalid_1's rmse: 35.0416\n",
      "[4000]\ttraining's rmse: 21.3313\tvalid_1's rmse: 35.0085\n",
      "[4250]\ttraining's rmse: 20.8556\tvalid_1's rmse: 35.0014\n",
      "Early stopping, best iteration is:\n",
      "[4226]\ttraining's rmse: 20.9104\tvalid_1's rmse: 34.9952\n",
      "Fold 5\n",
      "Training until validation scores don't improve for 250 rounds\n"
     ]
    },
    {
     "name": "stderr",
     "output_type": "stream",
     "text": [
      "/opt/conda/lib/python3.7/site-packages/lightgbm/engine.py:177: UserWarning: Found `num_iterations` in params. Will use it instead of argument\n",
      "  _log_warning(f\"Found `{alias}` in params. Will use it instead of argument\")\n",
      "/opt/conda/lib/python3.7/site-packages/lightgbm/engine.py:239: UserWarning: 'verbose_eval' argument is deprecated and will be removed in a future release of LightGBM. Pass 'log_evaluation()' callback via 'callbacks' argument instead.\n",
      "  _log_warning(\"'verbose_eval' argument is deprecated and will be removed in a future release of LightGBM. \"\n"
     ]
    },
    {
     "name": "stdout",
     "output_type": "stream",
     "text": [
      "[250]\ttraining's rmse: 35.7642\tvalid_1's rmse: 38.0708\n",
      "[500]\ttraining's rmse: 33.4466\tvalid_1's rmse: 37.154\n",
      "[750]\ttraining's rmse: 31.7742\tvalid_1's rmse: 36.5815\n",
      "[1000]\ttraining's rmse: 30.3077\tvalid_1's rmse: 36.1749\n",
      "[1250]\ttraining's rmse: 29.0916\tvalid_1's rmse: 35.8698\n",
      "[1500]\ttraining's rmse: 27.9999\tvalid_1's rmse: 35.653\n",
      "[1750]\ttraining's rmse: 27.0805\tvalid_1's rmse: 35.4892\n",
      "[2000]\ttraining's rmse: 26.1984\tvalid_1's rmse: 35.3881\n",
      "[2250]\ttraining's rmse: 25.4258\tvalid_1's rmse: 35.2984\n",
      "[2500]\ttraining's rmse: 24.727\tvalid_1's rmse: 35.2274\n",
      "[2750]\ttraining's rmse: 24.054\tvalid_1's rmse: 35.1593\n",
      "[3000]\ttraining's rmse: 23.427\tvalid_1's rmse: 35.099\n",
      "[3250]\ttraining's rmse: 22.8063\tvalid_1's rmse: 35.0802\n",
      "[3500]\ttraining's rmse: 22.2562\tvalid_1's rmse: 35.0304\n",
      "[3750]\ttraining's rmse: 21.7394\tvalid_1's rmse: 34.998\n",
      "[4000]\ttraining's rmse: 21.2306\tvalid_1's rmse: 35.002\n",
      "Early stopping, best iteration is:\n",
      "[3824]\ttraining's rmse: 21.597\tvalid_1's rmse: 34.9871\n",
      "Mean RMSE: 34.826109418335975\n",
      "Mean RMSE: 34.82847308553864\n",
      "Mean RMSE in test over the n folds: 34.62896772586053\n"
     ]
    }
   ],
   "source": [
    "error = 0\n",
    "SEED=42\n",
    "\n",
    "num_folds = 5\n",
    "kf = KFold(n_splits = num_folds)\n",
    "\n",
    "for i, (train_index, val_index) in enumerate(kf.split(X, y)):  \n",
    "    print(f\"Fold {i+1}\")\n",
    "\n",
    "    X_train = X.loc[train_index].values\n",
    "    X_val = X.loc[val_index].values\n",
    "    y_train = y[train_index].values\n",
    "    y_val = y[val_index].values\n",
    "\n",
    "    lgb_train = lgb.Dataset(X_train, y_train)\n",
    "    lgb_eval = lgb.Dataset(X_val, y_val)\n",
    "\n",
    "    params_lgb = {\n",
    "        'objective' : 'regression',\n",
    "        'metric': 'rmse',\n",
    "        'force_col_wise': True,\n",
    "        'seed' : SEED,\n",
    "        'num_iterations' : 15000,\n",
    "        'early_stopping_rounds' : 250,\n",
    "        'learning_rate' : 0.05,\n",
    "        'max_depth' : 8,\n",
    "        'num_leaves' : 32,\n",
    "        'feature_fraction': 0.9,\n",
    "        'lambda_l1' : 0.1,\n",
    "        'lambda_l2' : 0.1,\n",
    "        'verbose' : -1\n",
    "    }\n",
    "\n",
    "    model = lgb.train(params=params_lgb,\n",
    "                      train_set=lgb_train,\n",
    "                      valid_sets = (lgb_train, lgb_eval),\n",
    "                      verbose_eval = 250,\n",
    "                     )\n",
    "\n",
    "\n",
    "    y_val_pred = model.predict(X_val)\n",
    "    y_test_pred += model.predict(X_test)\n",
    "    \n",
    "    rmse_fold = np.sqrt(mean_squared_error(y_val_pred, y_val))\n",
    "    error += rmse_fold\n",
    "    y_oof_pred[val_index] = y_val_pred\n",
    "\n",
    "\n",
    "print(f\"Mean RMSE: {error/num_folds}\")\n",
    "print(f\"Mean RMSE: {np.sqrt(mean_squared_error(y_oof_pred, y))}\")\n",
    "\n",
    "\n",
    "# Calculate evaluation metric for out of fold validation set\n",
    "y_test_pred = y_test_pred / num_folds\n",
    "print(f\"Mean RMSE in test over the n folds: {np.sqrt(mean_squared_error(y_test_pred, y_test))}\")\n"
   ]
  },
  {
   "cell_type": "code",
   "execution_count": 74,
   "id": "8c0c34b5",
   "metadata": {
    "execution": {
     "iopub.execute_input": "2022-07-31T18:13:12.544009Z",
     "iopub.status.busy": "2022-07-31T18:13:12.539390Z",
     "iopub.status.idle": "2022-07-31T18:14:06.859159Z",
     "shell.execute_reply": "2022-07-31T18:14:06.859682Z",
     "shell.execute_reply.started": "2022-07-31T18:08:53.592845Z"
    },
    "papermill": {
     "duration": 54.519143,
     "end_time": "2022-07-31T18:14:06.859864",
     "exception": false,
     "start_time": "2022-07-31T18:13:12.340721",
     "status": "completed"
    },
    "tags": []
   },
   "outputs": [
    {
     "name": "stderr",
     "output_type": "stream",
     "text": [
      "/opt/conda/lib/python3.7/site-packages/lightgbm/engine.py:177: UserWarning: Found `num_iterations` in params. Will use it instead of argument\n",
      "  _log_warning(f\"Found `{alias}` in params. Will use it instead of argument\")\n"
     ]
    },
    {
     "name": "stdout",
     "output_type": "stream",
     "text": [
      "Mean RMSE in test with the final model: 34.95064262105959\n"
     ]
    }
   ],
   "source": [
    "#Train on the whole dataset\n",
    "lgb_final = lgb.Dataset(X, y)\n",
    "params_lgb = {\n",
    "    'objective' : 'regression',\n",
    "    'metric': 'rmse',\n",
    "    'force_col_wise': True,\n",
    "    'seed' : SEED,\n",
    "    'num_iterations' : 15000,\n",
    "    'learning_rate' : 0.05,\n",
    "    'max_depth' : 8,\n",
    "    'num_leaves' : 32,\n",
    "    'feature_fraction': 0.9,\n",
    "    'lambda_l1' : 0.1,\n",
    "    'lambda_l2' : 0.1,\n",
    "    'verbose' : -1\n",
    "}\n",
    "\n",
    "model = lgb.train(params=params_lgb,\n",
    "                  train_set=lgb_final\n",
    "                 )\n",
    "\n",
    "\n",
    "y_final_pred = model.predict(X_test)\n",
    "print(f\"Mean RMSE in test with the final model: {np.sqrt(mean_squared_error(y_final_pred, y_test))}\")\n"
   ]
  },
  {
   "cell_type": "code",
   "execution_count": 75,
   "id": "ea77b02c",
   "metadata": {
    "execution": {
     "iopub.execute_input": "2022-07-31T18:14:07.304130Z",
     "iopub.status.busy": "2022-07-31T18:14:07.303499Z",
     "iopub.status.idle": "2022-07-31T18:14:07.700184Z",
     "shell.execute_reply": "2022-07-31T18:14:07.700830Z",
     "shell.execute_reply.started": "2022-07-31T18:09:49.488576Z"
    },
    "papermill": {
     "duration": 0.621336,
     "end_time": "2022-07-31T18:14:07.701002",
     "exception": false,
     "start_time": "2022-07-31T18:14:07.079666",
     "status": "completed"
    },
    "tags": []
   },
   "outputs": [
    {
     "data": {
      "image/png": "[encoded data removed]",
      "text/plain": [
       "<Figure size 1152x1152 with 1 Axes>"
      ]
     },
     "metadata": {
      "needs_background": "light"
     },
     "output_type": "display_data"
    }
   ],
   "source": [
    "feature_imp = pd.DataFrame(sorted(zip(model.feature_importance(importance_type='split'), features),reverse = True), columns=['Value','Feature'])\n",
    "feature_imp = feature_imp[feature_imp.Value != 0]\n",
    "plt.figure(figsize=(16, 16))\n",
    "sns.barplot(x=\"Value\", y=\"Feature\", data=feature_imp.sort_values(by=\"Value\", ascending=False).head(30), \n",
    "            palette='Blues')\n",
    "plt.title('LightGBM Feature Importance')\n",
    "plt.tight_layout()\n",
    "plt.show()"
   ]
  },
  {
   "cell_type": "code",
   "execution_count": 76,
   "id": "a49e70cb",
   "metadata": {
    "execution": {
     "iopub.execute_input": "2022-07-31T18:14:08.142691Z",
     "iopub.status.busy": "2022-07-31T18:14:08.142006Z",
     "iopub.status.idle": "2022-07-31T18:14:08.489403Z",
     "shell.execute_reply": "2022-07-31T18:14:08.489924Z",
     "shell.execute_reply.started": "2022-07-31T18:09:49.944592Z"
    },
    "papermill": {
     "duration": 0.570321,
     "end_time": "2022-07-31T18:14:08.490078",
     "exception": false,
     "start_time": "2022-07-31T18:14:07.919757",
     "status": "completed"
    },
    "tags": []
   },
   "outputs": [
    {
     "data": {
      "image/png": "[encoded data removed]",
      "text/plain": [
       "<Figure size 1152x1152 with 1 Axes>"
      ]
     },
     "metadata": {
      "needs_background": "light"
     },
     "output_type": "display_data"
    }
   ],
   "source": [
    "feature_imp = pd.DataFrame(sorted(zip(model.feature_importance(importance_type='gain'), features),reverse = True), columns=['Value','Feature'])\n",
    "feature_imp = feature_imp[feature_imp.Value != 0]\n",
    "plt.figure(figsize=(16, 16))\n",
    "sns.barplot(x=\"Value\", y=\"Feature\", data=feature_imp.sort_values(by=\"Value\", ascending=False).head(30), \n",
    "            palette='Blues')\n",
    "plt.title('LightGBM Feature Importance')\n",
    "plt.tight_layout()\n",
    "plt.show()\n"
   ]
  },
  {
   "cell_type": "code",
   "execution_count": 77,
   "id": "c8d395ca",
   "metadata": {
    "execution": {
     "iopub.execute_input": "2022-07-31T18:14:08.935461Z",
     "iopub.status.busy": "2022-07-31T18:14:08.934853Z",
     "iopub.status.idle": "2022-07-31T18:14:08.937741Z",
     "shell.execute_reply": "2022-07-31T18:14:08.938322Z",
     "shell.execute_reply.started": "2022-07-31T18:09:50.434715Z"
    },
    "papermill": {
     "duration": 0.227388,
     "end_time": "2022-07-31T18:14:08.938461",
     "exception": false,
     "start_time": "2022-07-31T18:14:08.711073",
     "status": "completed"
    },
    "tags": []
   },
   "outputs": [],
   "source": [
    "# Including CENSUS data"
   ]
  },
  {
   "cell_type": "code",
   "execution_count": 78,
   "id": "a385d2d5",
   "metadata": {
    "execution": {
     "iopub.execute_input": "2022-07-31T18:14:09.380412Z",
     "iopub.status.busy": "2022-07-31T18:14:09.379795Z",
     "iopub.status.idle": "2022-07-31T18:14:09.385415Z",
     "shell.execute_reply": "2022-07-31T18:14:09.385897Z",
     "shell.execute_reply.started": "2022-07-31T18:09:50.440011Z"
    },
    "papermill": {
     "duration": 0.227519,
     "end_time": "2022-07-31T18:14:09.386043",
     "exception": false,
     "start_time": "2022-07-31T18:14:09.158524",
     "status": "completed"
    },
    "tags": []
   },
   "outputs": [],
   "source": [
    "features = [\n",
    " 'delivery_points',\n",
    " 'height',\n",
    " 'age',\n",
    " 'floors',\n",
    " 'wall_mat',\n",
    " 'roof_mat',\n",
    " 'roof_wall',\n",
    " 'area',\n",
    " 'CHFL_1',\n",
    " 'CHFL_2',\n",
    " 'CHFL_3',\n",
    " 'CHFL_4',\n",
    " 'CHFL_X',\n",
    " 'CMBL_1',\n",
    " 'CMBL_2',\n",
    " 'CMBL_3',\n",
    " 'CMBL_4',\n",
    " 'CMBL_5',\n",
    " 'CMBL_6',\n",
    " 'CMBL_X',\n",
    " 'NPERR_1',\n",
    " 'NPERR_2',\n",
    " 'NPERR_3',\n",
    " 'NPERR_4',\n",
    " 'NPERR_5',\n",
    " 'NPERR_6',\n",
    " 'NPERR_Z',\n",
    " 'STATR_1',\n",
    " 'STATR_2',\n",
    " 'STATR_Z',\n",
    " 'NENFR_0',\n",
    " 'NENFR_1',\n",
    " 'NENFR_2',\n",
    " 'NENFR_3',\n",
    " 'NENFR_4',\n",
    " 'NENFR_Z',\n",
    " 'CHFL1_CMBL_1',\n",
    " 'CHFL1_CMBL_2',\n",
    " 'CHFL1_CMBL_3',\n",
    " 'CHFL1_CMBL_4',\n",
    " 'CHFL1_CMBL_5',\n",
    " 'CHFL1_CMBL_6',\n",
    " 'CHFL2_CMBL_2',\n",
    " 'CHFL2_CMBL_3',\n",
    " 'CHFL2_CMBL_4',\n",
    " 'CHFL2_CMBL_5',\n",
    " 'CHFL2_CMBL_6',\n",
    " 'qq_month_1',\n",
    " 'qq_month_2',\n",
    " 'qq_month_3',\n",
    " 'qq_month_4',\n",
    " 'qq_month_5',\n",
    " 'qq_month_6',\n",
    " 'qq_month_7',\n",
    " 'qq_month_8',\n",
    " 'qq_month_9',\n",
    " 'qq_month_10',\n",
    " 'qq_month_11',\n",
    " 'qq_month_12',\n",
    " 'mean_month_qq']"
   ]
  },
  {
   "cell_type": "code",
   "execution_count": 79,
   "id": "66f41e95",
   "metadata": {
    "execution": {
     "iopub.execute_input": "2022-07-31T18:14:09.832276Z",
     "iopub.status.busy": "2022-07-31T18:14:09.831655Z",
     "iopub.status.idle": "2022-07-31T18:14:09.843279Z",
     "shell.execute_reply": "2022-07-31T18:14:09.842714Z",
     "shell.execute_reply.started": "2022-07-31T18:09:50.452614Z"
    },
    "papermill": {
     "duration": 0.235976,
     "end_time": "2022-07-31T18:14:09.843458",
     "exception": false,
     "start_time": "2022-07-31T18:14:09.607482",
     "status": "completed"
    },
    "tags": []
   },
   "outputs": [],
   "source": [
    "X = train[features]\n",
    "y = train[target]\n",
    "y_oof_pred = np.zeros(len(y))\n",
    "\n",
    "X_test = test[features].values\n",
    "y_test_pred = np.zeros(len(X_test))"
   ]
  },
  {
   "cell_type": "code",
   "execution_count": 80,
   "id": "8646ccac",
   "metadata": {
    "execution": {
     "iopub.execute_input": "2022-07-31T18:14:10.294743Z",
     "iopub.status.busy": "2022-07-31T18:14:10.294069Z",
     "iopub.status.idle": "2022-07-31T18:17:30.094601Z",
     "shell.execute_reply": "2022-07-31T18:17:30.095242Z"
    },
    "papermill": {
     "duration": 200.027608,
     "end_time": "2022-07-31T18:17:30.095419",
     "exception": false,
     "start_time": "2022-07-31T18:14:10.067811",
     "status": "completed"
    },
    "tags": []
   },
   "outputs": [
    {
     "name": "stdout",
     "output_type": "stream",
     "text": [
      "Fold 1\n"
     ]
    },
    {
     "name": "stderr",
     "output_type": "stream",
     "text": [
      "/opt/conda/lib/python3.7/site-packages/lightgbm/engine.py:177: UserWarning: Found `num_iterations` in params. Will use it instead of argument\n",
      "  _log_warning(f\"Found `{alias}` in params. Will use it instead of argument\")\n",
      "/opt/conda/lib/python3.7/site-packages/lightgbm/engine.py:239: UserWarning: 'verbose_eval' argument is deprecated and will be removed in a future release of LightGBM. Pass 'log_evaluation()' callback via 'callbacks' argument instead.\n",
      "  _log_warning(\"'verbose_eval' argument is deprecated and will be removed in a future release of LightGBM. \"\n"
     ]
    },
    {
     "name": "stdout",
     "output_type": "stream",
     "text": [
      "Training until validation scores don't improve for 250 rounds\n",
      "[250]\ttraining's rmse: 31.941\tvalid_1's rmse: 34.4898\n",
      "[500]\ttraining's rmse: 29.0747\tvalid_1's rmse: 33.3031\n",
      "[750]\ttraining's rmse: 26.8705\tvalid_1's rmse: 32.631\n",
      "[1000]\ttraining's rmse: 25.1307\tvalid_1's rmse: 32.2294\n",
      "[1250]\ttraining's rmse: 23.6383\tvalid_1's rmse: 31.9469\n",
      "[1500]\ttraining's rmse: 22.223\tvalid_1's rmse: 31.7051\n",
      "[1750]\ttraining's rmse: 21.0723\tvalid_1's rmse: 31.5642\n",
      "[2000]\ttraining's rmse: 20.0011\tvalid_1's rmse: 31.4433\n",
      "[2250]\ttraining's rmse: 19.0234\tvalid_1's rmse: 31.3424\n",
      "[2500]\ttraining's rmse: 18.1425\tvalid_1's rmse: 31.2595\n",
      "[2750]\ttraining's rmse: 17.3101\tvalid_1's rmse: 31.1923\n",
      "[3000]\ttraining's rmse: 16.6045\tvalid_1's rmse: 31.1236\n",
      "[3250]\ttraining's rmse: 15.9129\tvalid_1's rmse: 31.0993\n",
      "[3500]\ttraining's rmse: 15.3009\tvalid_1's rmse: 31.0598\n",
      "[3750]\ttraining's rmse: 14.742\tvalid_1's rmse: 31.0325\n",
      "[4000]\ttraining's rmse: 14.2095\tvalid_1's rmse: 31.0026\n",
      "[4250]\ttraining's rmse: 13.6687\tvalid_1's rmse: 30.9897\n",
      "[4500]\ttraining's rmse: 13.2133\tvalid_1's rmse: 30.9802\n",
      "[4750]\ttraining's rmse: 12.8052\tvalid_1's rmse: 30.9666\n",
      "[5000]\ttraining's rmse: 12.4142\tvalid_1's rmse: 30.9487\n",
      "[5250]\ttraining's rmse: 12.0472\tvalid_1's rmse: 30.9386\n",
      "[5500]\ttraining's rmse: 11.6801\tvalid_1's rmse: 30.9275\n",
      "[5750]\ttraining's rmse: 11.3372\tvalid_1's rmse: 30.9149\n",
      "Early stopping, best iteration is:\n",
      "[5741]\ttraining's rmse: 11.3497\tvalid_1's rmse: 30.9137\n",
      "Fold 2\n",
      "Training until validation scores don't improve for 250 rounds"
     ]
    },
    {
     "name": "stderr",
     "output_type": "stream",
     "text": [
      "/opt/conda/lib/python3.7/site-packages/lightgbm/engine.py:177: UserWarning: Found `num_iterations` in params. Will use it instead of argument\n",
      "  _log_warning(f\"Found `{alias}` in params. Will use it instead of argument\")\n",
      "/opt/conda/lib/python3.7/site-packages/lightgbm/engine.py:239: UserWarning: 'verbose_eval' argument is deprecated and will be removed in a future release of LightGBM. Pass 'log_evaluation()' callback via 'callbacks' argument instead.\n",
      "  _log_warning(\"'verbose_eval' argument is deprecated and will be removed in a future release of LightGBM. \"\n"
     ]
    },
    {
     "name": "stdout",
     "output_type": "stream",
     "text": [
      "\n",
      "[250]\ttraining's rmse: 31.8641\tvalid_1's rmse: 34.7739\n",
      "[500]\ttraining's rmse: 28.9646\tvalid_1's rmse: 33.5898\n",
      "[750]\ttraining's rmse: 26.7885\tvalid_1's rmse: 32.9019\n",
      "[1000]\ttraining's rmse: 25.0798\tvalid_1's rmse: 32.47\n",
      "[1250]\ttraining's rmse: 23.5394\tvalid_1's rmse: 32.1383\n",
      "[1500]\ttraining's rmse: 22.2308\tvalid_1's rmse: 31.9025\n",
      "[1750]\ttraining's rmse: 21.065\tvalid_1's rmse: 31.719\n",
      "[2000]\ttraining's rmse: 20.0523\tvalid_1's rmse: 31.5795\n",
      "[2250]\ttraining's rmse: 19.0998\tvalid_1's rmse: 31.4659\n",
      "[2500]\ttraining's rmse: 18.2797\tvalid_1's rmse: 31.3976\n",
      "[2750]\ttraining's rmse: 17.5283\tvalid_1's rmse: 31.3339\n",
      "[3000]\ttraining's rmse: 16.825\tvalid_1's rmse: 31.2606\n",
      "[3250]\ttraining's rmse: 16.1668\tvalid_1's rmse: 31.2209\n",
      "[3500]\ttraining's rmse: 15.5592\tvalid_1's rmse: 31.1592\n",
      "[3750]\ttraining's rmse: 14.9797\tvalid_1's rmse: 31.1197\n",
      "[4000]\ttraining's rmse: 14.424\tvalid_1's rmse: 31.0833\n",
      "[4250]\ttraining's rmse: 13.8785\tvalid_1's rmse: 31.0735\n",
      "[4500]\ttraining's rmse: 13.3862\tvalid_1's rmse: 31.0749\n",
      "Early stopping, best iteration is:\n",
      "[4291]\ttraining's rmse: 13.8097\tvalid_1's rmse: 31.0704\n",
      "Fold 3\n"
     ]
    },
    {
     "name": "stderr",
     "output_type": "stream",
     "text": [
      "/opt/conda/lib/python3.7/site-packages/lightgbm/engine.py:177: UserWarning: Found `num_iterations` in params. Will use it instead of argument\n",
      "  _log_warning(f\"Found `{alias}` in params. Will use it instead of argument\")\n",
      "/opt/conda/lib/python3.7/site-packages/lightgbm/engine.py:239: UserWarning: 'verbose_eval' argument is deprecated and will be removed in a future release of LightGBM. Pass 'log_evaluation()' callback via 'callbacks' argument instead.\n",
      "  _log_warning(\"'verbose_eval' argument is deprecated and will be removed in a future release of LightGBM. \"\n"
     ]
    },
    {
     "name": "stdout",
     "output_type": "stream",
     "text": [
      "Training until validation scores don't improve for 250 rounds\n",
      "[250]\ttraining's rmse: 32.0892\tvalid_1's rmse: 33.9835\n",
      "[500]\ttraining's rmse: 29.1703\tvalid_1's rmse: 32.7197\n",
      "[750]\ttraining's rmse: 27.06\tvalid_1's rmse: 32.0236\n",
      "[1000]\ttraining's rmse: 25.2469\tvalid_1's rmse: 31.4701\n",
      "[1250]\ttraining's rmse: 23.7338\tvalid_1's rmse: 31.1398\n",
      "[1500]\ttraining's rmse: 22.4464\tvalid_1's rmse: 30.8854\n",
      "[1750]\ttraining's rmse: 21.2706\tvalid_1's rmse: 30.6665\n",
      "[2000]\ttraining's rmse: 20.1985\tvalid_1's rmse: 30.5135\n",
      "[2250]\ttraining's rmse: 19.2142\tvalid_1's rmse: 30.3876\n",
      "[2500]\ttraining's rmse: 18.3662\tvalid_1's rmse: 30.3003\n",
      "[2750]\ttraining's rmse: 17.5498\tvalid_1's rmse: 30.2379\n",
      "[3000]\ttraining's rmse: 16.8361\tvalid_1's rmse: 30.1775\n",
      "[3250]\ttraining's rmse: 16.1971\tvalid_1's rmse: 30.1352\n",
      "[3500]\ttraining's rmse: 15.5813\tvalid_1's rmse: 30.0877\n",
      "[3750]\ttraining's rmse: 14.9709\tvalid_1's rmse: 30.0439\n",
      "[4000]\ttraining's rmse: 14.402\tvalid_1's rmse: 30.0263\n",
      "[4250]\ttraining's rmse: 13.8735\tvalid_1's rmse: 30.0079\n",
      "[4500]\ttraining's rmse: 13.3885\tvalid_1's rmse: 29.9903\n",
      "[4750]\ttraining's rmse: 12.9401\tvalid_1's rmse: 29.9635\n",
      "[5000]\ttraining's rmse: 12.5037\tvalid_1's rmse: 29.9618\n",
      "[5250]\ttraining's rmse: 12.1002\tvalid_1's rmse: 29.9626\n",
      "[5500]\ttraining's rmse: 11.7285\tvalid_1's rmse: 29.9592\n",
      "[5750]\ttraining's rmse: 11.375\tvalid_1's rmse: 29.957\n",
      "Early stopping, best iteration is:\n",
      "[5517]\ttraining's rmse: 11.7053\tvalid_1's rmse: 29.9552\n",
      "Fold 4\n",
      "Training until validation scores don't improve for 250 rounds"
     ]
    },
    {
     "name": "stderr",
     "output_type": "stream",
     "text": [
      "/opt/conda/lib/python3.7/site-packages/lightgbm/engine.py:177: UserWarning: Found `num_iterations` in params. Will use it instead of argument\n",
      "  _log_warning(f\"Found `{alias}` in params. Will use it instead of argument\")\n",
      "/opt/conda/lib/python3.7/site-packages/lightgbm/engine.py:239: UserWarning: 'verbose_eval' argument is deprecated and will be removed in a future release of LightGBM. Pass 'log_evaluation()' callback via 'callbacks' argument instead.\n",
      "  _log_warning(\"'verbose_eval' argument is deprecated and will be removed in a future release of LightGBM. \"\n"
     ]
    },
    {
     "name": "stdout",
     "output_type": "stream",
     "text": [
      "\n",
      "[250]\ttraining's rmse: 31.861\tvalid_1's rmse: 35.0766\n",
      "[500]\ttraining's rmse: 28.8686\tvalid_1's rmse: 33.8117\n",
      "[750]\ttraining's rmse: 26.7179\tvalid_1's rmse: 33.0936\n",
      "[1000]\ttraining's rmse: 24.9561\tvalid_1's rmse: 32.6459\n",
      "[1250]\ttraining's rmse: 23.4504\tvalid_1's rmse: 32.2721\n",
      "[1500]\ttraining's rmse: 22.1594\tvalid_1's rmse: 32.0019\n",
      "[1750]\ttraining's rmse: 21.047\tvalid_1's rmse: 31.8114\n",
      "[2000]\ttraining's rmse: 19.9886\tvalid_1's rmse: 31.6425\n",
      "[2250]\ttraining's rmse: 19.0696\tvalid_1's rmse: 31.5414\n",
      "[2500]\ttraining's rmse: 18.1894\tvalid_1's rmse: 31.4665\n",
      "[2750]\ttraining's rmse: 17.4068\tvalid_1's rmse: 31.397\n",
      "[3000]\ttraining's rmse: 16.7131\tvalid_1's rmse: 31.3282\n",
      "[3250]\ttraining's rmse: 16.0593\tvalid_1's rmse: 31.2761\n",
      "[3500]\ttraining's rmse: 15.4446\tvalid_1's rmse: 31.2148\n",
      "[3750]\ttraining's rmse: 14.8314\tvalid_1's rmse: 31.1894\n",
      "[4000]\ttraining's rmse: 14.2695\tvalid_1's rmse: 31.1512\n",
      "[4250]\ttraining's rmse: 13.757\tvalid_1's rmse: 31.137\n",
      "[4500]\ttraining's rmse: 13.2912\tvalid_1's rmse: 31.1139\n",
      "[4750]\ttraining's rmse: 12.8293\tvalid_1's rmse: 31.0897\n",
      "[5000]\ttraining's rmse: 12.4062\tvalid_1's rmse: 31.062\n",
      "[5250]\ttraining's rmse: 12.029\tvalid_1's rmse: 31.0436\n",
      "[5500]\ttraining's rmse: 11.6473\tvalid_1's rmse: 31.0396\n",
      "[5750]\ttraining's rmse: 11.3019\tvalid_1's rmse: 31.0343\n",
      "[6000]\ttraining's rmse: 10.9694\tvalid_1's rmse: 31.0319\n",
      "[6250]\ttraining's rmse: 10.6512\tvalid_1's rmse: 31.0209\n",
      "[6500]\ttraining's rmse: 10.3581\tvalid_1's rmse: 31.0131\n",
      "[6750]\ttraining's rmse: 10.063\tvalid_1's rmse: 31.0096\n",
      "[7000]\ttraining's rmse: 9.78628\tvalid_1's rmse: 30.9992\n",
      "[7250]\ttraining's rmse: 9.52629\tvalid_1's rmse: 30.9934\n",
      "[7500]\ttraining's rmse: 9.29155\tvalid_1's rmse: 30.9876\n",
      "[7750]\ttraining's rmse: 9.07271\tvalid_1's rmse: 30.9796\n",
      "[8000]\ttraining's rmse: 8.86069\tvalid_1's rmse: 30.9813\n",
      "Early stopping, best iteration is:\n",
      "[7812]\ttraining's rmse: 9.01832\tvalid_1's rmse: 30.9773\n",
      "Fold 5\n",
      "Training until validation scores don't improve for 250 rounds\n"
     ]
    },
    {
     "name": "stderr",
     "output_type": "stream",
     "text": [
      "/opt/conda/lib/python3.7/site-packages/lightgbm/engine.py:177: UserWarning: Found `num_iterations` in params. Will use it instead of argument\n",
      "  _log_warning(f\"Found `{alias}` in params. Will use it instead of argument\")\n",
      "/opt/conda/lib/python3.7/site-packages/lightgbm/engine.py:239: UserWarning: 'verbose_eval' argument is deprecated and will be removed in a future release of LightGBM. Pass 'log_evaluation()' callback via 'callbacks' argument instead.\n",
      "  _log_warning(\"'verbose_eval' argument is deprecated and will be removed in a future release of LightGBM. \"\n"
     ]
    },
    {
     "name": "stdout",
     "output_type": "stream",
     "text": [
      "[250]\ttraining's rmse: 31.8407\tvalid_1's rmse: 34.8719\n",
      "[500]\ttraining's rmse: 28.9221\tvalid_1's rmse: 33.7281\n",
      "[750]\ttraining's rmse: 26.7526\tvalid_1's rmse: 33.058\n",
      "[1000]\ttraining's rmse: 25.0156\tvalid_1's rmse: 32.6395\n",
      "[1250]\ttraining's rmse: 23.4741\tvalid_1's rmse: 32.3161\n",
      "[1500]\ttraining's rmse: 22.1496\tvalid_1's rmse: 32.0738\n",
      "[1750]\ttraining's rmse: 20.9815\tvalid_1's rmse: 31.9196\n",
      "[2000]\ttraining's rmse: 19.9589\tvalid_1's rmse: 31.7644\n",
      "[2250]\ttraining's rmse: 19.0411\tvalid_1's rmse: 31.6658\n",
      "[2500]\ttraining's rmse: 18.1896\tvalid_1's rmse: 31.5838\n",
      "[2750]\ttraining's rmse: 17.3759\tvalid_1's rmse: 31.4947\n",
      "[3000]\ttraining's rmse: 16.6166\tvalid_1's rmse: 31.4104\n",
      "[3250]\ttraining's rmse: 15.9444\tvalid_1's rmse: 31.3448\n",
      "[3500]\ttraining's rmse: 15.3079\tvalid_1's rmse: 31.2837\n",
      "[3750]\ttraining's rmse: 14.7332\tvalid_1's rmse: 31.2438\n",
      "[4000]\ttraining's rmse: 14.2144\tvalid_1's rmse: 31.2239\n",
      "[4250]\ttraining's rmse: 13.7247\tvalid_1's rmse: 31.2067\n",
      "[4500]\ttraining's rmse: 13.2691\tvalid_1's rmse: 31.1712\n",
      "[4750]\ttraining's rmse: 12.8269\tvalid_1's rmse: 31.1575\n",
      "[5000]\ttraining's rmse: 12.4232\tvalid_1's rmse: 31.1378\n",
      "[5250]\ttraining's rmse: 12.0215\tvalid_1's rmse: 31.1161\n",
      "[5500]\ttraining's rmse: 11.6521\tvalid_1's rmse: 31.1107\n",
      "Early stopping, best iteration is:\n",
      "[5397]\ttraining's rmse: 11.7932\tvalid_1's rmse: 31.1066\n",
      "Mean RMSE: 30.804673715724505\n",
      "Mean RMSE: 30.807684038389667\n",
      "Mean RMSE in test over the n folds: 30.259489509049917\n"
     ]
    }
   ],
   "source": [
    "error = 0\n",
    "SEED=42\n",
    "\n",
    "num_folds = 5\n",
    "kf = KFold(n_splits = num_folds)\n",
    "\n",
    "for i, (train_index, val_index) in enumerate(kf.split(X, y)):  \n",
    "    print(f\"Fold {i+1}\")\n",
    "\n",
    "    X_train = X.loc[train_index].values\n",
    "    X_val = X.loc[val_index].values\n",
    "    y_train = y[train_index].values\n",
    "    y_val = y[val_index].values\n",
    "\n",
    "    lgb_train = lgb.Dataset(X_train, y_train)\n",
    "    lgb_eval = lgb.Dataset(X_val, y_val)\n",
    "\n",
    "    params_lgb = {\n",
    "        'objective' : 'regression',\n",
    "        'metric': 'rmse',\n",
    "        'force_col_wise': True,\n",
    "        'seed' : SEED,\n",
    "        'num_iterations' : 15000,\n",
    "        'early_stopping_rounds' : 250,\n",
    "        'learning_rate' : 0.05,\n",
    "        'max_depth' : 8,\n",
    "        'num_leaves' : 32,\n",
    "        'feature_fraction': 0.9,\n",
    "        'lambda_l1' : 0.1,\n",
    "        'lambda_l2' : 0.1,\n",
    "        'verbose' : -1\n",
    "    }\n",
    "\n",
    "    model = lgb.train(params=params_lgb,\n",
    "                      train_set=lgb_train,\n",
    "                      valid_sets = (lgb_train, lgb_eval),\n",
    "                      verbose_eval = 250,\n",
    "                     )\n",
    "\n",
    "\n",
    "    y_val_pred = model.predict(X_val)\n",
    "    y_test_pred += model.predict(X_test)\n",
    "    \n",
    "    rmse_fold = np.sqrt(mean_squared_error(y_val_pred, y_val))\n",
    "    error += rmse_fold\n",
    "    y_oof_pred[val_index] = y_val_pred\n",
    "\n",
    "\n",
    "print(f\"Mean RMSE: {error/num_folds}\")\n",
    "print(f\"Mean RMSE: {np.sqrt(mean_squared_error(y_oof_pred, y))}\")\n",
    "\n",
    "\n",
    "# Calculate evaluation metric for out of fold validation set\n",
    "y_test_pred = y_test_pred / num_folds\n",
    "print(f\"Mean RMSE in test over the n folds: {np.sqrt(mean_squared_error(y_test_pred, y_test))}\")\n"
   ]
  },
  {
   "cell_type": "code",
   "execution_count": 81,
   "id": "3779f1ee",
   "metadata": {
    "execution": {
     "iopub.execute_input": "2022-07-31T18:17:30.677241Z",
     "iopub.status.busy": "2022-07-31T18:17:30.676505Z",
     "iopub.status.idle": "2022-07-31T18:19:16.620853Z",
     "shell.execute_reply": "2022-07-31T18:19:16.621405Z"
    },
    "papermill": {
     "duration": 106.238649,
     "end_time": "2022-07-31T18:19:16.621579",
     "exception": false,
     "start_time": "2022-07-31T18:17:30.382930",
     "status": "completed"
    },
    "tags": []
   },
   "outputs": [
    {
     "name": "stderr",
     "output_type": "stream",
     "text": [
      "/opt/conda/lib/python3.7/site-packages/lightgbm/engine.py:177: UserWarning: Found `num_iterations` in params. Will use it instead of argument\n",
      "  _log_warning(f\"Found `{alias}` in params. Will use it instead of argument\")\n"
     ]
    },
    {
     "name": "stdout",
     "output_type": "stream",
     "text": [
      "Mean RMSE in test with the final model: 30.659416459809165\n"
     ]
    }
   ],
   "source": [
    "#Train on the whole dataset\n",
    "lgb_final = lgb.Dataset(X, y)\n",
    "params_lgb = {\n",
    "    'objective' : 'regression',\n",
    "    'metric': 'rmse',\n",
    "    'force_col_wise': True,\n",
    "    'seed' : SEED,\n",
    "    'num_iterations' : 15000,\n",
    "    'learning_rate' : 0.05,\n",
    "    'max_depth' : 8,\n",
    "    'num_leaves' : 32,\n",
    "    'feature_fraction': 0.9,\n",
    "    'lambda_l1' : 0.1,\n",
    "    'lambda_l2' : 0.1,\n",
    "    'verbose' : -1\n",
    "}\n",
    "\n",
    "model = lgb.train(params=params_lgb,\n",
    "                  train_set=lgb_final\n",
    "                 )\n",
    "\n",
    "\n",
    "y_final_pred = model.predict(X_test)\n",
    "print(f\"Mean RMSE in test with the final model: {np.sqrt(mean_squared_error(y_final_pred, y_test))}\")\n"
   ]
  },
  {
   "cell_type": "code",
   "execution_count": 82,
   "id": "537c0a1f",
   "metadata": {
    "execution": {
     "iopub.execute_input": "2022-07-31T18:19:17.199968Z",
     "iopub.status.busy": "2022-07-31T18:19:17.199211Z",
     "iopub.status.idle": "2022-07-31T18:19:17.675824Z",
     "shell.execute_reply": "2022-07-31T18:19:17.675281Z"
    },
    "papermill": {
     "duration": 0.769446,
     "end_time": "2022-07-31T18:19:17.675960",
     "exception": false,
     "start_time": "2022-07-31T18:19:16.906514",
     "status": "completed"
    },
    "tags": []
   },
   "outputs": [
    {
     "data": {
      "image/png": "[encoded data removed]",
      "text/plain": [
       "<Figure size 1152x1152 with 1 Axes>"
      ]
     },
     "metadata": {
      "needs_background": "light"
     },
     "output_type": "display_data"
    }
   ],
   "source": [
    "feature_imp = pd.DataFrame(sorted(zip(model.feature_importance(importance_type='split'), features),reverse = True), columns=['Value','Feature'])\n",
    "feature_imp = feature_imp[feature_imp.Value != 0]\n",
    "plt.figure(figsize=(16, 16))\n",
    "sns.barplot(x=\"Value\", y=\"Feature\", data=feature_imp.sort_values(by=\"Value\", ascending=False).head(30), \n",
    "            palette='Blues')\n",
    "plt.title('LightGBM Feature Importance')\n",
    "plt.tight_layout()\n",
    "plt.show()"
   ]
  },
  {
   "cell_type": "code",
   "execution_count": 83,
   "id": "f449bea1",
   "metadata": {
    "execution": {
     "iopub.execute_input": "2022-07-31T18:19:18.274191Z",
     "iopub.status.busy": "2022-07-31T18:19:18.273438Z",
     "iopub.status.idle": "2022-07-31T18:19:18.768234Z",
     "shell.execute_reply": "2022-07-31T18:19:18.767533Z"
    },
    "papermill": {
     "duration": 0.795374,
     "end_time": "2022-07-31T18:19:18.768386",
     "exception": false,
     "start_time": "2022-07-31T18:19:17.973012",
     "status": "completed"
    },
    "tags": []
   },
   "outputs": [
    {
     "data": {
      "image/png": "[encoded data removed]",
      "text/plain": [
       "<Figure size 1152x1152 with 1 Axes>"
      ]
     },
     "metadata": {
      "needs_background": "light"
     },
     "output_type": "display_data"
    }
   ],
   "source": [
    "feature_imp = pd.DataFrame(sorted(zip(model.feature_importance(importance_type='gain'), features),reverse = True), columns=['Value','Feature'])\n",
    "feature_imp = feature_imp[feature_imp.Value != 0]\n",
    "plt.figure(figsize=(16, 16))\n",
    "sns.barplot(x=\"Value\", y=\"Feature\", data=feature_imp.sort_values(by=\"Value\", ascending=False).head(30), \n",
    "            palette='Blues')\n",
    "plt.title('LightGBM Feature Importance')\n",
    "plt.tight_layout()\n",
    "plt.show()"
   ]
  },
  {
   "cell_type": "code",
   "execution_count": 84,
   "id": "c497b0f7",
   "metadata": {
    "execution": {
     "iopub.execute_input": "2022-07-31T18:19:19.223545Z",
     "iopub.status.busy": "2022-07-31T18:19:19.222869Z",
     "iopub.status.idle": "2022-07-31T19:04:46.237044Z",
     "shell.execute_reply": "2022-07-31T19:04:46.237477Z"
    },
    "papermill": {
     "duration": 2727.218136,
     "end_time": "2022-07-31T19:04:46.237797",
     "exception": false,
     "start_time": "2022-07-31T18:19:19.019661",
     "status": "completed"
    },
    "tags": []
   },
   "outputs": [
    {
     "data": {
      "image/png": "[encoded data removed]",
      "text/plain": [
       "<Figure size 576x684 with 1 Axes>"
      ]
     },
     "metadata": {
      "needs_background": "light"
     },
     "output_type": "display_data"
    }
   ],
   "source": [
    "import shap\n",
    "shap_values = shap.TreeExplainer(model).shap_values(X)\n",
    "shap.summary_plot(shap_values, X, plot_type=\"bar\")"
   ]
  },
  {
   "cell_type": "code",
   "execution_count": 85,
   "id": "d69bce66",
   "metadata": {
    "execution": {
     "iopub.execute_input": "2022-07-31T19:04:46.710871Z",
     "iopub.status.busy": "2022-07-31T19:04:46.709520Z",
     "iopub.status.idle": "2022-07-31T19:04:55.186297Z",
     "shell.execute_reply": "2022-07-31T19:04:55.185760Z"
    },
    "papermill": {
     "duration": 8.75596,
     "end_time": "2022-07-31T19:04:55.186468",
     "exception": false,
     "start_time": "2022-07-31T19:04:46.430508",
     "status": "completed"
    },
    "tags": []
   },
   "outputs": [
    {
     "data": {
      "image/png": "[encoded data removed]",
      "text/plain": [
       "<Figure size 576x684 with 2 Axes>"
      ]
     },
     "metadata": {
      "needs_background": "light"
     },
     "output_type": "display_data"
    }
   ],
   "source": [
    "shap.summary_plot(shap_values, X)"
   ]
  },
  {
   "cell_type": "markdown",
   "id": "b81e92a7",
   "metadata": {
    "papermill": {
     "duration": 0.297835,
     "end_time": "2022-07-31T19:04:55.781564",
     "exception": false,
     "start_time": "2022-07-31T19:04:55.483729",
     "status": "completed"
    },
    "tags": []
   },
   "source": [
    "# Random Forest"
   ]
  },
  {
   "cell_type": "code",
   "execution_count": 86,
   "id": "6182a70f",
   "metadata": {
    "execution": {
     "iopub.execute_input": "2022-07-31T19:04:56.372834Z",
     "iopub.status.busy": "2022-07-31T19:04:56.369092Z",
     "iopub.status.idle": "2022-07-31T19:04:56.374663Z",
     "shell.execute_reply": "2022-07-31T19:04:56.375172Z"
    },
    "papermill": {
     "duration": 0.301666,
     "end_time": "2022-07-31T19:04:56.375364",
     "exception": false,
     "start_time": "2022-07-31T19:04:56.073698",
     "status": "completed"
    },
    "tags": []
   },
   "outputs": [],
   "source": [
    "features = [\n",
    " 'delivery_points',\n",
    " 'height',\n",
    " 'age',\n",
    " 'floors',\n",
    " 'wall_mat',\n",
    " 'roof_mat',\n",
    " 'roof_wall',\n",
    " 'area',\n",
    " 'qq_month_1',\n",
    " 'qq_month_2',\n",
    " 'qq_month_3',\n",
    " 'qq_month_4',\n",
    " 'qq_month_5',\n",
    " 'qq_month_6',\n",
    " 'qq_month_7',\n",
    " 'qq_month_8',\n",
    " 'qq_month_9',\n",
    " 'qq_month_10',\n",
    " 'qq_month_11',\n",
    " 'qq_month_12',\n",
    " 'mean_month_qq']"
   ]
  },
  {
   "cell_type": "code",
   "execution_count": 87,
   "id": "10bc4a4c",
   "metadata": {
    "execution": {
     "iopub.execute_input": "2022-07-31T19:04:56.958961Z",
     "iopub.status.busy": "2022-07-31T19:04:56.958341Z",
     "iopub.status.idle": "2022-07-31T19:04:57.009502Z",
     "shell.execute_reply": "2022-07-31T19:04:57.008826Z"
    },
    "papermill": {
     "duration": 0.343314,
     "end_time": "2022-07-31T19:04:57.009650",
     "exception": false,
     "start_time": "2022-07-31T19:04:56.666336",
     "status": "completed"
    },
    "tags": []
   },
   "outputs": [],
   "source": [
    "X = train.fillna(0)[features]\n",
    "y = train.fillna(0)[target]\n",
    "y_oof_pred = np.zeros(len(y))\n",
    "\n",
    "X_test = test.fillna(0)[features]\n",
    "y_test_pred = np.zeros(len(X_test))"
   ]
  },
  {
   "cell_type": "code",
   "execution_count": 88,
   "id": "796fd42f",
   "metadata": {
    "execution": {
     "iopub.execute_input": "2022-07-31T19:04:57.607387Z",
     "iopub.status.busy": "2022-07-31T19:04:57.606491Z",
     "iopub.status.idle": "2022-07-31T19:05:29.931259Z",
     "shell.execute_reply": "2022-07-31T19:05:29.931795Z"
    },
    "papermill": {
     "duration": 32.628197,
     "end_time": "2022-07-31T19:05:29.931966",
     "exception": false,
     "start_time": "2022-07-31T19:04:57.303769",
     "status": "completed"
    },
    "tags": []
   },
   "outputs": [
    {
     "name": "stdout",
     "output_type": "stream",
     "text": [
      "Fold 1\n",
      "Fold 2\n",
      "Fold 3\n",
      "Fold 4\n",
      "Fold 5\n",
      "Mean RMSE: 42.31540953696613\n",
      "Mean RMSE: 42.316748311419836\n",
      "Mean RMSE in test over the n folds: 42.2740444187372\n"
     ]
    }
   ],
   "source": [
    "from sklearn.ensemble import RandomForestRegressor\n",
    "error = 0\n",
    "SEED=42\n",
    "\n",
    "num_folds = 5\n",
    "kf = KFold(n_splits = num_folds)\n",
    "\n",
    "for i, (train_index, val_index) in enumerate(kf.split(X, y)):  \n",
    "    print(f\"Fold {i+1}\")\n",
    "\n",
    "    X_train = X.loc[train_index]\n",
    "    X_val = X.loc[val_index]\n",
    "    y_train = y[train_index]\n",
    "    y_val = y[val_index]\n",
    "\n",
    "    rf= RandomForestRegressor(\n",
    "            n_estimators = 100,\n",
    "            max_depth    = 6,\n",
    "            max_features = 10,\n",
    "            random_state = SEED\n",
    "         )\n",
    "\n",
    "    rf.fit(X_train, y_train)\n",
    "    y_val_pred = rf.predict(X_val)\n",
    "    y_test_pred += rf.predict(X_test)\n",
    "    \n",
    "    rmse_fold = np.sqrt(mean_squared_error(y_val_pred, y_val))\n",
    "    error += rmse_fold\n",
    "    y_oof_pred[val_index] = y_val_pred\n",
    "\n",
    "\n",
    "print(f\"Mean RMSE: {error/num_folds}\")\n",
    "print(f\"Mean RMSE: {np.sqrt(mean_squared_error(y_oof_pred, y))}\")\n",
    "\n",
    "\n",
    "# Calculate evaluation metric for out of fold validation set\n",
    "y_test_pred = y_test_pred / num_folds\n",
    "print(f\"Mean RMSE in test over the n folds: {np.sqrt(mean_squared_error(y_test_pred, y_test))}\")"
   ]
  },
  {
   "cell_type": "code",
   "execution_count": 89,
   "id": "9c65b364",
   "metadata": {
    "execution": {
     "iopub.execute_input": "2022-07-31T19:05:30.529257Z",
     "iopub.status.busy": "2022-07-31T19:05:30.528606Z",
     "iopub.status.idle": "2022-07-31T19:05:38.134551Z",
     "shell.execute_reply": "2022-07-31T19:05:38.135130Z"
    },
    "papermill": {
     "duration": 7.905188,
     "end_time": "2022-07-31T19:05:38.135297",
     "exception": false,
     "start_time": "2022-07-31T19:05:30.230109",
     "status": "completed"
    },
    "tags": []
   },
   "outputs": [
    {
     "name": "stdout",
     "output_type": "stream",
     "text": [
      "Mean RMSE in test with the final model: 42.30680317973372\n"
     ]
    }
   ],
   "source": [
    "#Train on the whole dataset\n",
    "rf_final= RandomForestRegressor(\n",
    "            n_estimators = 100,\n",
    "            max_depth    = 6,\n",
    "            max_features = 10,\n",
    "            random_state = SEED\n",
    "         )\n",
    "\n",
    "rf_final.fit(X, y)\n",
    "\n",
    "\n",
    "y_final_pred = rf_final.predict(X_test)\n",
    "print(f\"Mean RMSE in test with the final model: {np.sqrt(mean_squared_error(y_final_pred, y_test))}\")\n"
   ]
  },
  {
   "cell_type": "code",
   "execution_count": 90,
   "id": "9b528cad",
   "metadata": {
    "execution": {
     "iopub.execute_input": "2022-07-31T19:05:38.740018Z",
     "iopub.status.busy": "2022-07-31T19:05:38.739374Z",
     "iopub.status.idle": "2022-07-31T19:05:38.741909Z",
     "shell.execute_reply": "2022-07-31T19:05:38.742405Z"
    },
    "papermill": {
     "duration": 0.3103,
     "end_time": "2022-07-31T19:05:38.742573",
     "exception": false,
     "start_time": "2022-07-31T19:05:38.432273",
     "status": "completed"
    },
    "tags": []
   },
   "outputs": [],
   "source": [
    "#Random forest with census variables"
   ]
  },
  {
   "cell_type": "code",
   "execution_count": 91,
   "id": "4859be0d",
   "metadata": {
    "execution": {
     "iopub.execute_input": "2022-07-31T19:05:39.350984Z",
     "iopub.status.busy": "2022-07-31T19:05:39.344965Z",
     "iopub.status.idle": "2022-07-31T19:05:39.353379Z",
     "shell.execute_reply": "2022-07-31T19:05:39.353950Z"
    },
    "papermill": {
     "duration": 0.312934,
     "end_time": "2022-07-31T19:05:39.354113",
     "exception": false,
     "start_time": "2022-07-31T19:05:39.041179",
     "status": "completed"
    },
    "tags": []
   },
   "outputs": [],
   "source": [
    "features = [\n",
    " 'delivery_points',\n",
    " 'height',\n",
    " 'age',\n",
    " 'floors',\n",
    " 'wall_mat',\n",
    " 'roof_mat',\n",
    " 'roof_wall',\n",
    " 'area',\n",
    " 'CHFL_1',\n",
    " 'CHFL_2',\n",
    " 'CHFL_3',\n",
    " 'CHFL_4',\n",
    " 'CHFL_X',\n",
    " 'CMBL_1',\n",
    " 'CMBL_2',\n",
    " 'CMBL_3',\n",
    " 'CMBL_4',\n",
    " 'CMBL_5',\n",
    " 'CMBL_6',\n",
    " 'CMBL_X',\n",
    " 'NPERR_1',\n",
    " 'NPERR_2',\n",
    " 'NPERR_3',\n",
    " 'NPERR_4',\n",
    " 'NPERR_5',\n",
    " 'NPERR_6',\n",
    " 'NPERR_Z',\n",
    " 'STATR_1',\n",
    " 'STATR_2',\n",
    " 'STATR_Z',\n",
    " 'NENFR_0',\n",
    " 'NENFR_1',\n",
    " 'NENFR_2',\n",
    " 'NENFR_3',\n",
    " 'NENFR_4',\n",
    " 'NENFR_Z',\n",
    " 'CHFL1_CMBL_1',\n",
    " 'CHFL1_CMBL_2',\n",
    " 'CHFL1_CMBL_3',\n",
    " 'CHFL1_CMBL_4',\n",
    " 'CHFL1_CMBL_5',\n",
    " 'CHFL1_CMBL_6',\n",
    " 'CHFL2_CMBL_2',\n",
    " 'CHFL2_CMBL_3',\n",
    " 'CHFL2_CMBL_4',\n",
    " 'CHFL2_CMBL_5',\n",
    " 'CHFL2_CMBL_6',\n",
    " 'qq_month_1',\n",
    " 'qq_month_2',\n",
    " 'qq_month_3',\n",
    " 'qq_month_4',\n",
    " 'qq_month_5',\n",
    " 'qq_month_6',\n",
    " 'qq_month_7',\n",
    " 'qq_month_8',\n",
    " 'qq_month_9',\n",
    " 'qq_month_10',\n",
    " 'qq_month_11',\n",
    " 'qq_month_12',\n",
    " 'mean_month_qq']"
   ]
  },
  {
   "cell_type": "code",
   "execution_count": 92,
   "id": "78ada720",
   "metadata": {
    "execution": {
     "iopub.execute_input": "2022-07-31T19:05:39.957482Z",
     "iopub.status.busy": "2022-07-31T19:05:39.956655Z",
     "iopub.status.idle": "2022-07-31T19:05:40.013044Z",
     "shell.execute_reply": "2022-07-31T19:05:40.013568Z"
    },
    "papermill": {
     "duration": 0.361752,
     "end_time": "2022-07-31T19:05:40.013758",
     "exception": false,
     "start_time": "2022-07-31T19:05:39.652006",
     "status": "completed"
    },
    "tags": []
   },
   "outputs": [],
   "source": [
    "X = train.fillna(0)[features]\n",
    "y = train.fillna(0)[target]\n",
    "y_oof_pred = np.zeros(len(y))\n",
    "\n",
    "X_test = test.fillna(0)[features]\n",
    "y_test_pred = np.zeros(len(X_test))"
   ]
  },
  {
   "cell_type": "code",
   "execution_count": 93,
   "id": "f8e360c5",
   "metadata": {
    "execution": {
     "iopub.execute_input": "2022-07-31T19:05:40.623748Z",
     "iopub.status.busy": "2022-07-31T19:05:40.622866Z",
     "iopub.status.idle": "2022-07-31T19:06:09.830170Z",
     "shell.execute_reply": "2022-07-31T19:06:09.830548Z"
    },
    "papermill": {
     "duration": 29.513972,
     "end_time": "2022-07-31T19:06:09.830693",
     "exception": false,
     "start_time": "2022-07-31T19:05:40.316721",
     "status": "completed"
    },
    "tags": []
   },
   "outputs": [
    {
     "name": "stdout",
     "output_type": "stream",
     "text": [
      "Fold 1\n",
      "Fold 2\n",
      "Fold 3\n",
      "Fold 4\n",
      "Fold 5\n",
      "Mean RMSE: 40.90764157709525\n",
      "Mean RMSE: 40.90931441027145\n",
      "Mean RMSE in test over the n folds: 40.750580608827846\n"
     ]
    }
   ],
   "source": [
    "from sklearn.ensemble import RandomForestRegressor\n",
    "error = 0\n",
    "SEED=42\n",
    "\n",
    "num_folds = 5\n",
    "kf = KFold(n_splits = num_folds)\n",
    "\n",
    "for i, (train_index, val_index) in enumerate(kf.split(X, y)):  \n",
    "    print(f\"Fold {i+1}\")\n",
    "\n",
    "    X_train = X.loc[train_index]\n",
    "    X_val = X.loc[val_index]\n",
    "    y_train = y[train_index]\n",
    "    y_val = y[val_index]\n",
    "\n",
    "    rf= RandomForestRegressor(\n",
    "            n_estimators = 100,\n",
    "            max_depth    = 6,\n",
    "            max_features = 10,\n",
    "            random_state = SEED\n",
    "         )\n",
    "\n",
    "    rf.fit(X_train, y_train)\n",
    "    y_val_pred = rf.predict(X_val)\n",
    "    y_test_pred += rf.predict(X_test)\n",
    "    \n",
    "    rmse_fold = np.sqrt(mean_squared_error(y_val_pred, y_val))\n",
    "    error += rmse_fold\n",
    "    y_oof_pred[val_index] = y_val_pred\n",
    "\n",
    "\n",
    "print(f\"Mean RMSE: {error/num_folds}\")\n",
    "print(f\"Mean RMSE: {np.sqrt(mean_squared_error(y_oof_pred, y))}\")\n",
    "\n",
    "\n",
    "# Calculate evaluation metric for out of fold validation set\n",
    "y_test_pred = y_test_pred / num_folds\n",
    "print(f\"Mean RMSE in test over the n folds: {np.sqrt(mean_squared_error(y_test_pred, y_test))}\")"
   ]
  },
  {
   "cell_type": "code",
   "execution_count": 94,
   "id": "df8d4b82",
   "metadata": {
    "execution": {
     "iopub.execute_input": "2022-07-31T19:06:10.243432Z",
     "iopub.status.busy": "2022-07-31T19:06:10.240614Z",
     "iopub.status.idle": "2022-07-31T19:06:17.566532Z",
     "shell.execute_reply": "2022-07-31T19:06:17.567180Z"
    },
    "papermill": {
     "duration": 7.53173,
     "end_time": "2022-07-31T19:06:17.567348",
     "exception": false,
     "start_time": "2022-07-31T19:06:10.035618",
     "status": "completed"
    },
    "tags": []
   },
   "outputs": [
    {
     "name": "stdout",
     "output_type": "stream",
     "text": [
      "Mean RMSE in test with the final model: 40.82521876933704\n"
     ]
    }
   ],
   "source": [
    "#Train on the whole dataset\n",
    "rf_final= RandomForestRegressor(\n",
    "            n_estimators = 100,\n",
    "            max_depth    = 6,\n",
    "            max_features = 10,\n",
    "            random_state = SEED\n",
    "         )\n",
    "\n",
    "rf_final.fit(X, y)\n",
    "\n",
    "\n",
    "y_final_pred = rf_final.predict(X_test)\n",
    "print(f\"Mean RMSE in test with the final model: {np.sqrt(mean_squared_error(y_final_pred, y_test))}\")"
   ]
  },
  {
   "cell_type": "code",
   "execution_count": null,
   "id": "78369a25",
   "metadata": {
    "papermill": {
     "duration": 0.308341,
     "end_time": "2022-07-31T19:06:18.185575",
     "exception": false,
     "start_time": "2022-07-31T19:06:17.877234",
     "status": "completed"
    },
    "tags": []
   },
   "outputs": [],
   "source": []
  },
  {
   "cell_type": "code",
   "execution_count": null,
   "id": "5b35984f",
   "metadata": {
    "papermill": {
     "duration": 0.219623,
     "end_time": "2022-07-31T19:06:18.718153",
     "exception": false,
     "start_time": "2022-07-31T19:06:18.498530",
     "status": "completed"
    },
    "tags": []
   },
   "outputs": [],
   "source": []
  },
  {
   "cell_type": "code",
   "execution_count": null,
   "id": "7e7b5c88",
   "metadata": {
    "papermill": {
     "duration": 0.202986,
     "end_time": "2022-07-31T19:06:19.129170",
     "exception": false,
     "start_time": "2022-07-31T19:06:18.926184",
     "status": "completed"
    },
    "tags": []
   },
   "outputs": [],
   "source": []
  },
  {
   "cell_type": "code",
   "execution_count": null,
   "id": "9d57538b",
   "metadata": {
    "papermill": {
     "duration": 0.201525,
     "end_time": "2022-07-31T19:06:19.531590",
     "exception": false,
     "start_time": "2022-07-31T19:06:19.330065",
     "status": "completed"
    },
    "tags": []
   },
   "outputs": [],
   "source": []
  },
  {
   "cell_type": "code",
   "execution_count": null,
   "id": "15016f75",
   "metadata": {
    "papermill": {
     "duration": 0.203973,
     "end_time": "2022-07-31T19:06:19.940325",
     "exception": false,
     "start_time": "2022-07-31T19:06:19.736352",
     "status": "completed"
    },
    "tags": []
   },
   "outputs": [],
   "source": []
  },
  {
   "cell_type": "code",
   "execution_count": null,
   "id": "fb2d0ff4",
   "metadata": {
    "papermill": {
     "duration": 0.200963,
     "end_time": "2022-07-31T19:06:20.352008",
     "exception": false,
     "start_time": "2022-07-31T19:06:20.151045",
     "status": "completed"
    },
    "tags": []
   },
   "outputs": [],
   "source": []
  },
  {
   "cell_type": "code",
   "execution_count": null,
   "id": "209266c5",
   "metadata": {
    "papermill": {
     "duration": 0.20204,
     "end_time": "2022-07-31T19:06:20.759370",
     "exception": false,
     "start_time": "2022-07-31T19:06:20.557330",
     "status": "completed"
    },
    "tags": []
   },
   "outputs": [],
   "source": []
  }
 ],
 "metadata": {
  "kernelspec": {
   "display_name": "Python 3",
   "language": "python",
   "name": "python3"
  },
  "language_info": {
   "codemirror_mode": {
    "name": "ipython",
    "version": 3
   },
   "file_extension": ".py",
   "mimetype": "text/x-python",
   "name": "python",
   "nbconvert_exporter": "python",
   "pygments_lexer": "ipython3",
   "version": "3.7.12"
  },
  "papermill": {
   "default_parameters": {},
   "duration": 3365.981669,
   "end_time": "2022-07-31T19:06:22.285872",
   "environment_variables": {},
   "exception": null,
   "input_path": "__notebook__.ipynb",
   "output_path": "__notebook__.ipynb",
   "parameters": {},
   "start_time": "2022-07-31T18:10:16.304203",
   "version": "2.3.3"
  }
 },
 "nbformat": 4,
 "nbformat_minor": 5
}
